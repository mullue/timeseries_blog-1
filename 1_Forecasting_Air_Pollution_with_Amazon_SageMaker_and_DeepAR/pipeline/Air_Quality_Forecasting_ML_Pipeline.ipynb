{
 "cells": [
  {
   "cell_type": "markdown",
   "metadata": {},
   "source": [
    "# ML Pipeline for \"Forecasting Air Quality with Amazon SageMaker DeepAR\n",
    "\n",
    "In this example, we are going to build a ML Pipeline to automate air quality forecasting application with [AWS Step Functions Data Science SDK](https://aws-step-functions-data-science-sdk.readthedocs.io). "
   ]
  },
  {
   "cell_type": "markdown",
   "metadata": {},
   "source": [
    "## ML Pipeline\n",
    "\n",
    "### Outcome\n",
    "* Create the flow for ML process for air quality forcasting build/train/deploy\n",
    "* Create simple retrain flow\n",
    "\n",
    "### Design\n",
    "* Use Step Functions Data Science SDK to orchestrate the ML flow\n",
    "* Use SageMaker Processing to do data preprocessing, especially,\n",
    " * A common Docker image will be build for data retrieving (interact with Amazon Athena) and data/feature engineering\n",
    "* Use SageMaker Processing to do Model Evaluation\n",
    "* A scheduled job mechanism will be used to do model retraining."
   ]
  },
  {
   "cell_type": "markdown",
   "metadata": {},
   "source": [
    "## Implementation"
   ]
  },
  {
   "cell_type": "markdown",
   "metadata": {},
   "source": [
    "### Initialize Environment"
   ]
  },
  {
   "cell_type": "code",
   "execution_count": 3,
   "metadata": {},
   "outputs": [
    {
     "name": "stdout",
     "output_type": "stream",
     "text": [
      "The autoreload extension is already loaded. To reload it, use:\n",
      "  %reload_ext autoreload\n"
     ]
    }
   ],
   "source": [
    "%load_ext autoreload\n",
    "%autoreload 2"
   ]
  },
  {
   "cell_type": "code",
   "execution_count": null,
   "metadata": {},
   "outputs": [],
   "source": [
    "import sys\n",
    "!{sys.executable} -m pip install --upgrade pip\n",
    "!{sys.executable} -m pip install -qU awscli boto3 \"sagemaker==1.72.0\"\n",
    "!{sys.executable} -m pip install -qU \"stepfunctions==1.1.1\"\n",
    "!{sys.executable} -m pip show sagemaker stepfunctions"
   ]
  },
  {
   "cell_type": "code",
   "execution_count": 37,
   "metadata": {},
   "outputs": [],
   "source": [
    "import uuid\n",
    "import time\n",
    "import boto3\n",
    "import os, urllib.request\n",
    "import stepfunctions\n",
    "from stepfunctions import steps\n",
    "from stepfunctions.inputs import ExecutionInput\n",
    "from stepfunctions.steps.sagemaker import *\n",
    "from stepfunctions.steps.states import *\n",
    "from stepfunctions.workflow import Workflow\n",
    "\n",
    "import sagemaker\n",
    "from sagemaker import get_execution_role\n",
    "from sagemaker.amazon.amazon_estimator import get_image_uri\n",
    "from sagemaker.processing import ProcessingInput, ProcessingOutput\n",
    "from sagemaker.tuner import HyperparameterTuner, ContinuousParameter, IntegerParameter\n",
    "from sagemaker.model import Model\n",
    "\n",
    "session = boto3.Session()\n",
    "region = session.region_name\n",
    "account_id = session.client('sts').get_caller_identity().get('Account')\n",
    "bucket_name = f'{account_id}-openaq-forecasting'\n",
    "\n",
    "sagemaker_session = sagemaker.Session()\n",
    "role = get_execution_role()"
   ]
  },
  {
   "cell_type": "code",
   "execution_count": 38,
   "metadata": {},
   "outputs": [],
   "source": [
    "# upload existing model artifact to working bucket\n",
    "s3 = boto3.client('s3')\n",
    "\n",
    "os.makedirs('model', exist_ok=True)\n",
    "urllib.request.urlretrieve('https://d8pl0xx4oqh22.cloudfront.net/model.tar.gz', 'model/model.tar.gz')\n",
    "s3.upload_file('model/model.tar.gz', bucket_name, 'sagemaker/model/model.tar.gz')"
   ]
  },
  {
   "cell_type": "code",
   "execution_count": 39,
   "metadata": {},
   "outputs": [],
   "source": [
    "EXISTING_MODEL_URI = f\"s3://{bucket_name}/sagemaker/model/model.tar.gz\""
   ]
  },
  {
   "cell_type": "markdown",
   "metadata": {},
   "source": [
    "### Build Docker image for SageMaker Processing\n",
    "\n",
    "Define your own processing container and install related dependencies.\n",
    "\n",
    "Below, you talk through how to create a processing container, and how to use a `ScriptProcessor` to run your own code within a container. Create a container support data preprocessing, feature engineering and model evaluation. "
   ]
  },
  {
   "cell_type": "markdown",
   "metadata": {},
   "source": [
    "This block of code buils the container using the docker command, creates an Amazon Elastic Container Registry (Amazon ECR) repository, and pushes the image to Amazon ECR"
   ]
  },
  {
   "cell_type": "code",
   "execution_count": 13,
   "metadata": {},
   "outputs": [
    {
     "name": "stdout",
     "output_type": "stream",
     "text": [
      "Sending build context to Docker daemon  10.75kB\n",
      "Step 1/5 : FROM python:3.7-slim-buster\n",
      " ---> 4d4a9832278b\n",
      "Step 2/5 : COPY ./sql /opt/ml/processing/sql\n",
      " ---> Using cache\n",
      " ---> 82f0216f2bd9\n",
      "Step 3/5 : RUN pip install pandas numpy geopandas scikit-learn fsspec s3fs \"boto3==1.14.44\" \"botocore==1.17.44\"\n",
      " ---> Using cache\n",
      " ---> b1d58bf50fa9\n",
      "Step 4/5 : ENV PYTHONUNBUFFERED=TRUE\n",
      " ---> Using cache\n",
      " ---> ee098ca4d4f9\n",
      "Step 5/5 : ENTRYPOINT [\"python3\"]\n",
      " ---> Using cache\n",
      " ---> f6d1cf784d49\n",
      "Successfully built f6d1cf784d49\n",
      "Successfully tagged air-quality-forecasting-preprocessing:latest\n"
     ]
    }
   ],
   "source": [
    "# define repository name and uri variables\n",
    "ecr_repository = 'air-quality-forecasting-preprocessing'\n",
    "tag = ':latest'\n",
    "uri_suffix = 'amazonaws.com'\n",
    "if region in ['cn-north-1', 'cn-northwest-1']:\n",
    "    uri_suffix = 'amazonaws.com.cn'\n",
    "processing_repository_uri = f'{account_id}.dkr.ecr.{region}.{uri_suffix}/{ecr_repository + tag}'\n",
    "\n",
    "# build the image.\n",
    "!docker build -t $ecr_repository docker_preprocessing"
   ]
  },
  {
   "cell_type": "code",
   "execution_count": 12,
   "metadata": {},
   "outputs": [
    {
     "name": "stdout",
     "output_type": "stream",
     "text": [
      "WARNING! Using --password via the CLI is insecure. Use --password-stdin.\n",
      "WARNING! Your password will be stored unencrypted in /home/ec2-user/.docker/config.json.\n",
      "Configure a credential helper to remove this warning. See\n",
      "https://docs.docker.com/engine/reference/commandline/login/#credentials-store\n",
      "\n",
      "Login Succeeded\n",
      "The push refers to repository [593380422482.dkr.ecr.us-east-1.amazonaws.com/air-quality-forecasting-preprocessing]\n",
      "\n",
      "\u001b[1Bd15e736c: Preparing \n",
      "\u001b[1B7e84e5fc: Preparing \n",
      "\u001b[1Be5632dc8: Preparing \n",
      "\u001b[1B857805ec: Preparing \n",
      "\u001b[1B87503449: Preparing \n",
      "\u001b[1B6688d36c: Preparing \n",
      "\u001b[7Bd15e736c: Pushed   479.7MB/470.8MBA\u001b[2K\u001b[7A\u001b[2K\u001b[7A\u001b[2K\u001b[7A\u001b[2K\u001b[6A\u001b[2K\u001b[7A\u001b[2K\u001b[7A\u001b[2K\u001b[7A\u001b[2K\u001b[7A\u001b[2K\u001b[7A\u001b[2K\u001b[7A\u001b[2K\u001b[7A\u001b[2K\u001b[7A\u001b[2K\u001b[7A\u001b[2K\u001b[7A\u001b[2K\u001b[7A\u001b[2K\u001b[7A\u001b[2K\u001b[7A\u001b[2K\u001b[7A\u001b[2K\u001b[7A\u001b[2K\u001b[7A\u001b[2K\u001b[7A\u001b[2K\u001b[7A\u001b[2K\u001b[7A\u001b[2K\u001b[7A\u001b[2K\u001b[7A\u001b[2K\u001b[7A\u001b[2K\u001b[7A\u001b[2K\u001b[7A\u001b[2K\u001b[7A\u001b[2K\u001b[7A\u001b[2K\u001b[7A\u001b[2K\u001b[7A\u001b[2K\u001b[7A\u001b[2K\u001b[7A\u001b[2K\u001b[7A\u001b[2K\u001b[7A\u001b[2K\u001b[7A\u001b[2K\u001b[7A\u001b[2K\u001b[7A\u001b[2K\u001b[7A\u001b[2K\u001b[7A\u001b[2K\u001b[7A\u001b[2K\u001b[7A\u001b[2K\u001b[7A\u001b[2K\u001b[7A\u001b[2K\u001b[7A\u001b[2K\u001b[7A\u001b[2K\u001b[7A\u001b[2K\u001b[7A\u001b[2K\u001b[7A\u001b[2K\u001b[7A\u001b[2K\u001b[7A\u001b[2K\u001b[7A\u001b[2K\u001b[7A\u001b[2K\u001b[7A\u001b[2K\u001b[7A\u001b[2K\u001b[7A\u001b[2K\u001b[7A\u001b[2K\u001b[7A\u001b[2K\u001b[7A\u001b[2K\u001b[7A\u001b[2K\u001b[7A\u001b[2K\u001b[7A\u001b[2K\u001b[7A\u001b[2K\u001b[7A\u001b[2K\u001b[7A\u001b[2K\u001b[7A\u001b[2K\u001b[7A\u001b[2K\u001b[7A\u001b[2K\u001b[7A\u001b[2K\u001b[7A\u001b[2K\u001b[7A\u001b[2K\u001b[7A\u001b[2K\u001b[7A\u001b[2K\u001b[7A\u001b[2K\u001b[7A\u001b[2K\u001b[7A\u001b[2K\u001b[7A\u001b[2K\u001b[7A\u001b[2K\u001b[7A\u001b[2K\u001b[7A\u001b[2K\u001b[7A\u001b[2K\u001b[7A\u001b[2K\u001b[7A\u001b[2K\u001b[7A\u001b[2K\u001b[7A\u001b[2K\u001b[7A\u001b[2K\u001b[7A\u001b[2K\u001b[7A\u001b[2K\u001b[7A\u001b[2K\u001b[7A\u001b[2K\u001b[7A\u001b[2K\u001b[7A\u001b[2K\u001b[7A\u001b[2K\u001b[7A\u001b[2K\u001b[7A\u001b[2K\u001b[7A\u001b[2K\u001b[7A\u001b[2K\u001b[7A\u001b[2K\u001b[7A\u001b[2K\u001b[7A\u001b[2K\u001b[7A\u001b[2K\u001b[7A\u001b[2K\u001b[7A\u001b[2K\u001b[7A\u001b[2K\u001b[7A\u001b[2K\u001b[7A\u001b[2K\u001b[7A\u001b[2K\u001b[7A\u001b[2K\u001b[7A\u001b[2K\u001b[7A\u001b[2K\u001b[7A\u001b[2K\u001b[7A\u001b[2K\u001b[7A\u001b[2K\u001b[7A\u001b[2K\u001b[7A\u001b[2K\u001b[7A\u001b[2K\u001b[7A\u001b[2K\u001b[7A\u001b[2K\u001b[7A\u001b[2K\u001b[7A\u001b[2K\u001b[7A\u001b[2K\u001b[7A\u001b[2K\u001b[7A\u001b[2K\u001b[7A\u001b[2K\u001b[7A\u001b[2K\u001b[7A\u001b[2K\u001b[7A\u001b[2K\u001b[7A\u001b[2K\u001b[7A\u001b[2K\u001b[7A\u001b[2K\u001b[7A\u001b[2K\u001b[7A\u001b[2K\u001b[7A\u001b[2K\u001b[7A\u001b[2K\u001b[7A\u001b[2K\u001b[7A\u001b[2K\u001b[7A\u001b[2K\u001b[7A\u001b[2K\u001b[7A\u001b[2K\u001b[7A\u001b[2K\u001b[7A\u001b[2K\u001b[7A\u001b[2K\u001b[7A\u001b[2K\u001b[7A\u001b[2K\u001b[7A\u001b[2K\u001b[7A\u001b[2K\u001b[7A\u001b[2K\u001b[7A\u001b[2K\u001b[7A\u001b[2K\u001b[7A\u001b[2K\u001b[7A\u001b[2K\u001b[7A\u001b[2K\u001b[7A\u001b[2K\u001b[7A\u001b[2K\u001b[7A\u001b[2K\u001b[7A\u001b[2K\u001b[7A\u001b[2K\u001b[7A\u001b[2K\u001b[7A\u001b[2K\u001b[7A\u001b[2K\u001b[7A\u001b[2K\u001b[7A\u001b[2K\u001b[7A\u001b[2K\u001b[7A\u001b[2K\u001b[7A\u001b[2K\u001b[7A\u001b[2K\u001b[7A\u001b[2K\u001b[7A\u001b[2K\u001b[7A\u001b[2K\u001b[7A\u001b[2K\u001b[7A\u001b[2K\u001b[7A\u001b[2K\u001b[7A\u001b[2K\u001b[7A\u001b[2K\u001b[7A\u001b[2K\u001b[7A\u001b[2K\u001b[7A\u001b[2K\u001b[7A\u001b[2K\u001b[7A\u001b[2K\u001b[7A\u001b[2K\u001b[7A\u001b[2K\u001b[7A\u001b[2K\u001b[7A\u001b[2K\u001b[7A\u001b[2K\u001b[7A\u001b[2K\u001b[7A\u001b[2K\u001b[7A\u001b[2K\u001b[7A\u001b[2K\u001b[7A\u001b[2K\u001b[7A\u001b[2K\u001b[7A\u001b[2K\u001b[7A\u001b[2K\u001b[7A\u001b[2K\u001b[7A\u001b[2K\u001b[7A\u001b[2K\u001b[7A\u001b[2K\u001b[7A\u001b[2K\u001b[7A\u001b[2K\u001b[7A\u001b[2K\u001b[7A\u001b[2K\u001b[7A\u001b[2K\u001b[7A\u001b[2K\u001b[7A\u001b[2K\u001b[7A\u001b[2K\u001b[7A\u001b[2Klatest: digest: sha256:c43f48e2b311c6fa61eb70d63272471ead317ca4766182d561e1e927d7197f47 size: 1790\n"
     ]
    }
   ],
   "source": [
    "# ECR repository should have been created with CloudFormation stack. Uncomment below to create it in case it wasn't.\n",
    "#!aws ecr create-repository --repository-name $ecr_repository\n",
    "\n",
    "# Login and push the built docker image\n",
    "!$(aws ecr get-login --region $region --registry-ids $account_id --no-include-email)\n",
    "!docker tag {ecr_repository + tag} $processing_repository_uri\n",
    "!docker push $processing_repository_uri"
   ]
  },
  {
   "cell_type": "markdown",
   "metadata": {},
   "source": [
    "### Create the ProcessingStep\n",
    "We will now create the [ProcessingStep](https://aws-step-functions-data-science-sdk.readthedocs.io/en/stable/sagemaker.html#stepfunctions.steps.sagemaker.ProcessingStep) that will launch a SageMaker Processing Job.\n",
    "\n",
    "In the processing job script `preprocessing.py`, the actions will be done:\n",
    "\n",
    "* Create Athena table with external source - OpenAQ\n",
    "* Query Sydney OpenAQ data \n",
    "* Feature engineering on the dataset\n",
    "* Split training and test data \n",
    "* Store the data on S3 buckets."
   ]
  },
  {
   "cell_type": "markdown",
   "metadata": {},
   "source": [
    "Upload the preprocessing script."
   ]
  },
  {
   "cell_type": "code",
   "execution_count": 14,
   "metadata": {},
   "outputs": [],
   "source": [
    "PREPROCESSING_SCRIPT_LOCATION = \"preprocessing.py\"\n",
    "input_code = sagemaker_session.upload_data(\n",
    "    PREPROCESSING_SCRIPT_LOCATION,\n",
    "    bucket = bucket_name,\n",
    "    key_prefix = \"preprocessing/code\",\n",
    ")"
   ]
  },
  {
   "cell_type": "markdown",
   "metadata": {},
   "source": [
    "S3 locations of preprocessing output with training, test & all features."
   ]
  },
  {
   "cell_type": "code",
   "execution_count": 15,
   "metadata": {},
   "outputs": [],
   "source": [
    "output_data = f\"s3://{bucket_name}/preprocessing/output\""
   ]
  },
  {
   "cell_type": "markdown",
   "metadata": {},
   "source": [
    "The `ScriptProcessor` class lets you run a command inside the container, which you can use to run your own script."
   ]
  },
  {
   "cell_type": "code",
   "execution_count": 16,
   "metadata": {},
   "outputs": [],
   "source": [
    "from sagemaker.processing import ScriptProcessor\n",
    "\n",
    "preprocessing_processor = ScriptProcessor(\n",
    "    command = ['python3'],\n",
    "    image_uri = processing_repository_uri,\n",
    "    role = role,\n",
    "    instance_count = 1,\n",
    "    instance_type = 'ml.m5.xlarge',\n",
    "    max_runtime_in_seconds = 1200\n",
    ")"
   ]
  },
  {
   "cell_type": "markdown",
   "metadata": {},
   "source": [
    "This step will use ScriptProcessor as defined in previous steps along with the inputs and outputs objects that are defined in the below steps."
   ]
  },
  {
   "cell_type": "code",
   "execution_count": 17,
   "metadata": {},
   "outputs": [],
   "source": [
    "inputs = [\n",
    "    ProcessingInput(\n",
    "        source = input_code,\n",
    "        destination = \"/opt/ml/processing/input/code\",\n",
    "        input_name = \"code\"\n",
    "    )\n",
    "]\n",
    "\n",
    "outputs = [\n",
    "    ProcessingOutput(\n",
    "        source = \"/opt/ml/processing/output/all\",\n",
    "        destination = f\"{output_data}/all\",\n",
    "        output_name = \"all_data\"\n",
    "    ),\n",
    "    ProcessingOutput(\n",
    "        source = \"/opt/ml/processing/output/train\",\n",
    "        destination = f\"{output_data}/train\",\n",
    "        output_name = \"train_data\"\n",
    "    ),\n",
    "    ProcessingOutput(\n",
    "        source = \"/opt/ml/processing/output/test\",\n",
    "        destination = f\"{output_data}/test\",\n",
    "        output_name = \"test_data\"\n",
    "    )\n",
    "]"
   ]
  },
  {
   "cell_type": "code",
   "execution_count": 18,
   "metadata": {},
   "outputs": [],
   "source": [
    "# Workflow Execution parameters\n",
    "execution_input = ExecutionInput(\n",
    "    schema = {\n",
    "        \"PreprocessingJobName\": str,\n",
    "        \"ToDoHPO\": bool,\n",
    "        \"ToDoTraining\": bool,\n",
    "        \"TrainingJobName\": str,\n",
    "        \"TuningJobName\": str,\n",
    "        \"ModelName\": str,\n",
    "        \"EndpointName\": str,\n",
    "        \"EvaluationProcessingJobName\": str\n",
    "    }\n",
    ")"
   ]
  },
  {
   "cell_type": "code",
   "execution_count": 19,
   "metadata": {},
   "outputs": [],
   "source": [
    "processing_step = ProcessingStep(\n",
    "    \"AirQualityForecasting Pre-processing Step\",\n",
    "    processor = preprocessing_processor,\n",
    "    job_name = execution_input[\"PreprocessingJobName\"],\n",
    "    inputs = inputs,\n",
    "    outputs = outputs,\n",
    "    container_arguments = [\"--split-days\", \"30\"],\n",
    "    container_entrypoint = [\"python3\", \"/opt/ml/processing/input/code/preprocessing.py\"]\n",
    ")"
   ]
  },
  {
   "cell_type": "markdown",
   "metadata": {},
   "source": [
    "### Hyperparameter Tuning\n",
    "\n",
    "Setup tuning step and use choice state to decide whether we should do HPO."
   ]
  },
  {
   "cell_type": "code",
   "execution_count": 20,
   "metadata": {},
   "outputs": [],
   "source": [
    "image_name = get_image_uri(region, \"forecasting-deepar\", \"latest\")"
   ]
  },
  {
   "cell_type": "code",
   "execution_count": 24,
   "metadata": {},
   "outputs": [],
   "source": [
    "tuning_output_path = f's3://{bucket_name}/sagemaker/tuning/output'\n",
    "\n",
    "ml_instance_type = 'ml.c5.9xlarge'\n",
    "\n",
    "tuning_estimator = sagemaker.estimator.Estimator(\n",
    "        sagemaker_session = sagemaker_session,\n",
    "        image_name = image_name,\n",
    "        role = role,\n",
    "        train_instance_count = 1,\n",
    "        train_instance_type = ml_instance_type,\n",
    "        base_job_name = 'deepar-openaq-demo',\n",
    "        output_path = tuning_output_path\n",
    ")"
   ]
  },
  {
   "cell_type": "markdown",
   "metadata": {},
   "source": [
    "#### Set static hyperparameters\n",
    "The static parameters are the ones we know to be the best based on previously run HPO jobs, as well as the non-tunable parameters like prediction length and time frequency that are set according to requirements."
   ]
  },
  {
   "cell_type": "code",
   "execution_count": 25,
   "metadata": {},
   "outputs": [],
   "source": [
    "hpo = dict(\n",
    "    time_freq= '1H'\n",
    "    ,early_stopping_patience= 40\n",
    "    ,prediction_length= 48\n",
    "    ,num_eval_samples= 10\n",
    "\n",
    "    # default quantiles [0.1, 0.2, 0.3, ..., 0.9] is used\n",
    "    #,test_quantiles= quantiles\n",
    "    \n",
    "    # not setting these since HPO will use range of values\n",
    "    #,epochs= 400\n",
    "    #,context_length= 3\n",
    "    #,num_cells= 157\n",
    "    #,num_layers= 4\n",
    "    #,dropout_rate= 0.04\n",
    "    #,embedding_dimension= 12\n",
    "    #,mini_batch_size= 633\n",
    "    #,learning_rate= 0.0005\n",
    ")"
   ]
  },
  {
   "cell_type": "markdown",
   "metadata": {},
   "source": [
    "#### Set hyper-parameter ranges\n",
    "The hyperparameter ranges define the parameters we want the runer to search across.\n",
    "\n",
    "> Explore: Look in the [user guide](https://docs.aws.amazon.com/sagemaker/latest/dg/deepar_hyperparameters.html) for DeepAR and add the recommended ranges for `embedding_dimension` to the below."
   ]
  },
  {
   "cell_type": "code",
   "execution_count": 26,
   "metadata": {},
   "outputs": [],
   "source": [
    "hpo_ranges = dict(\n",
    "    epochs= IntegerParameter(1, 1000)\n",
    "    ,context_length= IntegerParameter(7, 48)\n",
    "    ,num_cells= IntegerParameter(30,200)\n",
    "    ,num_layers= IntegerParameter(1,8)\n",
    "    ,dropout_rate= ContinuousParameter(0.0, 0.2)\n",
    "    ,embedding_dimension= IntegerParameter(1, 50)\n",
    "    ,mini_batch_size= IntegerParameter(32, 1028)\n",
    "    ,learning_rate= ContinuousParameter(.00001, .1)\n",
    ")"
   ]
  },
  {
   "cell_type": "markdown",
   "metadata": {},
   "source": [
    "#### Create HPO tunning job step\n",
    "Once we have the HPO tuner defined, we can define the tuning step."
   ]
  },
  {
   "cell_type": "code",
   "execution_count": 27,
   "metadata": {},
   "outputs": [],
   "source": [
    "tuning_estimator.set_hyperparameters(**hpo)\n",
    "\n",
    "hpo_tuner = HyperparameterTuner(\n",
    "    estimator = tuning_estimator, \n",
    "    objective_metric_name = 'train:final_loss',\n",
    "    objective_type = 'Minimize',\n",
    "    hyperparameter_ranges = hpo_ranges,\n",
    "    max_jobs = 2,\n",
    "    max_parallel_jobs = 1\n",
    ")\n",
    "\n",
    "hpo_data = dict(\n",
    "    train = f\"{output_data}/train\",\n",
    "    test = f\"{output_data}/test\"\n",
    ")\n",
    "# as long as HPO is selected, wait for completion.\n",
    "tuning_step = TuningStep(\n",
    "    \"HPO Step\",\n",
    "    tuner = hpo_tuner,\n",
    "    job_name = execution_input[\"TuningJobName\"],\n",
    "    data = hpo_data,\n",
    "    wait_for_completion = True\n",
    ")"
   ]
  },
  {
   "cell_type": "markdown",
   "metadata": {},
   "source": [
    "### Training\n",
    "\n",
    "We create a DeepAR instance, which we will use to run a training job. This will be used to create a TrainingStep for the workflow.\n",
    "\n",
    "#### Setup the training job step"
   ]
  },
  {
   "cell_type": "code",
   "execution_count": 28,
   "metadata": {},
   "outputs": [],
   "source": [
    "training_output_path = f's3://{bucket_name}/sagemaker/training/output'\n",
    "training_estimator = sagemaker.estimator.Estimator(\n",
    "        sagemaker_session = sagemaker_session,\n",
    "        image_name = image_name,\n",
    "        role = role,\n",
    "        train_instance_count = 1,\n",
    "        train_instance_type = ml_instance_type,\n",
    "        base_job_name = 'deepar-openaq-demo',\n",
    "        output_path = training_output_path\n",
    ")\n"
   ]
  },
  {
   "cell_type": "code",
   "execution_count": 29,
   "metadata": {},
   "outputs": [],
   "source": [
    "# best hyper parameters for tuning\n",
    "hpo = dict(\n",
    "    time_freq= '1H'\n",
    "    ,early_stopping_patience= 40\n",
    "    ,prediction_length= 48\n",
    "    ,num_eval_samples= 10\n",
    "    #,test_quantiles= quantiles\n",
    "    ,epochs= 400\n",
    "    ,context_length= 3\n",
    "    ,num_cells= 157\n",
    "    ,num_layers= 4\n",
    "    ,dropout_rate= 0.04\n",
    "    ,embedding_dimension= 12\n",
    "    ,mini_batch_size= 633\n",
    "    ,learning_rate= 0.0005\n",
    ")\n",
    "training_estimator.set_hyperparameters(**hpo)"
   ]
  },
  {
   "cell_type": "code",
   "execution_count": 30,
   "metadata": {},
   "outputs": [],
   "source": [
    "# use all the features for training.\n",
    "data = dict(train = f\"{output_data}/all/all_features.json\")\n",
    "training_step = TrainingStep(\n",
    "    \"Training Step\",\n",
    "    estimator = training_estimator,\n",
    "    data = data,\n",
    "    job_name = execution_input[\"TrainingJobName\"],\n",
    "    wait_for_completion = True\n",
    ")"
   ]
  },
  {
   "cell_type": "markdown",
   "metadata": {},
   "source": [
    "#### Create Model Step\n",
    "\n",
    "In the following cell, we define a model step that will create a model in Amazon SageMaker using the artifacts created during the TrainingStep. See  [ModelStep](https://aws-step-functions-data-science-sdk.readthedocs.io/en/latest/sagemaker.html#stepfunctions.steps.sagemaker.ModelStep) in the AWS Step Functions Data Science SDK documentation to learn more.\n",
    "\n",
    "The model creation step typically follows the training step. The Step Functions SDK provides the [get_expected_model](https://aws-step-functions-data-science-sdk.readthedocs.io/en/latest/sagemaker.html#stepfunctions.steps.sagemaker.TrainingStep.get_expected_model) method in the TrainingStep class to provide a reference for the trained model artifacts. Please note that this method is only useful when the ModelStep directly follows the TrainingStep."
   ]
  },
  {
   "cell_type": "code",
   "execution_count": 41,
   "metadata": {},
   "outputs": [],
   "source": [
    "model_step = steps.ModelStep(\n",
    "    \"Save Model\",\n",
    "    model = training_step.get_expected_model(),\n",
    "    model_name = execution_input[\"ModelName\"],\n",
    "    result_path = \"$.ModelStepResults\"\n",
    ")\n",
    "\n",
    "# for deploying existing model\n",
    "existing_model_name = f\"aqf-model-{uuid.uuid1().hex}\"\n",
    "existing_model = Model(\n",
    "    model_data = EXISTING_MODEL_URI,\n",
    "    image = image_name,\n",
    "    role = role,\n",
    "    name = existing_model_name\n",
    ")\n",
    "existing_model_step = steps.ModelStep(\n",
    "    \"Existing Model\",\n",
    "    model = existing_model,\n",
    "    model_name = execution_input[\"ModelName\"]\n",
    ")"
   ]
  },
  {
   "cell_type": "markdown",
   "metadata": {},
   "source": [
    "### Create an Endpoint Configuration Step\n",
    "In the following cell we create an endpoint configuration step. See [EndpointConfigStep](https://aws-step-functions-data-science-sdk.readthedocs.io/en/latest/sagemaker.html#stepfunctions.steps.sagemaker.EndpointConfigStep) in the AWS Step Functions Data Science SDK documentation to learn more."
   ]
  },
  {
   "cell_type": "code",
   "execution_count": 42,
   "metadata": {},
   "outputs": [],
   "source": [
    "endpoint_config_step = steps.EndpointConfigStep(\n",
    "    \"Create Model Endpoint Config\",\n",
    "    endpoint_config_name = execution_input[\"ModelName\"],\n",
    "    model_name = execution_input[\"ModelName\"],\n",
    "    initial_instance_count = 1,\n",
    "    instance_type = 'ml.c5.xlarge'\n",
    ")"
   ]
  },
  {
   "cell_type": "markdown",
   "metadata": {},
   "source": [
    "### Update the Model Endpoint Step\n",
    "In the following cell, we create the Endpoint step to deploy the new model as a managed API endpoint, updating an existing SageMaker endpoint if our choice state is sucessful."
   ]
  },
  {
   "cell_type": "code",
   "execution_count": 43,
   "metadata": {},
   "outputs": [],
   "source": [
    "endpoint_step = steps.EndpointStep(\n",
    "    \"Update Model Endpoint\",\n",
    "    endpoint_name = execution_input[\"EndpointName\"],\n",
    "    endpoint_config_name = execution_input[\"ModelName\"],\n",
    "    update = False\n",
    ")"
   ]
  },
  {
   "cell_type": "markdown",
   "metadata": {},
   "source": [
    "#### Setup workflow process"
   ]
  },
  {
   "cell_type": "markdown",
   "metadata": {},
   "source": [
    "Create `Fail` state to mark the workflow failed in case any of the steps fail."
   ]
  },
  {
   "cell_type": "code",
   "execution_count": 48,
   "metadata": {},
   "outputs": [],
   "source": [
    "failed_state_sagemaker_pipeline_step_failure = Fail(\n",
    "    \"ML Workflow failed\", cause = \"SageMakerPipelineStepFailed\"\n",
    ")"
   ]
  },
  {
   "cell_type": "code",
   "execution_count": 46,
   "metadata": {},
   "outputs": [],
   "source": [
    "training_path = Chain([training_step, model_step, endpoint_config_step, endpoint_step])\n",
    "deploy_existing_model_path = Chain([existing_model_step, endpoint_config_step, endpoint_step])"
   ]
  },
  {
   "cell_type": "markdown",
   "metadata": {},
   "source": [
    "#### Choice state\n",
    "\n",
    "Now, we need to setup choice state for choose HPO / Training or not. See *Choice Rules* in the [AWS Step Functions Data Science SDK documentation](https://aws-step-functions-data-science-sdk.readthedocs.io) ."
   ]
  },
  {
   "cell_type": "code",
   "execution_count": 47,
   "metadata": {},
   "outputs": [],
   "source": [
    "from stepfunctions.steps import *\n",
    "\n",
    "hpo_choice = Choice(\n",
    "    \"To do HPO?\"\n",
    ")\n",
    "training_choice = Choice(\n",
    "    \"To do Model Training?\"\n",
    ")\n",
    "\n",
    "# refer to execution input variable with required format - not user friendly.\n",
    "hpo_choice.add_choice(\n",
    "    rule = ChoiceRule.BooleanEquals(variable = \"$$.Execution.Input['ToDoHPO']\", value = True),\n",
    "    next_step = tuning_step\n",
    ")\n",
    "hpo_choice.add_choice(\n",
    "    rule = ChoiceRule.BooleanEquals(variable = \"$$.Execution.Input['ToDoHPO']\", value = False),\n",
    "    next_step = training_choice\n",
    ")\n",
    "training_choice.add_choice(\n",
    "    rule = ChoiceRule.BooleanEquals(variable = \"$$.Execution.Input['ToDoTraining']\", value = True),\n",
    "    next_step = training_path\n",
    ")\n",
    "training_choice.add_choice(\n",
    "    rule = ChoiceRule.BooleanEquals(variable = \"$$.Execution.Input['ToDoTraining']\", value = False),\n",
    "    next_step = deploy_existing_model_path\n",
    ")"
   ]
  },
  {
   "cell_type": "markdown",
   "metadata": {},
   "source": [
    "#### Add the Error handling in the workflow"
   ]
  },
  {
   "cell_type": "code",
   "execution_count": 49,
   "metadata": {},
   "outputs": [],
   "source": [
    "catch_state_processing = stepfunctions.steps.states.Catch(\n",
    "    error_equals = [\"States.TaskFailed\"],\n",
    "    next_step = failed_state_sagemaker_pipeline_step_failure   \n",
    ")\n",
    "processing_step.add_catch(catch_state_processing)\n",
    "tuning_step.add_catch(catch_state_processing)\n",
    "training_step.add_catch(catch_state_processing)\n",
    "model_step.add_catch(catch_state_processing)\n",
    "endpoint_config_step.add_catch(catch_state_processing)\n",
    "endpoint_step.add_catch(catch_state_processing)\n",
    "existing_model_step.add_catch(catch_state_processing)"
   ]
  },
  {
   "cell_type": "markdown",
   "metadata": {},
   "source": [
    "#### Workflow Role"
   ]
  },
  {
   "cell_type": "code",
   "execution_count": 50,
   "metadata": {},
   "outputs": [],
   "source": [
    "workflow_execution_role = \"arn:aws:iam::593380422482:role/StepFunctionsWorkflowExecutionRole\""
   ]
  },
  {
   "cell_type": "markdown",
   "metadata": {},
   "source": [
    "#### Create StepFunctions Workflow execution Input schema"
   ]
  },
  {
   "cell_type": "code",
   "execution_count": 55,
   "metadata": {},
   "outputs": [],
   "source": [
    "preprocessing_job_name = f\"aqf-preprocessing-{uuid.uuid1().hex}\"\n",
    "tuning_job_name = f\"aqf-tuning-{uuid.uuid1().hex}\"\n",
    "training_job_name = f\"aqf-training-{uuid.uuid1().hex}\"\n",
    "model_job_name = f\"aqf-model-{uuid.uuid1().hex}\"\n",
    "endpoint_job_name = f\"aqf-endpoint-{uuid.uuid1().hex}\"\n",
    "evaluation_job_name = f\"aqf-evaluation-{uuid.uuid1().hex}\""
   ]
  },
  {
   "cell_type": "markdown",
   "metadata": {},
   "source": [
    "### Create and execute the workflow"
   ]
  },
  {
   "cell_type": "code",
   "execution_count": 58,
   "metadata": {},
   "outputs": [],
   "source": [
    "#workflow_graph = Chain([processing_step, hpo_choice])\n",
    "workflow_graph = Chain([processing_step, hpo_choice])\n",
    "workflow = Workflow(\n",
    "    name = \"AirQualityForecastingWorkflow2-02\",\n",
    "    definition = workflow_graph,\n",
    "    role = workflow_execution_role\n",
    ")\n",
    "workflow.create()\n",
    "# update() to ensure existing workflow can get updated as create() just return ARN for the existing one.\n",
    "workflow.update(definition = workflow_graph) \n",
    "\n",
    "# execute workflow\n",
    "execution = workflow.execute(\n",
    "    inputs = {\n",
    "        \"PreprocessingJobName\": preprocessing_job_name,\n",
    "        \"ToDoHPO\": False,\n",
    "        \"ToDoTraining\": True,\n",
    "        \"TrainingJobName\": training_job_name,\n",
    "        \"TuningJobName\": tuning_job_name,\n",
    "        \"ModelName\": model_job_name,\n",
    "        \"EndpointName\": endpoint_job_name,\n",
    "        \"EvaluationProcessingJobName\": evaluation_job_name\n",
    "    }\n",
    ")\n",
    "execution_output = execution.get_output(wait = True)"
   ]
  },
  {
   "cell_type": "code",
   "execution_count": 59,
   "metadata": {},
   "outputs": [
    {
     "data": {
      "text/html": [
       "\n",
       "<link rel=\"stylesheet\" type=\"text/css\" href=\"https://do0of8uwbahzz.cloudfront.net/graph.css\">\n",
       "<div id=\"graph-701\" class=\"workflowgraph\">\n",
       "    \n",
       "    <style>\n",
       "        .graph-legend ul {\n",
       "            list-style-type: none;\n",
       "            padding: 10px;\n",
       "            padding-left: 0;\n",
       "            margin: 0;\n",
       "            position: absolute;\n",
       "            top: 0;\n",
       "            background: transparent;\n",
       "        }\n",
       "\n",
       "        .graph-legend li {\n",
       "            margin-left: 10px;\n",
       "            display: inline-block;\n",
       "        }\n",
       "\n",
       "        .graph-legend li > div {\n",
       "            width: 10px;\n",
       "            height: 10px;\n",
       "            display: inline-block;\n",
       "        }\n",
       "\n",
       "        .graph-legend .success { background-color: #2BD62E }\n",
       "        .graph-legend .failed { background-color: #DE322F }\n",
       "        .graph-legend .cancelled { background-color: #DDDDDD }\n",
       "        .graph-legend .in-progress { background-color: #53C9ED }\n",
       "        .graph-legend .caught-error { background-color: #FFA500 }\n",
       "    </style>\n",
       "    <div class=\"graph-legend\">\n",
       "        <ul>\n",
       "            <li>\n",
       "                <div class=\"success\"></div>\n",
       "                <span>Success</span>\n",
       "            </li>\n",
       "            <li>\n",
       "                <div class=\"failed\"></div>\n",
       "                <span>Failed</span>\n",
       "            </li>\n",
       "            <li>\n",
       "                <div class=\"cancelled\"></div>\n",
       "                <span>Cancelled</span>\n",
       "            </li>\n",
       "            <li>\n",
       "                <div class=\"in-progress\"></div>\n",
       "                <span>In Progress</span>\n",
       "            </li>\n",
       "            <li>\n",
       "                <div class=\"caught-error\"></div>\n",
       "                <span>Caught Error</span>\n",
       "            </li>\n",
       "        </ul>\n",
       "    </div>\n",
       "\n",
       "    <svg></svg>\n",
       "    <a href=\"https://console.aws.amazon.com/states/home?region=us-east-1#/executions/details/arn:aws:states:us-east-1:593380422482:execution:AirQualityForecastingWorkflow2-02:d8d0b666-4344-4e6d-b7de-c07c92f28816\" target=\"_blank\"> Inspect in AWS Step Functions </a>\n",
       "</div>\n",
       "\n",
       "<script type=\"text/javascript\">\n",
       "\n",
       "require.config({\n",
       "    paths: {\n",
       "        sfn: \"https://do0of8uwbahzz.cloudfront.net/sfn\",\n",
       "    }\n",
       "});\n",
       "\n",
       "require(['sfn'], function(sfn) {\n",
       "    var element = document.getElementById('graph-701')\n",
       "\n",
       "    var options = {\n",
       "        width: parseFloat(getComputedStyle(element, null).width.replace(\"px\", \"\")),\n",
       "        height: 1000,\n",
       "        layout: 'LR',\n",
       "        resizeHeight: true\n",
       "    };\n",
       "\n",
       "    var definition = {\"StartAt\": \"AirQualityForecasting Pre-processing Step\", \"States\": {\"AirQualityForecasting Pre-processing Step\": {\"Resource\": \"arn:aws:states:::sagemaker:createProcessingJob.sync\", \"Parameters\": {\"ProcessingJobName.$\": \"$$.Execution.Input['PreprocessingJobName']\", \"ProcessingInputs\": [{\"InputName\": \"code\", \"S3Input\": {\"S3Uri\": \"s3://593380422482-openaq-forecasting/preprocessing/code/preprocessing.py\", \"LocalPath\": \"/opt/ml/processing/input/code\", \"S3DataType\": \"S3Prefix\", \"S3InputMode\": \"File\", \"S3DataDistributionType\": \"FullyReplicated\", \"S3CompressionType\": \"None\"}}], \"ProcessingOutputConfig\": {\"Outputs\": [{\"OutputName\": \"all_data\", \"S3Output\": {\"S3Uri\": \"s3://593380422482-openaq-forecasting/preprocessing/output/all\", \"LocalPath\": \"/opt/ml/processing/output/all\", \"S3UploadMode\": \"EndOfJob\"}}, {\"OutputName\": \"train_data\", \"S3Output\": {\"S3Uri\": \"s3://593380422482-openaq-forecasting/preprocessing/output/train\", \"LocalPath\": \"/opt/ml/processing/output/train\", \"S3UploadMode\": \"EndOfJob\"}}, {\"OutputName\": \"test_data\", \"S3Output\": {\"S3Uri\": \"s3://593380422482-openaq-forecasting/preprocessing/output/test\", \"LocalPath\": \"/opt/ml/processing/output/test\", \"S3UploadMode\": \"EndOfJob\"}}]}, \"AppSpecification\": {\"ImageUri\": \"593380422482.dkr.ecr.us-east-1.amazonaws.com/air-quality-forecasting-preprocessing:latest\", \"ContainerArguments\": [\"--split-days\", \"30\"], \"ContainerEntrypoint\": [\"python3\", \"/opt/ml/processing/input/code/preprocessing.py\"]}, \"RoleArn\": \"arn:aws:iam::593380422482:role/aqf-workshop-SageMakerIamRole-1FZH5KS299E6L\", \"ProcessingResources\": {\"ClusterConfig\": {\"InstanceCount\": 1, \"InstanceType\": \"ml.m5.xlarge\", \"VolumeSizeInGB\": 30}}, \"StoppingCondition\": {\"MaxRuntimeInSeconds\": 1200}}, \"Type\": \"Task\", \"Next\": \"To do HPO?\", \"Catch\": [{\"ErrorEquals\": [\"States.TaskFailed\"], \"Next\": \"ML Workflow failed\"}]}, \"To do HPO?\": {\"Type\": \"Choice\", \"Choices\": [{\"Variable\": \"$$.Execution.Input['ToDoHPO']\", \"BooleanEquals\": true, \"Next\": \"HPO Step\"}, {\"Variable\": \"$$.Execution.Input['ToDoHPO']\", \"BooleanEquals\": false, \"Next\": \"To do Model Training?\"}]}, \"HPO Step\": {\"Resource\": \"arn:aws:states:::sagemaker:createHyperParameterTuningJob.sync\", \"Parameters\": {\"HyperParameterTuningJobName.$\": \"$$.Execution.Input['TuningJobName']\", \"HyperParameterTuningJobConfig\": {\"Strategy\": \"Bayesian\", \"ResourceLimits\": {\"MaxNumberOfTrainingJobs\": 2, \"MaxParallelTrainingJobs\": 1}, \"TrainingJobEarlyStoppingType\": \"Off\", \"HyperParameterTuningJobObjective\": {\"Type\": \"Minimize\", \"MetricName\": \"train:final_loss\"}, \"ParameterRanges\": {\"ContinuousParameterRanges\": [{\"Name\": \"dropout_rate\", \"MinValue\": \"0.0\", \"MaxValue\": \"0.2\", \"ScalingType\": \"Auto\"}, {\"Name\": \"learning_rate\", \"MinValue\": \"1e-05\", \"MaxValue\": \"0.1\", \"ScalingType\": \"Auto\"}], \"CategoricalParameterRanges\": [], \"IntegerParameterRanges\": [{\"Name\": \"epochs\", \"MinValue\": \"1\", \"MaxValue\": \"1000\", \"ScalingType\": \"Auto\"}, {\"Name\": \"context_length\", \"MinValue\": \"7\", \"MaxValue\": \"48\", \"ScalingType\": \"Auto\"}, {\"Name\": \"num_cells\", \"MinValue\": \"30\", \"MaxValue\": \"200\", \"ScalingType\": \"Auto\"}, {\"Name\": \"num_layers\", \"MinValue\": \"1\", \"MaxValue\": \"8\", \"ScalingType\": \"Auto\"}, {\"Name\": \"embedding_dimension\", \"MinValue\": \"1\", \"MaxValue\": \"50\", \"ScalingType\": \"Auto\"}, {\"Name\": \"mini_batch_size\", \"MinValue\": \"32\", \"MaxValue\": \"1028\", \"ScalingType\": \"Auto\"}]}}, \"TrainingJobDefinition\": {\"AlgorithmSpecification\": {\"TrainingImage\": \"522234722520.dkr.ecr.us-east-1.amazonaws.com/forecasting-deepar:latest\", \"TrainingInputMode\": \"File\"}, \"OutputDataConfig\": {\"S3OutputPath\": \"s3://593380422482-openaq-forecasting/sagemaker/tuning/output\"}, \"StoppingCondition\": {\"MaxRuntimeInSeconds\": 86400}, \"ResourceConfig\": {\"InstanceCount\": 1, \"InstanceType\": \"ml.c5.9xlarge\", \"VolumeSizeInGB\": 30}, \"RoleArn\": \"arn:aws:iam::593380422482:role/aqf-workshop-SageMakerIamRole-1FZH5KS299E6L\", \"InputDataConfig\": [{\"DataSource\": {\"S3DataSource\": {\"S3DataType\": \"S3Prefix\", \"S3Uri\": \"s3://593380422482-openaq-forecasting/preprocessing/output/train\", \"S3DataDistributionType\": \"FullyReplicated\"}}, \"ChannelName\": \"train\"}, {\"DataSource\": {\"S3DataSource\": {\"S3DataType\": \"S3Prefix\", \"S3Uri\": \"s3://593380422482-openaq-forecasting/preprocessing/output/test\", \"S3DataDistributionType\": \"FullyReplicated\"}}, \"ChannelName\": \"test\"}], \"StaticHyperParameters\": {\"time_freq\": \"1H\", \"early_stopping_patience\": \"40\", \"prediction_length\": \"48\", \"num_eval_samples\": \"10\"}}}, \"Type\": \"Task\", \"End\": true, \"Catch\": [{\"ErrorEquals\": [\"States.TaskFailed\"], \"Next\": \"ML Workflow failed\"}]}, \"ML Workflow failed\": {\"Cause\": \"SageMakerPipelineStepFailed\", \"Type\": \"Fail\"}, \"To do Model Training?\": {\"Type\": \"Choice\", \"Choices\": [{\"Variable\": \"$$.Execution.Input['ToDoTraining']\", \"BooleanEquals\": true, \"Next\": \"Training Step\"}, {\"Variable\": \"$$.Execution.Input['ToDoTraining']\", \"BooleanEquals\": false, \"Next\": \"Existing Model\"}]}, \"Training Step\": {\"Resource\": \"arn:aws:states:::sagemaker:createTrainingJob.sync\", \"Parameters\": {\"AlgorithmSpecification\": {\"TrainingImage\": \"522234722520.dkr.ecr.us-east-1.amazonaws.com/forecasting-deepar:latest\", \"TrainingInputMode\": \"File\"}, \"OutputDataConfig\": {\"S3OutputPath\": \"s3://593380422482-openaq-forecasting/sagemaker/training/output\"}, \"StoppingCondition\": {\"MaxRuntimeInSeconds\": 86400}, \"ResourceConfig\": {\"InstanceCount\": 1, \"InstanceType\": \"ml.c5.9xlarge\", \"VolumeSizeInGB\": 30}, \"RoleArn\": \"arn:aws:iam::593380422482:role/aqf-workshop-SageMakerIamRole-1FZH5KS299E6L\", \"InputDataConfig\": [{\"DataSource\": {\"S3DataSource\": {\"S3DataType\": \"S3Prefix\", \"S3Uri\": \"s3://593380422482-openaq-forecasting/preprocessing/output/all/all_features.json\", \"S3DataDistributionType\": \"FullyReplicated\"}}, \"ChannelName\": \"train\"}], \"HyperParameters\": {\"time_freq\": \"1H\", \"early_stopping_patience\": \"40\", \"prediction_length\": \"48\", \"num_eval_samples\": \"10\", \"epochs\": \"400\", \"context_length\": \"3\", \"num_cells\": \"157\", \"num_layers\": \"4\", \"dropout_rate\": \"0.04\", \"embedding_dimension\": \"12\", \"mini_batch_size\": \"633\", \"learning_rate\": \"0.0005\"}, \"TrainingJobName.$\": \"$$.Execution.Input['TrainingJobName']\"}, \"Type\": \"Task\", \"Next\": \"Save Model\", \"Catch\": [{\"ErrorEquals\": [\"States.TaskFailed\"], \"Next\": \"ML Workflow failed\"}]}, \"Save Model\": {\"ResultPath\": \"$.ModelStepResults\", \"Parameters\": {\"ExecutionRoleArn\": \"arn:aws:iam::593380422482:role/aqf-workshop-SageMakerIamRole-1FZH5KS299E6L\", \"ModelName.$\": \"$$.Execution.Input['ModelName']\", \"PrimaryContainer\": {\"Environment\": {}, \"Image\": \"522234722520.dkr.ecr.us-east-1.amazonaws.com/forecasting-deepar:latest\", \"ModelDataUrl.$\": \"$['ModelArtifacts']['S3ModelArtifacts']\"}}, \"Resource\": \"arn:aws:states:::sagemaker:createModel\", \"Type\": \"Task\", \"Next\": \"Create Model Endpoint Config\", \"Catch\": [{\"ErrorEquals\": [\"States.TaskFailed\"], \"Next\": \"ML Workflow failed\"}]}, \"Create Model Endpoint Config\": {\"Resource\": \"arn:aws:states:::sagemaker:createEndpointConfig\", \"Parameters\": {\"EndpointConfigName.$\": \"$$.Execution.Input['ModelName']\", \"ProductionVariants\": [{\"InitialInstanceCount\": 1, \"InstanceType\": \"ml.c5.xlarge\", \"ModelName.$\": \"$$.Execution.Input['ModelName']\", \"VariantName\": \"AllTraffic\"}]}, \"Type\": \"Task\", \"Next\": \"Update Model Endpoint\", \"Catch\": [{\"ErrorEquals\": [\"States.TaskFailed\"], \"Next\": \"ML Workflow failed\"}]}, \"Update Model Endpoint\": {\"Resource\": \"arn:aws:states:::sagemaker:createEndpoint\", \"Parameters\": {\"EndpointConfigName.$\": \"$$.Execution.Input['ModelName']\", \"EndpointName.$\": \"$$.Execution.Input['EndpointName']\"}, \"Type\": \"Task\", \"End\": true, \"Catch\": [{\"ErrorEquals\": [\"States.TaskFailed\"], \"Next\": \"ML Workflow failed\"}]}, \"Existing Model\": {\"Parameters\": {\"ExecutionRoleArn\": \"arn:aws:iam::593380422482:role/aqf-workshop-SageMakerIamRole-1FZH5KS299E6L\", \"ModelName.$\": \"$$.Execution.Input['ModelName']\", \"PrimaryContainer\": {\"Environment\": {}, \"Image\": \"522234722520.dkr.ecr.us-east-1.amazonaws.com/forecasting-deepar:latest\", \"ModelDataUrl\": \"s3://593380422482-openaq-forecasting/sagemaker/model/model.tar.gz\"}}, \"Resource\": \"arn:aws:states:::sagemaker:createModel\", \"Type\": \"Task\", \"Next\": \"Create Model Endpoint Config\", \"Catch\": [{\"ErrorEquals\": [\"States.TaskFailed\"], \"Next\": \"ML Workflow failed\"}]}}};\n",
       "    var elementId = '#graph-701';\n",
       "    var events = { 'events': [{\"timestamp\": 1600670690.424, \"type\": \"ExecutionStarted\", \"id\": 1, \"previousEventId\": 0, \"executionStartedEventDetails\": {\"input\": \"{\\n    \\\"PreprocessingJobName\\\": \\\"aqf-preprocessing-11b9babcfbd511eab645d55be1272f71\\\",\\n    \\\"ToDoHPO\\\": false,\\n    \\\"ToDoTraining\\\": true,\\n    \\\"TrainingJobName\\\": \\\"aqf-training-11b9c0c0fbd511eab645d55be1272f71\\\",\\n    \\\"TuningJobName\\\": \\\"aqf-tuning-11b9be2cfbd511eab645d55be1272f71\\\",\\n    \\\"ModelName\\\": \\\"aqf-model-11b9c322fbd511eab645d55be1272f71\\\",\\n    \\\"EndpointName\\\": \\\"aqf-endpoint-11b9c552fbd511eab645d55be1272f71\\\",\\n    \\\"EvaluationProcessingJobName\\\": \\\"aqf-evaluation-11b9c782fbd511eab645d55be1272f71\\\"\\n}\", \"inputDetails\": {\"truncated\": false}, \"roleArn\": \"arn:aws:iam::593380422482:role/StepFunctionsWorkflowExecutionRole\"}}, {\"timestamp\": 1600670690.496, \"type\": \"TaskStateEntered\", \"id\": 2, \"previousEventId\": 0, \"stateEnteredEventDetails\": {\"name\": \"AirQualityForecasting Pre-processing Step\", \"input\": \"{\\n    \\\"PreprocessingJobName\\\": \\\"aqf-preprocessing-11b9babcfbd511eab645d55be1272f71\\\",\\n    \\\"ToDoHPO\\\": false,\\n    \\\"ToDoTraining\\\": true,\\n    \\\"TrainingJobName\\\": \\\"aqf-training-11b9c0c0fbd511eab645d55be1272f71\\\",\\n    \\\"TuningJobName\\\": \\\"aqf-tuning-11b9be2cfbd511eab645d55be1272f71\\\",\\n    \\\"ModelName\\\": \\\"aqf-model-11b9c322fbd511eab645d55be1272f71\\\",\\n    \\\"EndpointName\\\": \\\"aqf-endpoint-11b9c552fbd511eab645d55be1272f71\\\",\\n    \\\"EvaluationProcessingJobName\\\": \\\"aqf-evaluation-11b9c782fbd511eab645d55be1272f71\\\"\\n}\", \"inputDetails\": {\"truncated\": false}}}, {\"timestamp\": 1600670690.496, \"type\": \"TaskScheduled\", \"id\": 3, \"previousEventId\": 2, \"taskScheduledEventDetails\": {\"resourceType\": \"sagemaker\", \"resource\": \"createProcessingJob.sync\", \"region\": \"us-east-1\", \"parameters\": \"{\\\"ProcessingInputs\\\":[{\\\"InputName\\\":\\\"code\\\",\\\"S3Input\\\":{\\\"S3Uri\\\":\\\"s3://593380422482-openaq-forecasting/preprocessing/code/preprocessing.py\\\",\\\"LocalPath\\\":\\\"/opt/ml/processing/input/code\\\",\\\"S3DataType\\\":\\\"S3Prefix\\\",\\\"S3InputMode\\\":\\\"File\\\",\\\"S3DataDistributionType\\\":\\\"FullyReplicated\\\",\\\"S3CompressionType\\\":\\\"None\\\"}}],\\\"ProcessingOutputConfig\\\":{\\\"Outputs\\\":[{\\\"OutputName\\\":\\\"all_data\\\",\\\"S3Output\\\":{\\\"S3Uri\\\":\\\"s3://593380422482-openaq-forecasting/preprocessing/output/all\\\",\\\"LocalPath\\\":\\\"/opt/ml/processing/output/all\\\",\\\"S3UploadMode\\\":\\\"EndOfJob\\\"}},{\\\"OutputName\\\":\\\"train_data\\\",\\\"S3Output\\\":{\\\"S3Uri\\\":\\\"s3://593380422482-openaq-forecasting/preprocessing/output/train\\\",\\\"LocalPath\\\":\\\"/opt/ml/processing/output/train\\\",\\\"S3UploadMode\\\":\\\"EndOfJob\\\"}},{\\\"OutputName\\\":\\\"test_data\\\",\\\"S3Output\\\":{\\\"S3Uri\\\":\\\"s3://593380422482-openaq-forecasting/preprocessing/output/test\\\",\\\"LocalPath\\\":\\\"/opt/ml/processing/output/test\\\",\\\"S3UploadMode\\\":\\\"EndOfJob\\\"}}]},\\\"AppSpecification\\\":{\\\"ImageUri\\\":\\\"593380422482.dkr.ecr.us-east-1.amazonaws.com/air-quality-forecasting-preprocessing:latest\\\",\\\"ContainerArguments\\\":[\\\"--split-days\\\",\\\"30\\\"],\\\"ContainerEntrypoint\\\":[\\\"python3\\\",\\\"/opt/ml/processing/input/code/preprocessing.py\\\"]},\\\"RoleArn\\\":\\\"arn:aws:iam::593380422482:role/aqf-workshop-SageMakerIamRole-1FZH5KS299E6L\\\",\\\"ProcessingResources\\\":{\\\"ClusterConfig\\\":{\\\"InstanceCount\\\":1,\\\"InstanceType\\\":\\\"ml.m5.xlarge\\\",\\\"VolumeSizeInGB\\\":30}},\\\"StoppingCondition\\\":{\\\"MaxRuntimeInSeconds\\\":1200},\\\"ProcessingJobName\\\":\\\"aqf-preprocessing-11b9babcfbd511eab645d55be1272f71\\\",\\\"Tags\\\":[{\\\"Key\\\":\\\"MANAGED_BY_AWS\\\",\\\"Value\\\":\\\"STARTED_BY_STEP_FUNCTIONS\\\"}]}\"}}, {\"timestamp\": 1600670690.553, \"type\": \"TaskStarted\", \"id\": 4, \"previousEventId\": 3, \"taskStartedEventDetails\": {\"resourceType\": \"sagemaker\", \"resource\": \"createProcessingJob.sync\"}}, {\"timestamp\": 1600670690.843, \"type\": \"TaskSubmitted\", \"id\": 5, \"previousEventId\": 4, \"taskSubmittedEventDetails\": {\"resourceType\": \"sagemaker\", \"resource\": \"createProcessingJob.sync\", \"output\": \"{\\\"ProcessingJobArn\\\":\\\"arn:aws:sagemaker:us-east-1:593380422482:processing-job/aqf-preprocessing-11b9babcfbd511eab645d55be1272f71\\\",\\\"SdkHttpMetadata\\\":{\\\"AllHttpHeaders\\\":{\\\"x-amzn-RequestId\\\":[\\\"d52304b1-53ed-4f34-a88c-389b56a61079\\\"],\\\"Content-Length\\\":[\\\"129\\\"],\\\"Date\\\":[\\\"Mon, 21 Sep 2020 06:44:49 GMT\\\"],\\\"Content-Type\\\":[\\\"application/x-amz-json-1.1\\\"]},\\\"HttpHeaders\\\":{\\\"Content-Length\\\":\\\"129\\\",\\\"Content-Type\\\":\\\"application/x-amz-json-1.1\\\",\\\"Date\\\":\\\"Mon, 21 Sep 2020 06:44:49 GMT\\\",\\\"x-amzn-RequestId\\\":\\\"d52304b1-53ed-4f34-a88c-389b56a61079\\\"},\\\"HttpStatusCode\\\":200},\\\"SdkResponseMetadata\\\":{\\\"RequestId\\\":\\\"d52304b1-53ed-4f34-a88c-389b56a61079\\\"}}\", \"outputDetails\": {\"truncated\": false}}}, {\"timestamp\": 1600670975.63, \"type\": \"TaskSucceeded\", \"id\": 6, \"previousEventId\": 5, \"taskSucceededEventDetails\": {\"resourceType\": \"sagemaker\", \"resource\": \"createProcessingJob.sync\", \"output\": \"{\\\"ProcessingInputs\\\":[{\\\"InputName\\\":\\\"code\\\",\\\"S3Input\\\":{\\\"S3Uri\\\":\\\"s3://593380422482-openaq-forecasting/preprocessing/code/preprocessing.py\\\",\\\"LocalPath\\\":\\\"/opt/ml/processing/input/code\\\",\\\"S3DataType\\\":\\\"S3_PREFIX\\\",\\\"S3InputMode\\\":\\\"FILE\\\",\\\"S3DataDistributionType\\\":\\\"FULLYREPLICATED\\\"}}],\\\"ProcessingOutputConfig\\\":{\\\"Outputs\\\":[{\\\"OutputName\\\":\\\"all_data\\\",\\\"S3Output\\\":{\\\"S3Uri\\\":\\\"s3://593380422482-openaq-forecasting/preprocessing/output/all\\\",\\\"LocalPath\\\":\\\"/opt/ml/processing/output/all\\\",\\\"S3UploadMode\\\":\\\"END_OF_JOB\\\"}},{\\\"OutputName\\\":\\\"train_data\\\",\\\"S3Output\\\":{\\\"S3Uri\\\":\\\"s3://593380422482-openaq-forecasting/preprocessing/output/train\\\",\\\"LocalPath\\\":\\\"/opt/ml/processing/output/train\\\",\\\"S3UploadMode\\\":\\\"END_OF_JOB\\\"}},{\\\"OutputName\\\":\\\"test_data\\\",\\\"S3Output\\\":{\\\"S3Uri\\\":\\\"s3://593380422482-openaq-forecasting/preprocessing/output/test\\\",\\\"LocalPath\\\":\\\"/opt/ml/processing/output/test\\\",\\\"S3UploadMode\\\":\\\"END_OF_JOB\\\"}}]},\\\"ProcessingJobName\\\":\\\"aqf-preprocessing-11b9babcfbd511eab645d55be1272f71\\\",\\\"ProcessingResources\\\":{\\\"ClusterConfig\\\":{\\\"InstanceCount\\\":1.0,\\\"InstanceType\\\":\\\"ml.m5.xlarge\\\",\\\"VolumeSizeInGB\\\":30.0}},\\\"StoppingCondition\\\":{\\\"MaxRuntimeInSeconds\\\":1200.0},\\\"AppSpecification\\\":{\\\"ImageUri\\\":\\\"593380422482.dkr.ecr.us-east-1.amazonaws.com/air-quality-forecasting-preprocessing:latest\\\",\\\"ContainerEntrypoint\\\":[\\\"python3\\\",\\\"/opt/ml/processing/input/code/preprocessing.py\\\"],\\\"ContainerArguments\\\":[\\\"--split-days\\\",\\\"30\\\"]},\\\"RoleArn\\\":\\\"arn:aws:iam::593380422482:role/aqf-workshop-SageMakerIamRole-1FZH5KS299E6L\\\",\\\"ExperimentConfig\\\":{},\\\"ProcessingJobArn\\\":\\\"arn:aws:sagemaker:us-east-1:593380422482:processing-job/aqf-preprocessing-11b9babcfbd511eab645d55be1272f71\\\",\\\"ProcessingJobStatus\\\":\\\"Completed\\\",\\\"ProcessingEndTime\\\":1.60067097E12,\\\"ProcessingStartTime\\\":1.600670903E12,\\\"LastModifiedTime\\\":1.60067097E12,\\\"CreationTime\\\":1.60067069E12,\\\"Tags\\\":{\\\"AWS_STEP_FUNCTIONS_EXECUTION_ARN\\\":\\\"arn:aws:states:us-east-1:593380422482:execution:AirQualityForecastingWorkflow2-02:d8d0b666-4344-4e6d-b7de-c07c92f28816\\\",\\\"MANAGED_BY_AWS\\\":\\\"STARTED_BY_STEP_FUNCTIONS\\\"}}\", \"outputDetails\": {\"truncated\": false}}}, {\"timestamp\": 1600670975.63, \"type\": \"TaskStateExited\", \"id\": 7, \"previousEventId\": 6, \"stateExitedEventDetails\": {\"name\": \"AirQualityForecasting Pre-processing Step\", \"output\": \"{\\\"ProcessingInputs\\\":[{\\\"InputName\\\":\\\"code\\\",\\\"S3Input\\\":{\\\"S3Uri\\\":\\\"s3://593380422482-openaq-forecasting/preprocessing/code/preprocessing.py\\\",\\\"LocalPath\\\":\\\"/opt/ml/processing/input/code\\\",\\\"S3DataType\\\":\\\"S3_PREFIX\\\",\\\"S3InputMode\\\":\\\"FILE\\\",\\\"S3DataDistributionType\\\":\\\"FULLYREPLICATED\\\"}}],\\\"ProcessingOutputConfig\\\":{\\\"Outputs\\\":[{\\\"OutputName\\\":\\\"all_data\\\",\\\"S3Output\\\":{\\\"S3Uri\\\":\\\"s3://593380422482-openaq-forecasting/preprocessing/output/all\\\",\\\"LocalPath\\\":\\\"/opt/ml/processing/output/all\\\",\\\"S3UploadMode\\\":\\\"END_OF_JOB\\\"}},{\\\"OutputName\\\":\\\"train_data\\\",\\\"S3Output\\\":{\\\"S3Uri\\\":\\\"s3://593380422482-openaq-forecasting/preprocessing/output/train\\\",\\\"LocalPath\\\":\\\"/opt/ml/processing/output/train\\\",\\\"S3UploadMode\\\":\\\"END_OF_JOB\\\"}},{\\\"OutputName\\\":\\\"test_data\\\",\\\"S3Output\\\":{\\\"S3Uri\\\":\\\"s3://593380422482-openaq-forecasting/preprocessing/output/test\\\",\\\"LocalPath\\\":\\\"/opt/ml/processing/output/test\\\",\\\"S3UploadMode\\\":\\\"END_OF_JOB\\\"}}]},\\\"ProcessingJobName\\\":\\\"aqf-preprocessing-11b9babcfbd511eab645d55be1272f71\\\",\\\"ProcessingResources\\\":{\\\"ClusterConfig\\\":{\\\"InstanceCount\\\":1.0,\\\"InstanceType\\\":\\\"ml.m5.xlarge\\\",\\\"VolumeSizeInGB\\\":30.0}},\\\"StoppingCondition\\\":{\\\"MaxRuntimeInSeconds\\\":1200.0},\\\"AppSpecification\\\":{\\\"ImageUri\\\":\\\"593380422482.dkr.ecr.us-east-1.amazonaws.com/air-quality-forecasting-preprocessing:latest\\\",\\\"ContainerEntrypoint\\\":[\\\"python3\\\",\\\"/opt/ml/processing/input/code/preprocessing.py\\\"],\\\"ContainerArguments\\\":[\\\"--split-days\\\",\\\"30\\\"]},\\\"RoleArn\\\":\\\"arn:aws:iam::593380422482:role/aqf-workshop-SageMakerIamRole-1FZH5KS299E6L\\\",\\\"ExperimentConfig\\\":{},\\\"ProcessingJobArn\\\":\\\"arn:aws:sagemaker:us-east-1:593380422482:processing-job/aqf-preprocessing-11b9babcfbd511eab645d55be1272f71\\\",\\\"ProcessingJobStatus\\\":\\\"Completed\\\",\\\"ProcessingEndTime\\\":1.60067097E12,\\\"ProcessingStartTime\\\":1.600670903E12,\\\"LastModifiedTime\\\":1.60067097E12,\\\"CreationTime\\\":1.60067069E12,\\\"Tags\\\":{\\\"AWS_STEP_FUNCTIONS_EXECUTION_ARN\\\":\\\"arn:aws:states:us-east-1:593380422482:execution:AirQualityForecastingWorkflow2-02:d8d0b666-4344-4e6d-b7de-c07c92f28816\\\",\\\"MANAGED_BY_AWS\\\":\\\"STARTED_BY_STEP_FUNCTIONS\\\"}}\", \"outputDetails\": {\"truncated\": false}}}, {\"timestamp\": 1600670975.638, \"type\": \"ChoiceStateEntered\", \"id\": 8, \"previousEventId\": 7, \"stateEnteredEventDetails\": {\"name\": \"To do HPO?\", \"input\": \"{\\\"ProcessingInputs\\\":[{\\\"InputName\\\":\\\"code\\\",\\\"S3Input\\\":{\\\"S3Uri\\\":\\\"s3://593380422482-openaq-forecasting/preprocessing/code/preprocessing.py\\\",\\\"LocalPath\\\":\\\"/opt/ml/processing/input/code\\\",\\\"S3DataType\\\":\\\"S3_PREFIX\\\",\\\"S3InputMode\\\":\\\"FILE\\\",\\\"S3DataDistributionType\\\":\\\"FULLYREPLICATED\\\"}}],\\\"ProcessingOutputConfig\\\":{\\\"Outputs\\\":[{\\\"OutputName\\\":\\\"all_data\\\",\\\"S3Output\\\":{\\\"S3Uri\\\":\\\"s3://593380422482-openaq-forecasting/preprocessing/output/all\\\",\\\"LocalPath\\\":\\\"/opt/ml/processing/output/all\\\",\\\"S3UploadMode\\\":\\\"END_OF_JOB\\\"}},{\\\"OutputName\\\":\\\"train_data\\\",\\\"S3Output\\\":{\\\"S3Uri\\\":\\\"s3://593380422482-openaq-forecasting/preprocessing/output/train\\\",\\\"LocalPath\\\":\\\"/opt/ml/processing/output/train\\\",\\\"S3UploadMode\\\":\\\"END_OF_JOB\\\"}},{\\\"OutputName\\\":\\\"test_data\\\",\\\"S3Output\\\":{\\\"S3Uri\\\":\\\"s3://593380422482-openaq-forecasting/preprocessing/output/test\\\",\\\"LocalPath\\\":\\\"/opt/ml/processing/output/test\\\",\\\"S3UploadMode\\\":\\\"END_OF_JOB\\\"}}]},\\\"ProcessingJobName\\\":\\\"aqf-preprocessing-11b9babcfbd511eab645d55be1272f71\\\",\\\"ProcessingResources\\\":{\\\"ClusterConfig\\\":{\\\"InstanceCount\\\":1.0,\\\"InstanceType\\\":\\\"ml.m5.xlarge\\\",\\\"VolumeSizeInGB\\\":30.0}},\\\"StoppingCondition\\\":{\\\"MaxRuntimeInSeconds\\\":1200.0},\\\"AppSpecification\\\":{\\\"ImageUri\\\":\\\"593380422482.dkr.ecr.us-east-1.amazonaws.com/air-quality-forecasting-preprocessing:latest\\\",\\\"ContainerEntrypoint\\\":[\\\"python3\\\",\\\"/opt/ml/processing/input/code/preprocessing.py\\\"],\\\"ContainerArguments\\\":[\\\"--split-days\\\",\\\"30\\\"]},\\\"RoleArn\\\":\\\"arn:aws:iam::593380422482:role/aqf-workshop-SageMakerIamRole-1FZH5KS299E6L\\\",\\\"ExperimentConfig\\\":{},\\\"ProcessingJobArn\\\":\\\"arn:aws:sagemaker:us-east-1:593380422482:processing-job/aqf-preprocessing-11b9babcfbd511eab645d55be1272f71\\\",\\\"ProcessingJobStatus\\\":\\\"Completed\\\",\\\"ProcessingEndTime\\\":1.60067097E12,\\\"ProcessingStartTime\\\":1.600670903E12,\\\"LastModifiedTime\\\":1.60067097E12,\\\"CreationTime\\\":1.60067069E12,\\\"Tags\\\":{\\\"AWS_STEP_FUNCTIONS_EXECUTION_ARN\\\":\\\"arn:aws:states:us-east-1:593380422482:execution:AirQualityForecastingWorkflow2-02:d8d0b666-4344-4e6d-b7de-c07c92f28816\\\",\\\"MANAGED_BY_AWS\\\":\\\"STARTED_BY_STEP_FUNCTIONS\\\"}}\", \"inputDetails\": {\"truncated\": false}}}, {\"timestamp\": 1600670975.638, \"type\": \"ChoiceStateExited\", \"id\": 9, \"previousEventId\": 8, \"stateExitedEventDetails\": {\"name\": \"To do HPO?\", \"output\": \"{\\\"ProcessingInputs\\\":[{\\\"InputName\\\":\\\"code\\\",\\\"S3Input\\\":{\\\"S3Uri\\\":\\\"s3://593380422482-openaq-forecasting/preprocessing/code/preprocessing.py\\\",\\\"LocalPath\\\":\\\"/opt/ml/processing/input/code\\\",\\\"S3DataType\\\":\\\"S3_PREFIX\\\",\\\"S3InputMode\\\":\\\"FILE\\\",\\\"S3DataDistributionType\\\":\\\"FULLYREPLICATED\\\"}}],\\\"ProcessingOutputConfig\\\":{\\\"Outputs\\\":[{\\\"OutputName\\\":\\\"all_data\\\",\\\"S3Output\\\":{\\\"S3Uri\\\":\\\"s3://593380422482-openaq-forecasting/preprocessing/output/all\\\",\\\"LocalPath\\\":\\\"/opt/ml/processing/output/all\\\",\\\"S3UploadMode\\\":\\\"END_OF_JOB\\\"}},{\\\"OutputName\\\":\\\"train_data\\\",\\\"S3Output\\\":{\\\"S3Uri\\\":\\\"s3://593380422482-openaq-forecasting/preprocessing/output/train\\\",\\\"LocalPath\\\":\\\"/opt/ml/processing/output/train\\\",\\\"S3UploadMode\\\":\\\"END_OF_JOB\\\"}},{\\\"OutputName\\\":\\\"test_data\\\",\\\"S3Output\\\":{\\\"S3Uri\\\":\\\"s3://593380422482-openaq-forecasting/preprocessing/output/test\\\",\\\"LocalPath\\\":\\\"/opt/ml/processing/output/test\\\",\\\"S3UploadMode\\\":\\\"END_OF_JOB\\\"}}]},\\\"ProcessingJobName\\\":\\\"aqf-preprocessing-11b9babcfbd511eab645d55be1272f71\\\",\\\"ProcessingResources\\\":{\\\"ClusterConfig\\\":{\\\"InstanceCount\\\":1.0,\\\"InstanceType\\\":\\\"ml.m5.xlarge\\\",\\\"VolumeSizeInGB\\\":30.0}},\\\"StoppingCondition\\\":{\\\"MaxRuntimeInSeconds\\\":1200.0},\\\"AppSpecification\\\":{\\\"ImageUri\\\":\\\"593380422482.dkr.ecr.us-east-1.amazonaws.com/air-quality-forecasting-preprocessing:latest\\\",\\\"ContainerEntrypoint\\\":[\\\"python3\\\",\\\"/opt/ml/processing/input/code/preprocessing.py\\\"],\\\"ContainerArguments\\\":[\\\"--split-days\\\",\\\"30\\\"]},\\\"RoleArn\\\":\\\"arn:aws:iam::593380422482:role/aqf-workshop-SageMakerIamRole-1FZH5KS299E6L\\\",\\\"ExperimentConfig\\\":{},\\\"ProcessingJobArn\\\":\\\"arn:aws:sagemaker:us-east-1:593380422482:processing-job/aqf-preprocessing-11b9babcfbd511eab645d55be1272f71\\\",\\\"ProcessingJobStatus\\\":\\\"Completed\\\",\\\"ProcessingEndTime\\\":1.60067097E12,\\\"ProcessingStartTime\\\":1.600670903E12,\\\"LastModifiedTime\\\":1.60067097E12,\\\"CreationTime\\\":1.60067069E12,\\\"Tags\\\":{\\\"AWS_STEP_FUNCTIONS_EXECUTION_ARN\\\":\\\"arn:aws:states:us-east-1:593380422482:execution:AirQualityForecastingWorkflow2-02:d8d0b666-4344-4e6d-b7de-c07c92f28816\\\",\\\"MANAGED_BY_AWS\\\":\\\"STARTED_BY_STEP_FUNCTIONS\\\"}}\", \"outputDetails\": {\"truncated\": false}}}, {\"timestamp\": 1600670975.739, \"type\": \"ChoiceStateEntered\", \"id\": 10, \"previousEventId\": 9, \"stateEnteredEventDetails\": {\"name\": \"To do Model Training?\", \"input\": \"{\\\"ProcessingInputs\\\":[{\\\"InputName\\\":\\\"code\\\",\\\"S3Input\\\":{\\\"S3Uri\\\":\\\"s3://593380422482-openaq-forecasting/preprocessing/code/preprocessing.py\\\",\\\"LocalPath\\\":\\\"/opt/ml/processing/input/code\\\",\\\"S3DataType\\\":\\\"S3_PREFIX\\\",\\\"S3InputMode\\\":\\\"FILE\\\",\\\"S3DataDistributionType\\\":\\\"FULLYREPLICATED\\\"}}],\\\"ProcessingOutputConfig\\\":{\\\"Outputs\\\":[{\\\"OutputName\\\":\\\"all_data\\\",\\\"S3Output\\\":{\\\"S3Uri\\\":\\\"s3://593380422482-openaq-forecasting/preprocessing/output/all\\\",\\\"LocalPath\\\":\\\"/opt/ml/processing/output/all\\\",\\\"S3UploadMode\\\":\\\"END_OF_JOB\\\"}},{\\\"OutputName\\\":\\\"train_data\\\",\\\"S3Output\\\":{\\\"S3Uri\\\":\\\"s3://593380422482-openaq-forecasting/preprocessing/output/train\\\",\\\"LocalPath\\\":\\\"/opt/ml/processing/output/train\\\",\\\"S3UploadMode\\\":\\\"END_OF_JOB\\\"}},{\\\"OutputName\\\":\\\"test_data\\\",\\\"S3Output\\\":{\\\"S3Uri\\\":\\\"s3://593380422482-openaq-forecasting/preprocessing/output/test\\\",\\\"LocalPath\\\":\\\"/opt/ml/processing/output/test\\\",\\\"S3UploadMode\\\":\\\"END_OF_JOB\\\"}}]},\\\"ProcessingJobName\\\":\\\"aqf-preprocessing-11b9babcfbd511eab645d55be1272f71\\\",\\\"ProcessingResources\\\":{\\\"ClusterConfig\\\":{\\\"InstanceCount\\\":1.0,\\\"InstanceType\\\":\\\"ml.m5.xlarge\\\",\\\"VolumeSizeInGB\\\":30.0}},\\\"StoppingCondition\\\":{\\\"MaxRuntimeInSeconds\\\":1200.0},\\\"AppSpecification\\\":{\\\"ImageUri\\\":\\\"593380422482.dkr.ecr.us-east-1.amazonaws.com/air-quality-forecasting-preprocessing:latest\\\",\\\"ContainerEntrypoint\\\":[\\\"python3\\\",\\\"/opt/ml/processing/input/code/preprocessing.py\\\"],\\\"ContainerArguments\\\":[\\\"--split-days\\\",\\\"30\\\"]},\\\"RoleArn\\\":\\\"arn:aws:iam::593380422482:role/aqf-workshop-SageMakerIamRole-1FZH5KS299E6L\\\",\\\"ExperimentConfig\\\":{},\\\"ProcessingJobArn\\\":\\\"arn:aws:sagemaker:us-east-1:593380422482:processing-job/aqf-preprocessing-11b9babcfbd511eab645d55be1272f71\\\",\\\"ProcessingJobStatus\\\":\\\"Completed\\\",\\\"ProcessingEndTime\\\":1.60067097E12,\\\"ProcessingStartTime\\\":1.600670903E12,\\\"LastModifiedTime\\\":1.60067097E12,\\\"CreationTime\\\":1.60067069E12,\\\"Tags\\\":{\\\"AWS_STEP_FUNCTIONS_EXECUTION_ARN\\\":\\\"arn:aws:states:us-east-1:593380422482:execution:AirQualityForecastingWorkflow2-02:d8d0b666-4344-4e6d-b7de-c07c92f28816\\\",\\\"MANAGED_BY_AWS\\\":\\\"STARTED_BY_STEP_FUNCTIONS\\\"}}\", \"inputDetails\": {\"truncated\": false}}}, {\"timestamp\": 1600670975.739, \"type\": \"ChoiceStateExited\", \"id\": 11, \"previousEventId\": 10, \"stateExitedEventDetails\": {\"name\": \"To do Model Training?\", \"output\": \"{\\\"ProcessingInputs\\\":[{\\\"InputName\\\":\\\"code\\\",\\\"S3Input\\\":{\\\"S3Uri\\\":\\\"s3://593380422482-openaq-forecasting/preprocessing/code/preprocessing.py\\\",\\\"LocalPath\\\":\\\"/opt/ml/processing/input/code\\\",\\\"S3DataType\\\":\\\"S3_PREFIX\\\",\\\"S3InputMode\\\":\\\"FILE\\\",\\\"S3DataDistributionType\\\":\\\"FULLYREPLICATED\\\"}}],\\\"ProcessingOutputConfig\\\":{\\\"Outputs\\\":[{\\\"OutputName\\\":\\\"all_data\\\",\\\"S3Output\\\":{\\\"S3Uri\\\":\\\"s3://593380422482-openaq-forecasting/preprocessing/output/all\\\",\\\"LocalPath\\\":\\\"/opt/ml/processing/output/all\\\",\\\"S3UploadMode\\\":\\\"END_OF_JOB\\\"}},{\\\"OutputName\\\":\\\"train_data\\\",\\\"S3Output\\\":{\\\"S3Uri\\\":\\\"s3://593380422482-openaq-forecasting/preprocessing/output/train\\\",\\\"LocalPath\\\":\\\"/opt/ml/processing/output/train\\\",\\\"S3UploadMode\\\":\\\"END_OF_JOB\\\"}},{\\\"OutputName\\\":\\\"test_data\\\",\\\"S3Output\\\":{\\\"S3Uri\\\":\\\"s3://593380422482-openaq-forecasting/preprocessing/output/test\\\",\\\"LocalPath\\\":\\\"/opt/ml/processing/output/test\\\",\\\"S3UploadMode\\\":\\\"END_OF_JOB\\\"}}]},\\\"ProcessingJobName\\\":\\\"aqf-preprocessing-11b9babcfbd511eab645d55be1272f71\\\",\\\"ProcessingResources\\\":{\\\"ClusterConfig\\\":{\\\"InstanceCount\\\":1.0,\\\"InstanceType\\\":\\\"ml.m5.xlarge\\\",\\\"VolumeSizeInGB\\\":30.0}},\\\"StoppingCondition\\\":{\\\"MaxRuntimeInSeconds\\\":1200.0},\\\"AppSpecification\\\":{\\\"ImageUri\\\":\\\"593380422482.dkr.ecr.us-east-1.amazonaws.com/air-quality-forecasting-preprocessing:latest\\\",\\\"ContainerEntrypoint\\\":[\\\"python3\\\",\\\"/opt/ml/processing/input/code/preprocessing.py\\\"],\\\"ContainerArguments\\\":[\\\"--split-days\\\",\\\"30\\\"]},\\\"RoleArn\\\":\\\"arn:aws:iam::593380422482:role/aqf-workshop-SageMakerIamRole-1FZH5KS299E6L\\\",\\\"ExperimentConfig\\\":{},\\\"ProcessingJobArn\\\":\\\"arn:aws:sagemaker:us-east-1:593380422482:processing-job/aqf-preprocessing-11b9babcfbd511eab645d55be1272f71\\\",\\\"ProcessingJobStatus\\\":\\\"Completed\\\",\\\"ProcessingEndTime\\\":1.60067097E12,\\\"ProcessingStartTime\\\":1.600670903E12,\\\"LastModifiedTime\\\":1.60067097E12,\\\"CreationTime\\\":1.60067069E12,\\\"Tags\\\":{\\\"AWS_STEP_FUNCTIONS_EXECUTION_ARN\\\":\\\"arn:aws:states:us-east-1:593380422482:execution:AirQualityForecastingWorkflow2-02:d8d0b666-4344-4e6d-b7de-c07c92f28816\\\",\\\"MANAGED_BY_AWS\\\":\\\"STARTED_BY_STEP_FUNCTIONS\\\"}}\", \"outputDetails\": {\"truncated\": false}}}, {\"timestamp\": 1600670975.839, \"type\": \"TaskStateEntered\", \"id\": 12, \"previousEventId\": 11, \"stateEnteredEventDetails\": {\"name\": \"Training Step\", \"input\": \"{\\\"ProcessingInputs\\\":[{\\\"InputName\\\":\\\"code\\\",\\\"S3Input\\\":{\\\"S3Uri\\\":\\\"s3://593380422482-openaq-forecasting/preprocessing/code/preprocessing.py\\\",\\\"LocalPath\\\":\\\"/opt/ml/processing/input/code\\\",\\\"S3DataType\\\":\\\"S3_PREFIX\\\",\\\"S3InputMode\\\":\\\"FILE\\\",\\\"S3DataDistributionType\\\":\\\"FULLYREPLICATED\\\"}}],\\\"ProcessingOutputConfig\\\":{\\\"Outputs\\\":[{\\\"OutputName\\\":\\\"all_data\\\",\\\"S3Output\\\":{\\\"S3Uri\\\":\\\"s3://593380422482-openaq-forecasting/preprocessing/output/all\\\",\\\"LocalPath\\\":\\\"/opt/ml/processing/output/all\\\",\\\"S3UploadMode\\\":\\\"END_OF_JOB\\\"}},{\\\"OutputName\\\":\\\"train_data\\\",\\\"S3Output\\\":{\\\"S3Uri\\\":\\\"s3://593380422482-openaq-forecasting/preprocessing/output/train\\\",\\\"LocalPath\\\":\\\"/opt/ml/processing/output/train\\\",\\\"S3UploadMode\\\":\\\"END_OF_JOB\\\"}},{\\\"OutputName\\\":\\\"test_data\\\",\\\"S3Output\\\":{\\\"S3Uri\\\":\\\"s3://593380422482-openaq-forecasting/preprocessing/output/test\\\",\\\"LocalPath\\\":\\\"/opt/ml/processing/output/test\\\",\\\"S3UploadMode\\\":\\\"END_OF_JOB\\\"}}]},\\\"ProcessingJobName\\\":\\\"aqf-preprocessing-11b9babcfbd511eab645d55be1272f71\\\",\\\"ProcessingResources\\\":{\\\"ClusterConfig\\\":{\\\"InstanceCount\\\":1.0,\\\"InstanceType\\\":\\\"ml.m5.xlarge\\\",\\\"VolumeSizeInGB\\\":30.0}},\\\"StoppingCondition\\\":{\\\"MaxRuntimeInSeconds\\\":1200.0},\\\"AppSpecification\\\":{\\\"ImageUri\\\":\\\"593380422482.dkr.ecr.us-east-1.amazonaws.com/air-quality-forecasting-preprocessing:latest\\\",\\\"ContainerEntrypoint\\\":[\\\"python3\\\",\\\"/opt/ml/processing/input/code/preprocessing.py\\\"],\\\"ContainerArguments\\\":[\\\"--split-days\\\",\\\"30\\\"]},\\\"RoleArn\\\":\\\"arn:aws:iam::593380422482:role/aqf-workshop-SageMakerIamRole-1FZH5KS299E6L\\\",\\\"ExperimentConfig\\\":{},\\\"ProcessingJobArn\\\":\\\"arn:aws:sagemaker:us-east-1:593380422482:processing-job/aqf-preprocessing-11b9babcfbd511eab645d55be1272f71\\\",\\\"ProcessingJobStatus\\\":\\\"Completed\\\",\\\"ProcessingEndTime\\\":1.60067097E12,\\\"ProcessingStartTime\\\":1.600670903E12,\\\"LastModifiedTime\\\":1.60067097E12,\\\"CreationTime\\\":1.60067069E12,\\\"Tags\\\":{\\\"AWS_STEP_FUNCTIONS_EXECUTION_ARN\\\":\\\"arn:aws:states:us-east-1:593380422482:execution:AirQualityForecastingWorkflow2-02:d8d0b666-4344-4e6d-b7de-c07c92f28816\\\",\\\"MANAGED_BY_AWS\\\":\\\"STARTED_BY_STEP_FUNCTIONS\\\"}}\", \"inputDetails\": {\"truncated\": false}}}, {\"timestamp\": 1600670975.839, \"type\": \"TaskScheduled\", \"id\": 13, \"previousEventId\": 12, \"taskScheduledEventDetails\": {\"resourceType\": \"sagemaker\", \"resource\": \"createTrainingJob.sync\", \"region\": \"us-east-1\", \"parameters\": \"{\\\"AlgorithmSpecification\\\":{\\\"TrainingImage\\\":\\\"522234722520.dkr.ecr.us-east-1.amazonaws.com/forecasting-deepar:latest\\\",\\\"TrainingInputMode\\\":\\\"File\\\"},\\\"OutputDataConfig\\\":{\\\"S3OutputPath\\\":\\\"s3://593380422482-openaq-forecasting/sagemaker/training/output\\\"},\\\"StoppingCondition\\\":{\\\"MaxRuntimeInSeconds\\\":86400},\\\"ResourceConfig\\\":{\\\"InstanceCount\\\":1,\\\"InstanceType\\\":\\\"ml.c5.9xlarge\\\",\\\"VolumeSizeInGB\\\":30},\\\"RoleArn\\\":\\\"arn:aws:iam::593380422482:role/aqf-workshop-SageMakerIamRole-1FZH5KS299E6L\\\",\\\"InputDataConfig\\\":[{\\\"DataSource\\\":{\\\"S3DataSource\\\":{\\\"S3DataType\\\":\\\"S3Prefix\\\",\\\"S3Uri\\\":\\\"s3://593380422482-openaq-forecasting/preprocessing/output/all/all_features.json\\\",\\\"S3DataDistributionType\\\":\\\"FullyReplicated\\\"}},\\\"ChannelName\\\":\\\"train\\\"}],\\\"HyperParameters\\\":{\\\"time_freq\\\":\\\"1H\\\",\\\"early_stopping_patience\\\":\\\"40\\\",\\\"prediction_length\\\":\\\"48\\\",\\\"num_eval_samples\\\":\\\"10\\\",\\\"epochs\\\":\\\"400\\\",\\\"context_length\\\":\\\"3\\\",\\\"num_cells\\\":\\\"157\\\",\\\"num_layers\\\":\\\"4\\\",\\\"dropout_rate\\\":\\\"0.04\\\",\\\"embedding_dimension\\\":\\\"12\\\",\\\"mini_batch_size\\\":\\\"633\\\",\\\"learning_rate\\\":\\\"0.0005\\\"},\\\"TrainingJobName\\\":\\\"aqf-training-11b9c0c0fbd511eab645d55be1272f71\\\",\\\"Tags\\\":[{\\\"Key\\\":\\\"MANAGED_BY_AWS\\\",\\\"Value\\\":\\\"STARTED_BY_STEP_FUNCTIONS\\\"}]}\"}}, {\"timestamp\": 1600670975.851, \"type\": \"TaskStarted\", \"id\": 14, \"previousEventId\": 13, \"taskStartedEventDetails\": {\"resourceType\": \"sagemaker\", \"resource\": \"createTrainingJob.sync\"}}, {\"timestamp\": 1600670976.069, \"type\": \"TaskSubmitted\", \"id\": 15, \"previousEventId\": 14, \"taskSubmittedEventDetails\": {\"resourceType\": \"sagemaker\", \"resource\": \"createTrainingJob.sync\", \"output\": \"{\\\"SdkHttpMetadata\\\":{\\\"AllHttpHeaders\\\":{\\\"x-amzn-RequestId\\\":[\\\"e3e81624-f761-4f04-a5bb-67c8082f55a1\\\"],\\\"Content-Length\\\":[\\\"120\\\"],\\\"Date\\\":[\\\"Mon, 21 Sep 2020 06:49:36 GMT\\\"],\\\"Content-Type\\\":[\\\"application/x-amz-json-1.1\\\"]},\\\"HttpHeaders\\\":{\\\"Content-Length\\\":\\\"120\\\",\\\"Content-Type\\\":\\\"application/x-amz-json-1.1\\\",\\\"Date\\\":\\\"Mon, 21 Sep 2020 06:49:36 GMT\\\",\\\"x-amzn-RequestId\\\":\\\"e3e81624-f761-4f04-a5bb-67c8082f55a1\\\"},\\\"HttpStatusCode\\\":200},\\\"SdkResponseMetadata\\\":{\\\"RequestId\\\":\\\"e3e81624-f761-4f04-a5bb-67c8082f55a1\\\"},\\\"TrainingJobArn\\\":\\\"arn:aws:sagemaker:us-east-1:593380422482:training-job/aqf-training-11b9c0c0fbd511eab645d55be1272f71\\\"}\", \"outputDetails\": {\"truncated\": false}}}, {\"timestamp\": 1600671408.509, \"type\": \"TaskFailed\", \"id\": 16, \"previousEventId\": 15, \"taskFailedEventDetails\": {\"resourceType\": \"sagemaker\", \"resource\": \"createTrainingJob.sync\", \"error\": \"States.TaskFailed\", \"cause\": \"{\\\"AlgorithmSpecification\\\":{\\\"EnableSageMakerMetricsTimeSeries\\\":false,\\\"MetricDefinitions\\\":[{\\\"Name\\\":\\\"test:mean_wQuantileLoss\\\",\\\"Regex\\\":\\\"#quality_metric: host=\\\\\\\\S+, test mean_wQuantileLoss <loss>=(\\\\\\\\S+)\\\"},{\\\"Name\\\":\\\"train:loss:batch\\\",\\\"Regex\\\":\\\"#quality_metric: host=\\\\\\\\S+, epoch=\\\\\\\\S+, batch=\\\\\\\\S+ train loss <loss>=(\\\\\\\\S+)\\\"},{\\\"Name\\\":\\\"train:progress\\\",\\\"Regex\\\":\\\"#progress_metric: host=\\\\\\\\S+, completed (\\\\\\\\S+) %\\\"},{\\\"Name\\\":\\\"train:loss\\\",\\\"Regex\\\":\\\"#quality_metric: host=\\\\\\\\S+, epoch=\\\\\\\\S+, train loss <loss>=(\\\\\\\\S+)\\\"},{\\\"Name\\\":\\\"train:final_loss\\\",\\\"Regex\\\":\\\"#quality_metric: host=\\\\\\\\S+, train final_loss <loss>=(\\\\\\\\S+)\\\"},{\\\"Name\\\":\\\"train:throughput\\\",\\\"Regex\\\":\\\"#throughput_metric: host=\\\\\\\\S+, train throughput=(\\\\\\\\S+) records/second\\\"},{\\\"Name\\\":\\\"test:RMSE\\\",\\\"Regex\\\":\\\"#quality_metric: host=\\\\\\\\S+, test RMSE <loss>=(\\\\\\\\S+)\\\"}],\\\"TrainingImage\\\":\\\"522234722520.dkr.ecr.us-east-1.amazonaws.com/forecasting-deepar:latest\\\",\\\"TrainingInputMode\\\":\\\"File\\\"},\\\"BillableTimeInSeconds\\\":306,\\\"CreationTime\\\":1600670976044,\\\"EnableInterContainerTrafficEncryption\\\":false,\\\"EnableManagedSpotTraining\\\":false,\\\"EnableNetworkIsolation\\\":false,\\\"FinalMetricDataList\\\":[{\\\"MetricName\\\":\\\"train:loss:batch\\\",\\\"Timestamp\\\":1600671372,\\\"Value\\\":2.598305},{\\\"MetricName\\\":\\\"train:progress\\\",\\\"Timestamp\\\":1600671380,\\\"Value\\\":1.0},{\\\"MetricName\\\":\\\"train:loss\\\",\\\"Timestamp\\\":1600671380,\\\"Value\\\":2.5264938},{\\\"MetricName\\\":\\\"train:final_loss\\\",\\\"Timestamp\\\":1600671380,\\\"Value\\\":2.3482804},{\\\"MetricName\\\":\\\"train:throughput\\\",\\\"Timestamp\\\":1600671380,\\\"Value\\\":83.82409}],\\\"HyperParameters\\\":{\\\"prediction_length\\\":\\\"48\\\",\\\"dropout_rate\\\":\\\"0.04\\\",\\\"num_eval_samples\\\":\\\"10\\\",\\\"time_freq\\\":\\\"1H\\\",\\\"context_length\\\":\\\"3\\\",\\\"embedding_dimension\\\":\\\"12\\\",\\\"num_layers\\\":\\\"4\\\",\\\"epochs\\\":\\\"400\\\",\\\"learning_rate\\\":\\\"0.0005\\\",\\\"early_stopping_patience\\\":\\\"40\\\",\\\"mini_batch_size\\\":\\\"633\\\",\\\"num_cells\\\":\\\"157\\\"},\\\"InputDataConfig\\\":[{\\\"ChannelName\\\":\\\"train\\\",\\\"CompressionType\\\":\\\"None\\\",\\\"DataSource\\\":{\\\"S3DataSource\\\":{\\\"S3DataDistributionType\\\":\\\"FullyReplicated\\\",\\\"S3DataType\\\":\\\"S3Prefix\\\",\\\"S3Uri\\\":\\\"s3://593380422482-openaq-forecasting/preprocessing/output/all/all_features.json\\\"}},\\\"RecordWrapperType\\\":\\\"None\\\"}],\\\"LastModifiedTime\\\":1600671406593,\\\"ModelArtifacts\\\":{\\\"S3ModelArtifacts\\\":\\\"s3://593380422482-openaq-forecasting/sagemaker/training/output/aqf-training-11b9c0c0fbd511eab645d55be1272f71/output/model.tar.gz\\\"},\\\"OutputDataConfig\\\":{\\\"KmsKeyId\\\":\\\"\\\",\\\"S3OutputPath\\\":\\\"s3://593380422482-openaq-forecasting/sagemaker/training/output\\\"},\\\"ResourceConfig\\\":{\\\"InstanceCount\\\":1,\\\"InstanceType\\\":\\\"ml.c5.9xlarge\\\",\\\"VolumeSizeInGB\\\":30},\\\"RoleArn\\\":\\\"arn:aws:iam::593380422482:role/aqf-workshop-SageMakerIamRole-1FZH5KS299E6L\\\",\\\"SdkHttpMetadata\\\":{\\\"AllHttpHeaders\\\":{\\\"x-amzn-RequestId\\\":[\\\"af8decab-3e80-4ab3-9eeb-4f82b774901d\\\"],\\\"Content-Length\\\":[\\\"3973\\\"],\\\"Date\\\":[\\\"Mon, 21 Sep 2020 06:56:47 GMT\\\"],\\\"Content-Type\\\":[\\\"application/x-amz-json-1.1\\\"]},\\\"HttpHeaders\\\":{\\\"Content-Length\\\":\\\"3973\\\",\\\"Content-Type\\\":\\\"application/x-amz-json-1.1\\\",\\\"Date\\\":\\\"Mon, 21 Sep 2020 06:56:47 GMT\\\",\\\"x-amzn-RequestId\\\":\\\"af8decab-3e80-4ab3-9eeb-4f82b774901d\\\"},\\\"HttpStatusCode\\\":200},\\\"SdkResponseMetadata\\\":{\\\"RequestId\\\":\\\"af8decab-3e80-4ab3-9eeb-4f82b774901d\\\"},\\\"SecondaryStatus\\\":\\\"Stopped\\\",\\\"SecondaryStatusTransitions\\\":[{\\\"EndTime\\\":1600671100797,\\\"StartTime\\\":1600670976044,\\\"Status\\\":\\\"Starting\\\",\\\"StatusMessage\\\":\\\"Preparing the instances for training\\\"},{\\\"EndTime\\\":1600671106613,\\\"StartTime\\\":1600671100797,\\\"Status\\\":\\\"Downloading\\\",\\\"StatusMessage\\\":\\\"Downloading input data\\\"},{\\\"EndTime\\\":1600671379022,\\\"StartTime\\\":1600671106613,\\\"Status\\\":\\\"Training\\\",\\\"StatusMessage\\\":\\\"Training image download completed. Training in progress.\\\"},{\\\"EndTime\\\":1600671399752,\\\"StartTime\\\":1600671379022,\\\"Status\\\":\\\"Stopping\\\",\\\"StatusMessage\\\":\\\"Stopping the training job\\\"},{\\\"EndTime\\\":1600671406593,\\\"StartTime\\\":1600671399752,\\\"Status\\\":\\\"Uploading\\\",\\\"StatusMessage\\\":\\\"Uploading generated training model\\\"},{\\\"EndTime\\\":1600671406593,\\\"StartTime\\\":1600671406593,\\\"Status\\\":\\\"Stopped\\\",\\\"StatusMessage\\\":\\\"Training job stopped\\\"}],\\\"StoppingCondition\\\":{\\\"MaxRuntimeInSeconds\\\":86400},\\\"TrainingEndTime\\\":1600671406593,\\\"TrainingJobArn\\\":\\\"arn:aws:sagemaker:us-east-1:593380422482:training-job/aqf-training-11b9c0c0fbd511eab645d55be1272f71\\\",\\\"TrainingJobName\\\":\\\"aqf-training-11b9c0c0fbd511eab645d55be1272f71\\\",\\\"TrainingJobStatus\\\":\\\"Stopped\\\",\\\"TrainingStartTime\\\":1600671100797,\\\"TrainingTimeInSeconds\\\":306,\\\"Tags\\\":{\\\"MANAGED_BY_AWS\\\":\\\"STARTED_BY_STEP_FUNCTIONS\\\",\\\"AWS_STEP_FUNCTIONS_EXECUTION_ARN\\\":\\\"arn:aws:states:us-east-1:593380422482:execution:AirQualityForecastingWorkflow2-02:d8d0b666-4344-4e6d-b7de-c07c92f28816\\\"}}\"}}, {\"timestamp\": 1600671408.509, \"type\": \"TaskStateExited\", \"id\": 17, \"previousEventId\": 16, \"stateExitedEventDetails\": {\"name\": \"Training Step\", \"output\": \"{\\\"Error\\\":\\\"States.TaskFailed\\\",\\\"Cause\\\":\\\"{\\\\\\\"AlgorithmSpecification\\\\\\\":{\\\\\\\"EnableSageMakerMetricsTimeSeries\\\\\\\":false,\\\\\\\"MetricDefinitions\\\\\\\":[{\\\\\\\"Name\\\\\\\":\\\\\\\"test:mean_wQuantileLoss\\\\\\\",\\\\\\\"Regex\\\\\\\":\\\\\\\"#quality_metric: host=\\\\\\\\\\\\\\\\S+, test mean_wQuantileLoss <loss>=(\\\\\\\\\\\\\\\\S+)\\\\\\\"},{\\\\\\\"Name\\\\\\\":\\\\\\\"train:loss:batch\\\\\\\",\\\\\\\"Regex\\\\\\\":\\\\\\\"#quality_metric: host=\\\\\\\\\\\\\\\\S+, epoch=\\\\\\\\\\\\\\\\S+, batch=\\\\\\\\\\\\\\\\S+ train loss <loss>=(\\\\\\\\\\\\\\\\S+)\\\\\\\"},{\\\\\\\"Name\\\\\\\":\\\\\\\"train:progress\\\\\\\",\\\\\\\"Regex\\\\\\\":\\\\\\\"#progress_metric: host=\\\\\\\\\\\\\\\\S+, completed (\\\\\\\\\\\\\\\\S+) %\\\\\\\"},{\\\\\\\"Name\\\\\\\":\\\\\\\"train:loss\\\\\\\",\\\\\\\"Regex\\\\\\\":\\\\\\\"#quality_metric: host=\\\\\\\\\\\\\\\\S+, epoch=\\\\\\\\\\\\\\\\S+, train loss <loss>=(\\\\\\\\\\\\\\\\S+)\\\\\\\"},{\\\\\\\"Name\\\\\\\":\\\\\\\"train:final_loss\\\\\\\",\\\\\\\"Regex\\\\\\\":\\\\\\\"#quality_metric: host=\\\\\\\\\\\\\\\\S+, train final_loss <loss>=(\\\\\\\\\\\\\\\\S+)\\\\\\\"},{\\\\\\\"Name\\\\\\\":\\\\\\\"train:throughput\\\\\\\",\\\\\\\"Regex\\\\\\\":\\\\\\\"#throughput_metric: host=\\\\\\\\\\\\\\\\S+, train throughput=(\\\\\\\\\\\\\\\\S+) records/second\\\\\\\"},{\\\\\\\"Name\\\\\\\":\\\\\\\"test:RMSE\\\\\\\",\\\\\\\"Regex\\\\\\\":\\\\\\\"#quality_metric: host=\\\\\\\\\\\\\\\\S+, test RMSE <loss>=(\\\\\\\\\\\\\\\\S+)\\\\\\\"}],\\\\\\\"TrainingImage\\\\\\\":\\\\\\\"522234722520.dkr.ecr.us-east-1.amazonaws.com/forecasting-deepar:latest\\\\\\\",\\\\\\\"TrainingInputMode\\\\\\\":\\\\\\\"File\\\\\\\"},\\\\\\\"BillableTimeInSeconds\\\\\\\":306,\\\\\\\"CreationTime\\\\\\\":1600670976044,\\\\\\\"EnableInterContainerTrafficEncryption\\\\\\\":false,\\\\\\\"EnableManagedSpotTraining\\\\\\\":false,\\\\\\\"EnableNetworkIsolation\\\\\\\":false,\\\\\\\"FinalMetricDataList\\\\\\\":[{\\\\\\\"MetricName\\\\\\\":\\\\\\\"train:loss:batch\\\\\\\",\\\\\\\"Timestamp\\\\\\\":1600671372,\\\\\\\"Value\\\\\\\":2.598305},{\\\\\\\"MetricName\\\\\\\":\\\\\\\"train:progress\\\\\\\",\\\\\\\"Timestamp\\\\\\\":1600671380,\\\\\\\"Value\\\\\\\":1.0},{\\\\\\\"MetricName\\\\\\\":\\\\\\\"train:loss\\\\\\\",\\\\\\\"Timestamp\\\\\\\":1600671380,\\\\\\\"Value\\\\\\\":2.5264938},{\\\\\\\"MetricName\\\\\\\":\\\\\\\"train:final_loss\\\\\\\",\\\\\\\"Timestamp\\\\\\\":1600671380,\\\\\\\"Value\\\\\\\":2.3482804},{\\\\\\\"MetricName\\\\\\\":\\\\\\\"train:throughput\\\\\\\",\\\\\\\"Timestamp\\\\\\\":1600671380,\\\\\\\"Value\\\\\\\":83.82409}],\\\\\\\"HyperParameters\\\\\\\":{\\\\\\\"prediction_length\\\\\\\":\\\\\\\"48\\\\\\\",\\\\\\\"dropout_rate\\\\\\\":\\\\\\\"0.04\\\\\\\",\\\\\\\"num_eval_samples\\\\\\\":\\\\\\\"10\\\\\\\",\\\\\\\"time_freq\\\\\\\":\\\\\\\"1H\\\\\\\",\\\\\\\"context_length\\\\\\\":\\\\\\\"3\\\\\\\",\\\\\\\"embedding_dimension\\\\\\\":\\\\\\\"12\\\\\\\",\\\\\\\"num_layers\\\\\\\":\\\\\\\"4\\\\\\\",\\\\\\\"epochs\\\\\\\":\\\\\\\"400\\\\\\\",\\\\\\\"learning_rate\\\\\\\":\\\\\\\"0.0005\\\\\\\",\\\\\\\"early_stopping_patience\\\\\\\":\\\\\\\"40\\\\\\\",\\\\\\\"mini_batch_size\\\\\\\":\\\\\\\"633\\\\\\\",\\\\\\\"num_cells\\\\\\\":\\\\\\\"157\\\\\\\"},\\\\\\\"InputDataConfig\\\\\\\":[{\\\\\\\"ChannelName\\\\\\\":\\\\\\\"train\\\\\\\",\\\\\\\"CompressionType\\\\\\\":\\\\\\\"None\\\\\\\",\\\\\\\"DataSource\\\\\\\":{\\\\\\\"S3DataSource\\\\\\\":{\\\\\\\"S3DataDistributionType\\\\\\\":\\\\\\\"FullyReplicated\\\\\\\",\\\\\\\"S3DataType\\\\\\\":\\\\\\\"S3Prefix\\\\\\\",\\\\\\\"S3Uri\\\\\\\":\\\\\\\"s3://593380422482-openaq-forecasting/preprocessing/output/all/all_features.json\\\\\\\"}},\\\\\\\"RecordWrapperType\\\\\\\":\\\\\\\"None\\\\\\\"}],\\\\\\\"LastModifiedTime\\\\\\\":1600671406593,\\\\\\\"ModelArtifacts\\\\\\\":{\\\\\\\"S3ModelArtifacts\\\\\\\":\\\\\\\"s3://593380422482-openaq-forecasting/sagemaker/training/output/aqf-training-11b9c0c0fbd511eab645d55be1272f71/output/model.tar.gz\\\\\\\"},\\\\\\\"OutputDataConfig\\\\\\\":{\\\\\\\"KmsKeyId\\\\\\\":\\\\\\\"\\\\\\\",\\\\\\\"S3OutputPath\\\\\\\":\\\\\\\"s3://593380422482-openaq-forecasting/sagemaker/training/output\\\\\\\"},\\\\\\\"ResourceConfig\\\\\\\":{\\\\\\\"InstanceCount\\\\\\\":1,\\\\\\\"InstanceType\\\\\\\":\\\\\\\"ml.c5.9xlarge\\\\\\\",\\\\\\\"VolumeSizeInGB\\\\\\\":30},\\\\\\\"RoleArn\\\\\\\":\\\\\\\"arn:aws:iam::593380422482:role/aqf-workshop-SageMakerIamRole-1FZH5KS299E6L\\\\\\\",\\\\\\\"SdkHttpMetadata\\\\\\\":{\\\\\\\"AllHttpHeaders\\\\\\\":{\\\\\\\"x-amzn-RequestId\\\\\\\":[\\\\\\\"af8decab-3e80-4ab3-9eeb-4f82b774901d\\\\\\\"],\\\\\\\"Content-Length\\\\\\\":[\\\\\\\"3973\\\\\\\"],\\\\\\\"Date\\\\\\\":[\\\\\\\"Mon, 21 Sep 2020 06:56:47 GMT\\\\\\\"],\\\\\\\"Content-Type\\\\\\\":[\\\\\\\"application/x-amz-json-1.1\\\\\\\"]},\\\\\\\"HttpHeaders\\\\\\\":{\\\\\\\"Content-Length\\\\\\\":\\\\\\\"3973\\\\\\\",\\\\\\\"Content-Type\\\\\\\":\\\\\\\"application/x-amz-json-1.1\\\\\\\",\\\\\\\"Date\\\\\\\":\\\\\\\"Mon, 21 Sep 2020 06:56:47 GMT\\\\\\\",\\\\\\\"x-amzn-RequestId\\\\\\\":\\\\\\\"af8decab-3e80-4ab3-9eeb-4f82b774901d\\\\\\\"},\\\\\\\"HttpStatusCode\\\\\\\":200},\\\\\\\"SdkResponseMetadata\\\\\\\":{\\\\\\\"RequestId\\\\\\\":\\\\\\\"af8decab-3e80-4ab3-9eeb-4f82b774901d\\\\\\\"},\\\\\\\"SecondaryStatus\\\\\\\":\\\\\\\"Stopped\\\\\\\",\\\\\\\"SecondaryStatusTransitions\\\\\\\":[{\\\\\\\"EndTime\\\\\\\":1600671100797,\\\\\\\"StartTime\\\\\\\":1600670976044,\\\\\\\"Status\\\\\\\":\\\\\\\"Starting\\\\\\\",\\\\\\\"StatusMessage\\\\\\\":\\\\\\\"Preparing the instances for training\\\\\\\"},{\\\\\\\"EndTime\\\\\\\":1600671106613,\\\\\\\"StartTime\\\\\\\":1600671100797,\\\\\\\"Status\\\\\\\":\\\\\\\"Downloading\\\\\\\",\\\\\\\"StatusMessage\\\\\\\":\\\\\\\"Downloading input data\\\\\\\"},{\\\\\\\"EndTime\\\\\\\":1600671379022,\\\\\\\"StartTime\\\\\\\":1600671106613,\\\\\\\"Status\\\\\\\":\\\\\\\"Training\\\\\\\",\\\\\\\"StatusMessage\\\\\\\":\\\\\\\"Training image download completed. Training in progress.\\\\\\\"},{\\\\\\\"EndTime\\\\\\\":1600671399752,\\\\\\\"StartTime\\\\\\\":1600671379022,\\\\\\\"Status\\\\\\\":\\\\\\\"Stopping\\\\\\\",\\\\\\\"StatusMessage\\\\\\\":\\\\\\\"Stopping the training job\\\\\\\"},{\\\\\\\"EndTime\\\\\\\":1600671406593,\\\\\\\"StartTime\\\\\\\":1600671399752,\\\\\\\"Status\\\\\\\":\\\\\\\"Uploading\\\\\\\",\\\\\\\"StatusMessage\\\\\\\":\\\\\\\"Uploading generated training model\\\\\\\"},{\\\\\\\"EndTime\\\\\\\":1600671406593,\\\\\\\"StartTime\\\\\\\":1600671406593,\\\\\\\"Status\\\\\\\":\\\\\\\"Stopped\\\\\\\",\\\\\\\"StatusMessage\\\\\\\":\\\\\\\"Training job stopped\\\\\\\"}],\\\\\\\"StoppingCondition\\\\\\\":{\\\\\\\"MaxRuntimeInSeconds\\\\\\\":86400},\\\\\\\"TrainingEndTime\\\\\\\":1600671406593,\\\\\\\"TrainingJobArn\\\\\\\":\\\\\\\"arn:aws:sagemaker:us-east-1:593380422482:training-job/aqf-training-11b9c0c0fbd511eab645d55be1272f71\\\\\\\",\\\\\\\"TrainingJobName\\\\\\\":\\\\\\\"aqf-training-11b9c0c0fbd511eab645d55be1272f71\\\\\\\",\\\\\\\"TrainingJobStatus\\\\\\\":\\\\\\\"Stopped\\\\\\\",\\\\\\\"TrainingStartTime\\\\\\\":1600671100797,\\\\\\\"TrainingTimeInSeconds\\\\\\\":306,\\\\\\\"Tags\\\\\\\":{\\\\\\\"MANAGED_BY_AWS\\\\\\\":\\\\\\\"STARTED_BY_STEP_FUNCTIONS\\\\\\\",\\\\\\\"AWS_STEP_FUNCTIONS_EXECUTION_ARN\\\\\\\":\\\\\\\"arn:aws:states:us-east-1:593380422482:execution:AirQualityForecastingWorkflow2-02:d8d0b666-4344-4e6d-b7de-c07c92f28816\\\\\\\"}}\\\"}\", \"outputDetails\": {\"truncated\": false}}}, {\"timestamp\": 1600671408.518, \"type\": \"FailStateEntered\", \"id\": 18, \"previousEventId\": 17, \"stateEnteredEventDetails\": {\"name\": \"ML Workflow failed\", \"input\": \"{\\\"Error\\\":\\\"States.TaskFailed\\\",\\\"Cause\\\":\\\"{\\\\\\\"AlgorithmSpecification\\\\\\\":{\\\\\\\"EnableSageMakerMetricsTimeSeries\\\\\\\":false,\\\\\\\"MetricDefinitions\\\\\\\":[{\\\\\\\"Name\\\\\\\":\\\\\\\"test:mean_wQuantileLoss\\\\\\\",\\\\\\\"Regex\\\\\\\":\\\\\\\"#quality_metric: host=\\\\\\\\\\\\\\\\S+, test mean_wQuantileLoss <loss>=(\\\\\\\\\\\\\\\\S+)\\\\\\\"},{\\\\\\\"Name\\\\\\\":\\\\\\\"train:loss:batch\\\\\\\",\\\\\\\"Regex\\\\\\\":\\\\\\\"#quality_metric: host=\\\\\\\\\\\\\\\\S+, epoch=\\\\\\\\\\\\\\\\S+, batch=\\\\\\\\\\\\\\\\S+ train loss <loss>=(\\\\\\\\\\\\\\\\S+)\\\\\\\"},{\\\\\\\"Name\\\\\\\":\\\\\\\"train:progress\\\\\\\",\\\\\\\"Regex\\\\\\\":\\\\\\\"#progress_metric: host=\\\\\\\\\\\\\\\\S+, completed (\\\\\\\\\\\\\\\\S+) %\\\\\\\"},{\\\\\\\"Name\\\\\\\":\\\\\\\"train:loss\\\\\\\",\\\\\\\"Regex\\\\\\\":\\\\\\\"#quality_metric: host=\\\\\\\\\\\\\\\\S+, epoch=\\\\\\\\\\\\\\\\S+, train loss <loss>=(\\\\\\\\\\\\\\\\S+)\\\\\\\"},{\\\\\\\"Name\\\\\\\":\\\\\\\"train:final_loss\\\\\\\",\\\\\\\"Regex\\\\\\\":\\\\\\\"#quality_metric: host=\\\\\\\\\\\\\\\\S+, train final_loss <loss>=(\\\\\\\\\\\\\\\\S+)\\\\\\\"},{\\\\\\\"Name\\\\\\\":\\\\\\\"train:throughput\\\\\\\",\\\\\\\"Regex\\\\\\\":\\\\\\\"#throughput_metric: host=\\\\\\\\\\\\\\\\S+, train throughput=(\\\\\\\\\\\\\\\\S+) records/second\\\\\\\"},{\\\\\\\"Name\\\\\\\":\\\\\\\"test:RMSE\\\\\\\",\\\\\\\"Regex\\\\\\\":\\\\\\\"#quality_metric: host=\\\\\\\\\\\\\\\\S+, test RMSE <loss>=(\\\\\\\\\\\\\\\\S+)\\\\\\\"}],\\\\\\\"TrainingImage\\\\\\\":\\\\\\\"522234722520.dkr.ecr.us-east-1.amazonaws.com/forecasting-deepar:latest\\\\\\\",\\\\\\\"TrainingInputMode\\\\\\\":\\\\\\\"File\\\\\\\"},\\\\\\\"BillableTimeInSeconds\\\\\\\":306,\\\\\\\"CreationTime\\\\\\\":1600670976044,\\\\\\\"EnableInterContainerTrafficEncryption\\\\\\\":false,\\\\\\\"EnableManagedSpotTraining\\\\\\\":false,\\\\\\\"EnableNetworkIsolation\\\\\\\":false,\\\\\\\"FinalMetricDataList\\\\\\\":[{\\\\\\\"MetricName\\\\\\\":\\\\\\\"train:loss:batch\\\\\\\",\\\\\\\"Timestamp\\\\\\\":1600671372,\\\\\\\"Value\\\\\\\":2.598305},{\\\\\\\"MetricName\\\\\\\":\\\\\\\"train:progress\\\\\\\",\\\\\\\"Timestamp\\\\\\\":1600671380,\\\\\\\"Value\\\\\\\":1.0},{\\\\\\\"MetricName\\\\\\\":\\\\\\\"train:loss\\\\\\\",\\\\\\\"Timestamp\\\\\\\":1600671380,\\\\\\\"Value\\\\\\\":2.5264938},{\\\\\\\"MetricName\\\\\\\":\\\\\\\"train:final_loss\\\\\\\",\\\\\\\"Timestamp\\\\\\\":1600671380,\\\\\\\"Value\\\\\\\":2.3482804},{\\\\\\\"MetricName\\\\\\\":\\\\\\\"train:throughput\\\\\\\",\\\\\\\"Timestamp\\\\\\\":1600671380,\\\\\\\"Value\\\\\\\":83.82409}],\\\\\\\"HyperParameters\\\\\\\":{\\\\\\\"prediction_length\\\\\\\":\\\\\\\"48\\\\\\\",\\\\\\\"dropout_rate\\\\\\\":\\\\\\\"0.04\\\\\\\",\\\\\\\"num_eval_samples\\\\\\\":\\\\\\\"10\\\\\\\",\\\\\\\"time_freq\\\\\\\":\\\\\\\"1H\\\\\\\",\\\\\\\"context_length\\\\\\\":\\\\\\\"3\\\\\\\",\\\\\\\"embedding_dimension\\\\\\\":\\\\\\\"12\\\\\\\",\\\\\\\"num_layers\\\\\\\":\\\\\\\"4\\\\\\\",\\\\\\\"epochs\\\\\\\":\\\\\\\"400\\\\\\\",\\\\\\\"learning_rate\\\\\\\":\\\\\\\"0.0005\\\\\\\",\\\\\\\"early_stopping_patience\\\\\\\":\\\\\\\"40\\\\\\\",\\\\\\\"mini_batch_size\\\\\\\":\\\\\\\"633\\\\\\\",\\\\\\\"num_cells\\\\\\\":\\\\\\\"157\\\\\\\"},\\\\\\\"InputDataConfig\\\\\\\":[{\\\\\\\"ChannelName\\\\\\\":\\\\\\\"train\\\\\\\",\\\\\\\"CompressionType\\\\\\\":\\\\\\\"None\\\\\\\",\\\\\\\"DataSource\\\\\\\":{\\\\\\\"S3DataSource\\\\\\\":{\\\\\\\"S3DataDistributionType\\\\\\\":\\\\\\\"FullyReplicated\\\\\\\",\\\\\\\"S3DataType\\\\\\\":\\\\\\\"S3Prefix\\\\\\\",\\\\\\\"S3Uri\\\\\\\":\\\\\\\"s3://593380422482-openaq-forecasting/preprocessing/output/all/all_features.json\\\\\\\"}},\\\\\\\"RecordWrapperType\\\\\\\":\\\\\\\"None\\\\\\\"}],\\\\\\\"LastModifiedTime\\\\\\\":1600671406593,\\\\\\\"ModelArtifacts\\\\\\\":{\\\\\\\"S3ModelArtifacts\\\\\\\":\\\\\\\"s3://593380422482-openaq-forecasting/sagemaker/training/output/aqf-training-11b9c0c0fbd511eab645d55be1272f71/output/model.tar.gz\\\\\\\"},\\\\\\\"OutputDataConfig\\\\\\\":{\\\\\\\"KmsKeyId\\\\\\\":\\\\\\\"\\\\\\\",\\\\\\\"S3OutputPath\\\\\\\":\\\\\\\"s3://593380422482-openaq-forecasting/sagemaker/training/output\\\\\\\"},\\\\\\\"ResourceConfig\\\\\\\":{\\\\\\\"InstanceCount\\\\\\\":1,\\\\\\\"InstanceType\\\\\\\":\\\\\\\"ml.c5.9xlarge\\\\\\\",\\\\\\\"VolumeSizeInGB\\\\\\\":30},\\\\\\\"RoleArn\\\\\\\":\\\\\\\"arn:aws:iam::593380422482:role/aqf-workshop-SageMakerIamRole-1FZH5KS299E6L\\\\\\\",\\\\\\\"SdkHttpMetadata\\\\\\\":{\\\\\\\"AllHttpHeaders\\\\\\\":{\\\\\\\"x-amzn-RequestId\\\\\\\":[\\\\\\\"af8decab-3e80-4ab3-9eeb-4f82b774901d\\\\\\\"],\\\\\\\"Content-Length\\\\\\\":[\\\\\\\"3973\\\\\\\"],\\\\\\\"Date\\\\\\\":[\\\\\\\"Mon, 21 Sep 2020 06:56:47 GMT\\\\\\\"],\\\\\\\"Content-Type\\\\\\\":[\\\\\\\"application/x-amz-json-1.1\\\\\\\"]},\\\\\\\"HttpHeaders\\\\\\\":{\\\\\\\"Content-Length\\\\\\\":\\\\\\\"3973\\\\\\\",\\\\\\\"Content-Type\\\\\\\":\\\\\\\"application/x-amz-json-1.1\\\\\\\",\\\\\\\"Date\\\\\\\":\\\\\\\"Mon, 21 Sep 2020 06:56:47 GMT\\\\\\\",\\\\\\\"x-amzn-RequestId\\\\\\\":\\\\\\\"af8decab-3e80-4ab3-9eeb-4f82b774901d\\\\\\\"},\\\\\\\"HttpStatusCode\\\\\\\":200},\\\\\\\"SdkResponseMetadata\\\\\\\":{\\\\\\\"RequestId\\\\\\\":\\\\\\\"af8decab-3e80-4ab3-9eeb-4f82b774901d\\\\\\\"},\\\\\\\"SecondaryStatus\\\\\\\":\\\\\\\"Stopped\\\\\\\",\\\\\\\"SecondaryStatusTransitions\\\\\\\":[{\\\\\\\"EndTime\\\\\\\":1600671100797,\\\\\\\"StartTime\\\\\\\":1600670976044,\\\\\\\"Status\\\\\\\":\\\\\\\"Starting\\\\\\\",\\\\\\\"StatusMessage\\\\\\\":\\\\\\\"Preparing the instances for training\\\\\\\"},{\\\\\\\"EndTime\\\\\\\":1600671106613,\\\\\\\"StartTime\\\\\\\":1600671100797,\\\\\\\"Status\\\\\\\":\\\\\\\"Downloading\\\\\\\",\\\\\\\"StatusMessage\\\\\\\":\\\\\\\"Downloading input data\\\\\\\"},{\\\\\\\"EndTime\\\\\\\":1600671379022,\\\\\\\"StartTime\\\\\\\":1600671106613,\\\\\\\"Status\\\\\\\":\\\\\\\"Training\\\\\\\",\\\\\\\"StatusMessage\\\\\\\":\\\\\\\"Training image download completed. Training in progress.\\\\\\\"},{\\\\\\\"EndTime\\\\\\\":1600671399752,\\\\\\\"StartTime\\\\\\\":1600671379022,\\\\\\\"Status\\\\\\\":\\\\\\\"Stopping\\\\\\\",\\\\\\\"StatusMessage\\\\\\\":\\\\\\\"Stopping the training job\\\\\\\"},{\\\\\\\"EndTime\\\\\\\":1600671406593,\\\\\\\"StartTime\\\\\\\":1600671399752,\\\\\\\"Status\\\\\\\":\\\\\\\"Uploading\\\\\\\",\\\\\\\"StatusMessage\\\\\\\":\\\\\\\"Uploading generated training model\\\\\\\"},{\\\\\\\"EndTime\\\\\\\":1600671406593,\\\\\\\"StartTime\\\\\\\":1600671406593,\\\\\\\"Status\\\\\\\":\\\\\\\"Stopped\\\\\\\",\\\\\\\"StatusMessage\\\\\\\":\\\\\\\"Training job stopped\\\\\\\"}],\\\\\\\"StoppingCondition\\\\\\\":{\\\\\\\"MaxRuntimeInSeconds\\\\\\\":86400},\\\\\\\"TrainingEndTime\\\\\\\":1600671406593,\\\\\\\"TrainingJobArn\\\\\\\":\\\\\\\"arn:aws:sagemaker:us-east-1:593380422482:training-job/aqf-training-11b9c0c0fbd511eab645d55be1272f71\\\\\\\",\\\\\\\"TrainingJobName\\\\\\\":\\\\\\\"aqf-training-11b9c0c0fbd511eab645d55be1272f71\\\\\\\",\\\\\\\"TrainingJobStatus\\\\\\\":\\\\\\\"Stopped\\\\\\\",\\\\\\\"TrainingStartTime\\\\\\\":1600671100797,\\\\\\\"TrainingTimeInSeconds\\\\\\\":306,\\\\\\\"Tags\\\\\\\":{\\\\\\\"MANAGED_BY_AWS\\\\\\\":\\\\\\\"STARTED_BY_STEP_FUNCTIONS\\\\\\\",\\\\\\\"AWS_STEP_FUNCTIONS_EXECUTION_ARN\\\\\\\":\\\\\\\"arn:aws:states:us-east-1:593380422482:execution:AirQualityForecastingWorkflow2-02:d8d0b666-4344-4e6d-b7de-c07c92f28816\\\\\\\"}}\\\"}\", \"inputDetails\": {\"truncated\": false}}}, {\"timestamp\": 1600671408.518, \"type\": \"ExecutionFailed\", \"id\": 19, \"previousEventId\": 18, \"executionFailedEventDetails\": {\"cause\": \"SageMakerPipelineStepFailed\"}}] };\n",
       "\n",
       "    var graph = new sfn.StateMachineExecutionGraph(definition, events, elementId, options);\n",
       "    graph.render();\n",
       "});\n",
       "\n",
       "</script>\n"
      ],
      "text/plain": [
       "<IPython.core.display.HTML object>"
      ]
     },
     "execution_count": 59,
     "metadata": {},
     "output_type": "execute_result"
    }
   ],
   "source": [
    "execution.render_progress()"
   ]
  },
  {
   "cell_type": "markdown",
   "metadata": {},
   "source": [
    "### [Pending] Create inferences (predictions)\n",
    "\n",
    "Now that we have a trained model, we need to evaluate it using the holdout data. Using this holdout data is only needed when you first are creating the model in order to get an idea of how the model will peform against new data in production. After the model is running in production, it is better to always retrain the model on all available data, and then monitor model perfromance over time against a trailing set of historical data.\n",
    "\n",
    "#### Generate test sets to predict\n",
    "To get an idea of how the model peforms, we will create predictions on a 12 hour rolling basis for all of the  locations, and then graph and compare them to the actuals. The method below generates the features from the hold out set to do this."
   ]
  },
  {
   "cell_type": "code",
   "execution_count": null,
   "metadata": {},
   "outputs": [],
   "source": [
    "from datetime import date, timedelta\n",
    "import pandas as pd"
   ]
  },
  {
   "cell_type": "code",
   "execution_count": null,
   "metadata": {},
   "outputs": [],
   "source": [
    "def filter_dates(df, min_time, max_time, frequency):\n",
    "    min_time = None if min_time is None else pd.to_datetime(min_time)\n",
    "    max_time = None if max_time is None else pd.to_datetime(max_time)\n",
    "    interval = pd.Timedelta(frequency)\n",
    "    \n",
    "    def _filter_dates(r): \n",
    "        if min_time is not None and r['start'] < min_time:\n",
    "            start_idx = int((min_time - r['start']) / interval)\n",
    "            r['target'] = r['target'][start_idx:]\n",
    "            r['start'] = min_time\n",
    "        \n",
    "        end_time = r['start'] + len(r['target']) * interval\n",
    "        if max_time is not None and end_time > max_time:\n",
    "            end_idx = int((end_time - max_time) / interval)\n",
    "            r['target'] = r['target'][:-end_idx]\n",
    "            \n",
    "        return r\n",
    "    \n",
    "    filtered = df.apply(_filter_dates, axis=1) \n",
    "    filtered = filtered[filtered['target'].str.len() > 0]\n",
    "    return filtered\n",
    "\n",
    "def get_tests(features, split_dates, frequency, context_length, prediction_length):\n",
    "    tests = []\n",
    "    end_date_delta = pd.Timedelta(f'{frequency} hour') * context_length\n",
    "    prediction_id = 0\n",
    "    for split_date in split_dates:\n",
    "        context_end = split_date + end_date_delta\n",
    "        test = filter_dates(features, split_date, context_end, f'{frequency}H')\n",
    "        test['prediction_start'] = context_end\n",
    "        test['prediction_id'] = prediction_id\n",
    "        test['start'] = test['start'].dt.strftime('%Y-%m-%d %H:%M:%S')\n",
    "        tests.append(test)\n",
    "        prediction_id += 1\n",
    "        \n",
    "    tests = pd.concat(tests).reset_index().set_index(['id', 'prediction_id', 'prediction_start']).sort_index()\n",
    "    return tests\n"
   ]
  },
  {
   "cell_type": "code",
   "execution_count": null,
   "metadata": {},
   "outputs": [],
   "source": [
    "test_data_uri = f\"{output_data}/test/test.json\"\n",
    "test_data_uri\n",
    "local_result_file = \"test.json\"\n",
    "s3 = boto3.resource('s3')\n",
    "s3.Bucket(bucket_name).download_file(\"preprocessing/output/test/test.json\", local_result_file)\n",
    "test = pd.read_json(local_result_file, orient=\"records\", lines = True, convert_dates=['start'])\n",
    "#test.reset_index(inplace=True)\n",
    "test.index.set_names(['id'], inplace = True)"
   ]
  },
  {
   "cell_type": "code",
   "execution_count": null,
   "metadata": {},
   "outputs": [],
   "source": [
    "test.head()"
   ]
  },
  {
   "cell_type": "code",
   "execution_count": null,
   "metadata": {},
   "outputs": [],
   "source": [
    "ten_days_ago = date.today() - timedelta(days = 10)\n",
    "test_dates = pd.date_range(ten_days_ago, periods = 216, freq = '1H')\n",
    "tests = get_tests(test, test_dates, '1', 3, 48)\n",
    "tests.head()"
   ]
  },
  {
   "cell_type": "markdown",
   "metadata": {},
   "source": [
    "### Test the endpoint\n",
    "From the above, you can see that will will need to call our endpoint 4060 times for each of our tests, as we are back testing every hour, across all locations for the previous 10 days. \n",
    "Before we call the endpoint with all of the tests we have generated, let's first try calling it for just one location and time. The request passes in an array of features, one for each location, as well as configuration settings.\n",
    "\n",
    "> **Try this:** Modify the request to get a different quantile, or the predictions for a different test set."
   ]
  },
  {
   "cell_type": "code",
   "execution_count": null,
   "metadata": {},
   "outputs": [],
   "source": [
    "predictor = Predictor(\n",
    "    endpoint_name, \n",
    "    serializer=sagemaker.serializers.JSONSerializer(),\n",
    "    deserializer=sagemaker.deserializers.JSONDeserializer()\n",
    ")\n",
    "\n",
    "features = tests[['start','target','cat']].iloc[0].to_dict()\n",
    "json.dumps(predictor.predict({\n",
    "    'instances': [features]\n",
    "    ,'configuration': {\n",
    "        'num_samples': 20\n",
    "        ,'output_types': ['quantiles']\n",
    "        ,'quantiles': ['0.5']\n",
    "    }\n",
    "}))"
   ]
  },
  {
   "cell_type": "code",
   "execution_count": null,
   "metadata": {},
   "outputs": [],
   "source": [
    "predictions = predict(predictor.endpoint_name, tests, quantiles) \n",
    "predictions.head()"
   ]
  }
 ],
 "metadata": {
  "kernelspec": {
   "display_name": "conda_python3",
   "language": "python",
   "name": "conda_python3"
  },
  "language_info": {
   "codemirror_mode": {
    "name": "ipython",
    "version": 3
   },
   "file_extension": ".py",
   "mimetype": "text/x-python",
   "name": "python",
   "nbconvert_exporter": "python",
   "pygments_lexer": "ipython3",
   "version": "3.6.10"
  }
 },
 "nbformat": 4,
 "nbformat_minor": 4
}
