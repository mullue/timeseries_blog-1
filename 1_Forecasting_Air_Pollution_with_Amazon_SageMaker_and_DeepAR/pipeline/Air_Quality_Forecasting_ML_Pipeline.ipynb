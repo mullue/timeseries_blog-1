{
 "cells": [
  {
   "cell_type": "markdown",
   "metadata": {},
   "source": [
    "# ML Pipeline for \"Forecasting Air Quality with Amazon SageMaker DeepAR\n",
    "\n",
    "In this example, we are going to build a ML Pipeline to automate air quality forecasting application with [AWS Step Functions Data Science SDK](https://aws-step-functions-data-science-sdk.readthedocs.io). "
   ]
  },
  {
   "cell_type": "markdown",
   "metadata": {},
   "source": [
    "## ML Pipeline\n",
    "\n",
    "### Outcome\n",
    "* Create the flow for ML process for air quality forcasting build/train/deploy\n",
    "* Create simple retrain flow\n",
    "\n",
    "### Design\n",
    "* Use Step Functions Data Science SDK to orchestrate the ML flow\n",
    "* Use SageMaker Processing to do data preprocessing, especially,\n",
    " * A common Docker image will be build for data retrieving (interact with Amazon Athena) and data/feature engineering\n",
    "* Use SageMaker Processing to do Model Evaluation\n",
    "* A scheduled job mechanism will be used to do model retraining."
   ]
  },
  {
   "cell_type": "markdown",
   "metadata": {},
   "source": [
    "### Implementation"
   ]
  },
  {
   "cell_type": "markdown",
   "metadata": {},
   "source": [
    "#### Initialize"
   ]
  },
  {
   "cell_type": "code",
   "execution_count": 1,
   "metadata": {},
   "outputs": [],
   "source": [
    "%load_ext autoreload\n",
    "%autoreload 2"
   ]
  },
  {
   "cell_type": "code",
   "execution_count": null,
   "metadata": {},
   "outputs": [],
   "source": [
    "import sys\n",
    "!{sys.executable} -m pip install --upgrade pip\n",
    "!{sys.executable} -m pip install -qU awscli boto3 \"sagemaker==1.71.0\"\n",
    "!{sys.executable} -m pip install -qU \"stepfunctions==1.1.0\"\n",
    "!{sys.executable} -m pip show sagemaker stepfunctions"
   ]
  },
  {
   "cell_type": "code",
   "execution_count": 2,
   "metadata": {},
   "outputs": [],
   "source": [
    "import uuid\n",
    "import time\n",
    "import boto3\n",
    "import stepfunctions\n",
    "from stepfunctions import steps\n",
    "from stepfunctions.inputs import ExecutionInput\n",
    "from stepfunctions.steps import (\n",
    "    Chain,\n",
    "    ChoiceRule,\n",
    "    ModelStep,\n",
    "    ProcessingStep,\n",
    "    TrainingStep,\n",
    "    TransformStep\n",
    ")\n",
    "from stepfunctions.workflow import Workflow\n",
    "\n",
    "import sagemaker\n",
    "from sagemaker import get_execution_role\n",
    "from sagemaker.amazon.amazon_estimator import get_image_uri\n",
    "from sagemaker.processing import ProcessingInput, ProcessingOutput\n",
    "\n",
    "sagemaker_session = sagemaker.Session()\n",
    "\n",
    "region = boto3.session.Session().region_name\n",
    "role = get_execution_role()\n",
    "\n",
    "session = boto3.Session()\n",
    "account_id = session.client('sts').get_caller_identity().get('Account')\n",
    "bucket_name = f'{account_id}-openaq-lab'"
   ]
  },
  {
   "cell_type": "markdown",
   "metadata": {},
   "source": [
    "#### Create Docker Image for SageMaker Processing\n",
    "\n",
    "Define your own processing container and install related dependencies.\n",
    "\n",
    "Below, you talk through how to create a processing container, and how to use a `ScriptProcessor` to run your own code within a container. Create a container support data preprocessing, feature engineering and model evaluation. "
   ]
  },
  {
   "cell_type": "code",
   "execution_count": null,
   "metadata": {},
   "outputs": [],
   "source": [
    "# create a subfolder for docker \n",
    "!mkdir -p docker"
   ]
  },
  {
   "cell_type": "markdown",
   "metadata": {},
   "source": [
    "Below is the Dockerfile to create processing container. Install PyAthena, pandas and GeoPandas into it. You can install your own dependencies."
   ]
  },
  {
   "cell_type": "code",
   "execution_count": null,
   "metadata": {},
   "outputs": [],
   "source": [
    "%%writefile docker/Dockerfile\n",
    "\n",
    "FROM python:3.7-slim-buster\n",
    "    \n",
    "COPY ./sql /opt/ml/processing/sql\n",
    "    \n",
    "RUN pip install pandas numpy geopandas scikit-learn fsspec s3fs boto3\n",
    "\n",
    "ENV PYTHONUNBUFFERED=TRUE\n",
    "\n",
    "ENTRYPOINT [\"python3\"]"
   ]
  },
  {
   "cell_type": "markdown",
   "metadata": {},
   "source": [
    "This block of code buils the container using the docker command, creates an Amazon Elastic Container Registry (Amazon ECR) repository, and pushes the image to Amazon ECR"
   ]
  },
  {
   "cell_type": "code",
   "execution_count": 6,
   "metadata": {},
   "outputs": [],
   "source": [
    "import boto3\n",
    "\n",
    "account_id = boto3.client('sts').get_caller_identity().get('Account')\n",
    "ecr_repository = 'aq-forecasting-processing-container'\n",
    "tag = ':latest'\n",
    "\n",
    "uri_suffix = 'amazonaws.com'\n",
    "if region in ['cn-north-1', 'cn-northwest-1']:\n",
    "    uri_suffix = 'amazonaws.com.cn'\n",
    "processing_repository_uri = f'{account_id}.dkr.ecr.{region}.{uri_suffix}/{ecr_repository + tag}'\n"
   ]
  },
  {
   "cell_type": "code",
   "execution_count": 7,
   "metadata": {},
   "outputs": [
    {
     "data": {
      "text/plain": [
       "'593380422482.dkr.ecr.us-east-1.amazonaws.com/aq-forecasting-processing-container:latest'"
      ]
     },
     "execution_count": 7,
     "metadata": {},
     "output_type": "execute_result"
    }
   ],
   "source": [
    "processing_repository_uri"
   ]
  },
  {
   "cell_type": "code",
   "execution_count": null,
   "metadata": {},
   "outputs": [],
   "source": [
    "# @todo consider using CFN template to create ECR repo and only manage the docker image build and push.\n",
    "!docker build -t $ecr_repository docker"
   ]
  },
  {
   "cell_type": "code",
   "execution_count": null,
   "metadata": {},
   "outputs": [],
   "source": [
    "!$(aws ecr get-login --region $region --registry-ids $account_id --no-include-email)\n",
    "!aws ecr create-repository --repository-name $ecr_repository\n",
    "!docker tag {ecr_repository + tag} $processing_repository_uri\n",
    "!docker push $processing_repository_uri"
   ]
  },
  {
   "cell_type": "markdown",
   "metadata": {},
   "source": [
    "Below cell writes a file `preprocessing.py`, which contains the pre-processing script. You can update the script, and rerun the cell to overwrite `preprocessing.py`. You run this as a processing job in the next cell. In this script, the actions will be done:\n",
    "\n",
    "* Create Athena table with external source - OpenAQ\n",
    "* Query OpenAQ data \n",
    "* Feature engineering on the dataset\n",
    "* Split and store the data on S3 buckets."
   ]
  },
  {
   "cell_type": "markdown",
   "metadata": {},
   "source": [
    "Upload the pre processing script."
   ]
  },
  {
   "cell_type": "code",
   "execution_count": 25,
   "metadata": {},
   "outputs": [],
   "source": [
    "PREPROCESSING_SCRIPT_LOCATION = \"preprocessing.py\"\n",
    "input_code = sagemaker_session.upload_data(\n",
    "    PREPROCESSING_SCRIPT_LOCATION,\n",
    "    bucket = bucket_name,\n",
    "    key_prefix = \"preprocessing/code\",\n",
    ")"
   ]
  },
  {
   "cell_type": "markdown",
   "metadata": {},
   "source": [
    "S3 locations of preprocessing output with training, test & all features."
   ]
  },
  {
   "cell_type": "code",
   "execution_count": 26,
   "metadata": {},
   "outputs": [],
   "source": [
    "output_data = f\"s3://{bucket_name}/preprocessing/output\""
   ]
  },
  {
   "cell_type": "markdown",
   "metadata": {},
   "source": [
    "The `ScriptProcessor` class lets you run a command inside the container, which you can use to run your own script."
   ]
  },
  {
   "cell_type": "code",
   "execution_count": 27,
   "metadata": {},
   "outputs": [],
   "source": [
    "from sagemaker.processing import ScriptProcessor\n",
    "\n",
    "preprocessing_processor = ScriptProcessor(\n",
    "    command = ['python3'],\n",
    "    image_uri = processing_repository_uri,\n",
    "    role = role,\n",
    "    instance_count = 1,\n",
    "    instance_type = 'ml.m5.xlarge',\n",
    "    max_runtime_in_seconds = 1200\n",
    ")"
   ]
  },
  {
   "cell_type": "markdown",
   "metadata": {},
   "source": [
    "### Create the ProcessingStep\n",
    "We will now create the [ProcessingStep](https://aws-step-functions-data-science-sdk.readthedocs.io/en/stable/sagemaker.html#stepfunctions.steps.sagemaker.ProcessingStep) that will launch a SageMaker Processing Job.\n",
    "\n",
    "This step will use ScriptProcessor as defined in previous steps along with the inputs and outputs objects that are defined in the below steps."
   ]
  },
  {
   "cell_type": "code",
   "execution_count": 28,
   "metadata": {},
   "outputs": [],
   "source": [
    "inputs = [\n",
    "    ProcessingInput(\n",
    "        source = input_code,\n",
    "        destination = \"/opt/ml/processing/input/code\",\n",
    "        input_name = \"code\"\n",
    "    )\n",
    "]\n",
    "\n",
    "outputs = [\n",
    "    ProcessingOutput(\n",
    "        source = \"/opt/ml/processing/output/all\",\n",
    "        destination = f\"{output_data}/all\",\n",
    "        output_name = \"all_data\"\n",
    "    ),\n",
    "    ProcessingOutput(\n",
    "        source = \"/opt/ml/processing/output/train\",\n",
    "        destination = f\"{output_data}/train\",\n",
    "        output_name = \"train_data\"\n",
    "    ),\n",
    "    ProcessingOutput(\n",
    "        source = \"/opt/ml/processing/output/test\",\n",
    "        destination = f\"{output_data}/test\",\n",
    "        output_name = \"test_data\"\n",
    "    )\n",
    "]"
   ]
  },
  {
   "cell_type": "code",
   "execution_count": 29,
   "metadata": {},
   "outputs": [],
   "source": [
    "execution_input = ExecutionInput(\n",
    "    schema = {\n",
    "        \"PreprocessingJobName\": str,\n",
    "        \"TrainingJobName\": str,\n",
    "        \"TuningJobName\": str,\n",
    "        \"EvaluationProcessingJobName\": str\n",
    "    }\n",
    ")"
   ]
  },
  {
   "cell_type": "markdown",
   "metadata": {},
   "source": [
    "#### Create the ProcessingStep"
   ]
  },
  {
   "cell_type": "code",
   "execution_count": 30,
   "metadata": {},
   "outputs": [],
   "source": [
    "processing_step = ProcessingStep(\n",
    "    \"AirQualityForecasting Pre-processing Step\",\n",
    "    processor = preprocessing_processor,\n",
    "    job_name = execution_input[\"PreprocessingJobName\"],\n",
    "    inputs = inputs,\n",
    "    outputs = outputs,\n",
    "    container_arguments = [\"--split-days\", \"30\"],\n",
    "    container_entrypoint = [\"python3\", \"/opt/ml/processing/input/code/preprocessing.py\"]\n",
    ")"
   ]
  },
  {
   "cell_type": "markdown",
   "metadata": {},
   "source": [
    "### Training Using the pre-processed data\n",
    "\n",
    "We create a DeepAR instance, which we will use to run a training job. This will be used to create a TrainingStep for the workflow."
   ]
  },
  {
   "cell_type": "code",
   "execution_count": 31,
   "metadata": {},
   "outputs": [],
   "source": [
    "image_name = sagemaker.amazon.amazon_estimator.get_image_uri(region, \"forecasting-deepar\", \"latest\")"
   ]
  },
  {
   "cell_type": "code",
   "execution_count": 46,
   "metadata": {},
   "outputs": [],
   "source": [
    "output_path = f's3://{bucket_name}/training/output'\n",
    "\n",
    "quantiles = list(range(1,10))\n",
    "quantile_names = [f'0.{q}' for q in quantiles]\n",
    "\n",
    "hpo = dict(\n",
    "    time_freq= '1H'\n",
    "    ,early_stopping_patience= 40\n",
    "    ,prediction_length= 48\n",
    "    ,num_eval_samples= 10\n",
    "    ,test_quantiles= quantiles\n",
    "    ,epochs= 400\n",
    "    ,context_length= 3\n",
    "    ,num_cells= 157\n",
    "    ,num_layers= 4\n",
    "    ,dropout_rate= 0.04\n",
    "    ,embedding_dimension= 12\n",
    "    ,mini_batch_size= 633\n",
    "    ,learning_rate= 0.0005\n",
    ")\n",
    "\n",
    "#    ,test_quantiles= quantiles    \n",
    "\n",
    "estimator = sagemaker.estimator.Estimator(\n",
    "        sagemaker_session = sagemaker_session,\n",
    "        image_name = image_name,\n",
    "        role = role,\n",
    "        train_instance_count = 1,\n",
    "        train_instance_type ='ml.c5.2xlarge',\n",
    "        base_job_name = 'deepar-openaq-demo',\n",
    "        output_path = output_path\n",
    ")\n",
    "\n",
    "estimator.set_hyperparameters(**hpo)"
   ]
  },
  {
   "cell_type": "code",
   "execution_count": 47,
   "metadata": {},
   "outputs": [],
   "source": [
    "data = dict(train = f\"{output_data}/all/all_features.json\")"
   ]
  },
  {
   "cell_type": "code",
   "execution_count": 48,
   "metadata": {},
   "outputs": [],
   "source": [
    "\n",
    "training_step = steps.TrainingStep(\n",
    "    \"AirQualityForecasting Training Step\",\n",
    "    estimator = estimator,\n",
    "    data = data,\n",
    "    job_name = execution_input[\"TrainingJobName\"],\n",
    "    wait_for_completion = True\n",
    ")"
   ]
  },
  {
   "cell_type": "markdown",
   "metadata": {},
   "source": [
    "### Model Evaluation\n",
    "\n",
    "Run model evaluation."
   ]
  },
  {
   "cell_type": "code",
   "execution_count": null,
   "metadata": {},
   "outputs": [],
   "source": []
  },
  {
   "cell_type": "markdown",
   "metadata": {},
   "source": [
    "Create `Fail` state to mark the workflow failed in case any of the steps fail."
   ]
  },
  {
   "cell_type": "code",
   "execution_count": 49,
   "metadata": {},
   "outputs": [],
   "source": [
    "failed_state_sagemaker_processing_failure = stepfunctions.steps.states.Fail(\n",
    "    \"ML Workflow failed\", cause = \"SageMakerProcessingJobFailed\"\n",
    ")"
   ]
  },
  {
   "cell_type": "markdown",
   "metadata": {},
   "source": [
    "#### Add the Error handling in the workflow"
   ]
  },
  {
   "cell_type": "code",
   "execution_count": 50,
   "metadata": {},
   "outputs": [],
   "source": [
    "catch_state_processing = stepfunctions.steps.states.Catch(\n",
    "    error_equals = [\"States.TaskFailed\"],\n",
    "    next_step = failed_state_sagemaker_processing_failure   \n",
    ")\n",
    "processing_step.add_catch(catch_state_processing)\n",
    "training_step.add_catch(catch_state_processing)"
   ]
  },
  {
   "cell_type": "markdown",
   "metadata": {},
   "source": [
    "#### Workflow Role"
   ]
  },
  {
   "cell_type": "code",
   "execution_count": 51,
   "metadata": {},
   "outputs": [],
   "source": [
    "workflow_execution_role = \"arn:aws:iam::593380422482:role/StepFunctionsWorkflowExecutionRole\""
   ]
  },
  {
   "cell_type": "markdown",
   "metadata": {},
   "source": [
    "#### Create StepFunctions Workflow execution Input schema"
   ]
  },
  {
   "cell_type": "code",
   "execution_count": 52,
   "metadata": {},
   "outputs": [],
   "source": [
    "preprocessing_job_name = f\"aqf-preprocessing-{uuid.uuid1().hex}\"\n",
    "training_job_name = f\"aqf-training-{uuid.uuid1().hex}\"\n",
    "tuning_job_name = f\"aqf-tuning-{uuid.uuid1().hex}\"\n",
    "evaluation_job_name = f\"aqf-evaluation-{uuid.uuid1().hex}\""
   ]
  },
  {
   "cell_type": "code",
   "execution_count": 53,
   "metadata": {},
   "outputs": [
    {
     "data": {
      "text/plain": [
       "50"
      ]
     },
     "execution_count": 53,
     "metadata": {},
     "output_type": "execute_result"
    }
   ],
   "source": [
    "len(preprocessing_job_name)"
   ]
  },
  {
   "cell_type": "markdown",
   "metadata": {},
   "source": [
    "### Create and execute the workflow"
   ]
  },
  {
   "cell_type": "code",
   "execution_count": 54,
   "metadata": {},
   "outputs": [],
   "source": [
    "workflow_graph = Chain([processing_step, training_step])\n",
    "workflow = Workflow(\n",
    "    name = \"AirQualityForecastingWorkflow3\",\n",
    "    definition = workflow_graph,\n",
    "    role = workflow_execution_role\n",
    ")\n",
    "workflow.create()\n",
    "\n",
    "# execute workflow\n",
    "execution = workflow.execute(\n",
    "    inputs = {\n",
    "        \"PreprocessingJobName\": preprocessing_job_name,\n",
    "        \"TrainingJobName\": training_job_name,\n",
    "        \"TuningJobName\": tuning_job_name,\n",
    "        \"EvaluationProcessingJobName\": evaluation_job_name\n",
    "    }\n",
    ")\n",
    "execution_output = execution.get_output(wait = True)"
   ]
  },
  {
   "cell_type": "code",
   "execution_count": 45,
   "metadata": {},
   "outputs": [
    {
     "data": {
      "text/html": [
       "\n",
       "<link rel=\"stylesheet\" type=\"text/css\" href=\"https://do0of8uwbahzz.cloudfront.net/graph.css\">\n",
       "<div id=\"graph-602\" class=\"workflowgraph\">\n",
       "    \n",
       "    <style>\n",
       "        .graph-legend ul {\n",
       "            list-style-type: none;\n",
       "            padding: 10px;\n",
       "            padding-left: 0;\n",
       "            margin: 0;\n",
       "            position: absolute;\n",
       "            top: 0;\n",
       "            background: transparent;\n",
       "        }\n",
       "\n",
       "        .graph-legend li {\n",
       "            margin-left: 10px;\n",
       "            display: inline-block;\n",
       "        }\n",
       "\n",
       "        .graph-legend li > div {\n",
       "            width: 10px;\n",
       "            height: 10px;\n",
       "            display: inline-block;\n",
       "        }\n",
       "\n",
       "        .graph-legend .success { background-color: #2BD62E }\n",
       "        .graph-legend .failed { background-color: #DE322F }\n",
       "        .graph-legend .cancelled { background-color: #DDDDDD }\n",
       "        .graph-legend .in-progress { background-color: #53C9ED }\n",
       "        .graph-legend .caught-error { background-color: #FFA500 }\n",
       "    </style>\n",
       "    <div class=\"graph-legend\">\n",
       "        <ul>\n",
       "            <li>\n",
       "                <div class=\"success\"></div>\n",
       "                <span>Success</span>\n",
       "            </li>\n",
       "            <li>\n",
       "                <div class=\"failed\"></div>\n",
       "                <span>Failed</span>\n",
       "            </li>\n",
       "            <li>\n",
       "                <div class=\"cancelled\"></div>\n",
       "                <span>Cancelled</span>\n",
       "            </li>\n",
       "            <li>\n",
       "                <div class=\"in-progress\"></div>\n",
       "                <span>In Progress</span>\n",
       "            </li>\n",
       "            <li>\n",
       "                <div class=\"caught-error\"></div>\n",
       "                <span>Caught Error</span>\n",
       "            </li>\n",
       "        </ul>\n",
       "    </div>\n",
       "\n",
       "    <svg></svg>\n",
       "    <a href=\"https://console.aws.amazon.com/states/home?region=us-east-1#/executions/details/arn:aws:states:us-east-1:593380422482:execution:AirQualityForecastingWorkflow2:d189d566-ed63-4eb2-b2d1-81b5f8a164b1\" target=\"_blank\"> Inspect in AWS Step Functions </a>\n",
       "</div>\n",
       "\n",
       "<script type=\"text/javascript\">\n",
       "\n",
       "require.config({\n",
       "    paths: {\n",
       "        sfn: \"https://do0of8uwbahzz.cloudfront.net/sfn\",\n",
       "    }\n",
       "});\n",
       "\n",
       "require(['sfn'], function(sfn) {\n",
       "    var element = document.getElementById('graph-602')\n",
       "\n",
       "    var options = {\n",
       "        width: parseFloat(getComputedStyle(element, null).width.replace(\"px\", \"\")),\n",
       "        height: 1000,\n",
       "        layout: 'LR',\n",
       "        resizeHeight: true\n",
       "    };\n",
       "\n",
       "    var definition = {\"StartAt\": \"AirQualityForecasting Pre-processing Step\", \"States\": {\"AirQualityForecasting Pre-processing Step\": {\"Resource\": \"arn:aws:states:::sagemaker:createProcessingJob.sync\", \"Parameters\": {\"ProcessingJobName.$\": \"$$.Execution.Input['PreprocessingJobName']\", \"ProcessingInputs\": [{\"InputName\": \"code\", \"S3Input\": {\"S3Uri\": \"s3://593380422482-openaq-lab/preprocessing/code/preprocessing.py\", \"LocalPath\": \"/opt/ml/processing/input/code\", \"S3DataType\": \"S3Prefix\", \"S3InputMode\": \"File\", \"S3DataDistributionType\": \"FullyReplicated\", \"S3CompressionType\": \"None\"}}], \"ProcessingOutputConfig\": {\"Outputs\": [{\"OutputName\": \"all_data\", \"S3Output\": {\"S3Uri\": \"s3://593380422482-openaq-lab/preprocessing/output/all\", \"LocalPath\": \"/opt/ml/processing/output/all\", \"S3UploadMode\": \"EndOfJob\"}}, {\"OutputName\": \"train_data\", \"S3Output\": {\"S3Uri\": \"s3://593380422482-openaq-lab/preprocessing/output/train\", \"LocalPath\": \"/opt/ml/processing/output/train\", \"S3UploadMode\": \"EndOfJob\"}}, {\"OutputName\": \"test_data\", \"S3Output\": {\"S3Uri\": \"s3://593380422482-openaq-lab/preprocessing/output/test\", \"LocalPath\": \"/opt/ml/processing/output/test\", \"S3UploadMode\": \"EndOfJob\"}}]}, \"AppSpecification\": {\"ImageUri\": \"593380422482.dkr.ecr.us-east-1.amazonaws.com/aq-forecasting-processing-container:latest\", \"ContainerArguments\": [\"--split-days\", \"30\"], \"ContainerEntrypoint\": [\"python3\", \"/opt/ml/processing/input/code/preprocessing.py\"]}, \"RoleArn\": \"arn:aws:iam::593380422482:role/SageMaker-Labs-SageMakerIamRole-1IIUR9OGQ82B1\", \"ProcessingResources\": {\"ClusterConfig\": {\"InstanceCount\": 1, \"InstanceType\": \"ml.m5.xlarge\", \"VolumeSizeInGB\": 30}}, \"StoppingCondition\": {\"MaxRuntimeInSeconds\": 1200}}, \"Type\": \"Task\", \"Next\": \"AirQualityForecasting Training Step\", \"Catch\": [{\"ErrorEquals\": [\"States.TaskFailed\"], \"Next\": \"ML Workflow failed\"}]}, \"AirQualityForecasting Training Step\": {\"Resource\": \"arn:aws:states:::sagemaker:createTrainingJob.sync\", \"Parameters\": {\"AlgorithmSpecification\": {\"TrainingImage\": \"522234722520.dkr.ecr.us-east-1.amazonaws.com/forecasting-deepar:latest\", \"TrainingInputMode\": \"File\"}, \"OutputDataConfig\": {\"S3OutputPath\": \"s3://593380422482-openaq-lab/training/output\"}, \"StoppingCondition\": {\"MaxRuntimeInSeconds\": 86400}, \"ResourceConfig\": {\"InstanceCount\": 1, \"InstanceType\": \"ml.c5.xlarge\", \"VolumeSizeInGB\": 30}, \"RoleArn\": \"arn:aws:iam::593380422482:role/SageMaker-Labs-SageMakerIamRole-1IIUR9OGQ82B1\", \"InputDataConfig\": [{\"DataSource\": {\"S3DataSource\": {\"S3DataType\": \"S3Prefix\", \"S3Uri\": \"s3://593380422482-openaq-lab/preprocessing/output/all/all_features.json\", \"S3DataDistributionType\": \"FullyReplicated\"}}, \"ChannelName\": \"train\"}], \"HyperParameters\": {\"time_freq\": \"1H\", \"early_stopping_patience\": \"40\", \"prediction_length\": \"48\", \"num_eval_samples\": \"10\", \"test_quantiles\": \"[0.1, 0.2, 0.3, 0.4, 0.5, 0.6, 0.7, 0.8, 0.9]\", \"epochs\": \"400\", \"context_length\": \"3\", \"num_cells\": \"157\", \"num_layers\": \"4\", \"dropout_rate\": \"0.04\", \"embedding_dimension\": \"12\", \"mini_batch_size\": \"633\", \"learning_rate\": \"0.0005\"}, \"TrainingJobName.$\": \"$$.Execution.Input['TrainingJobName']\"}, \"Type\": \"Task\", \"End\": true, \"Catch\": [{\"ErrorEquals\": [\"States.TaskFailed\"], \"Next\": \"ML Workflow failed\"}]}, \"ML Workflow failed\": {\"Cause\": \"SageMakerProcessingJobFailed\", \"Type\": \"Fail\"}}};\n",
       "    var elementId = '#graph-602';\n",
       "    var events = { 'events': [{\"timestamp\": 1600154858.525, \"type\": \"ExecutionStarted\", \"id\": 1, \"previousEventId\": 0, \"executionStartedEventDetails\": {\"input\": \"{\\n    \\\"PreprocessingJobName\\\": \\\"aqf-preprocessing-eca4f5b6f72411ea9fc291e840047658\\\",\\n    \\\"TrainingJobName\\\": \\\"aqf-training-eca4f9a8f72411ea9fc291e840047658\\\",\\n    \\\"TuningJobName\\\": \\\"aqf-tuning-eca4fcc8f72411ea9fc291e840047658\\\",\\n    \\\"EvaluationProcessingJobName\\\": \\\"aqf-evaluation-eca4ff48f72411ea9fc291e840047658\\\"\\n}\", \"inputDetails\": {\"truncated\": false}, \"roleArn\": \"arn:aws:iam::593380422482:role/StepFunctionsWorkflowExecutionRole\"}}, {\"timestamp\": 1600154858.546, \"type\": \"TaskStateEntered\", \"id\": 2, \"previousEventId\": 0, \"stateEnteredEventDetails\": {\"name\": \"AirQualityForecasting Pre-processing Step\", \"input\": \"{\\n    \\\"PreprocessingJobName\\\": \\\"aqf-preprocessing-eca4f5b6f72411ea9fc291e840047658\\\",\\n    \\\"TrainingJobName\\\": \\\"aqf-training-eca4f9a8f72411ea9fc291e840047658\\\",\\n    \\\"TuningJobName\\\": \\\"aqf-tuning-eca4fcc8f72411ea9fc291e840047658\\\",\\n    \\\"EvaluationProcessingJobName\\\": \\\"aqf-evaluation-eca4ff48f72411ea9fc291e840047658\\\"\\n}\", \"inputDetails\": {\"truncated\": false}}}, {\"timestamp\": 1600154858.546, \"type\": \"TaskScheduled\", \"id\": 3, \"previousEventId\": 2, \"taskScheduledEventDetails\": {\"resourceType\": \"sagemaker\", \"resource\": \"createProcessingJob.sync\", \"region\": \"us-east-1\", \"parameters\": \"{\\\"ProcessingInputs\\\":[{\\\"InputName\\\":\\\"code\\\",\\\"S3Input\\\":{\\\"S3Uri\\\":\\\"s3://593380422482-openaq-lab/preprocessing/code/preprocessing.py\\\",\\\"LocalPath\\\":\\\"/opt/ml/processing/input/code\\\",\\\"S3DataType\\\":\\\"S3Prefix\\\",\\\"S3InputMode\\\":\\\"File\\\",\\\"S3DataDistributionType\\\":\\\"FullyReplicated\\\",\\\"S3CompressionType\\\":\\\"None\\\"}}],\\\"ProcessingOutputConfig\\\":{\\\"Outputs\\\":[{\\\"OutputName\\\":\\\"all_data\\\",\\\"S3Output\\\":{\\\"S3Uri\\\":\\\"s3://593380422482-openaq-lab/preprocessing/output/all\\\",\\\"LocalPath\\\":\\\"/opt/ml/processing/output/all\\\",\\\"S3UploadMode\\\":\\\"EndOfJob\\\"}},{\\\"OutputName\\\":\\\"train_data\\\",\\\"S3Output\\\":{\\\"S3Uri\\\":\\\"s3://593380422482-openaq-lab/preprocessing/output/train\\\",\\\"LocalPath\\\":\\\"/opt/ml/processing/output/train\\\",\\\"S3UploadMode\\\":\\\"EndOfJob\\\"}},{\\\"OutputName\\\":\\\"test_data\\\",\\\"S3Output\\\":{\\\"S3Uri\\\":\\\"s3://593380422482-openaq-lab/preprocessing/output/test\\\",\\\"LocalPath\\\":\\\"/opt/ml/processing/output/test\\\",\\\"S3UploadMode\\\":\\\"EndOfJob\\\"}}]},\\\"AppSpecification\\\":{\\\"ImageUri\\\":\\\"593380422482.dkr.ecr.us-east-1.amazonaws.com/aq-forecasting-processing-container:latest\\\",\\\"ContainerArguments\\\":[\\\"--split-days\\\",\\\"30\\\"],\\\"ContainerEntrypoint\\\":[\\\"python3\\\",\\\"/opt/ml/processing/input/code/preprocessing.py\\\"]},\\\"RoleArn\\\":\\\"arn:aws:iam::593380422482:role/SageMaker-Labs-SageMakerIamRole-1IIUR9OGQ82B1\\\",\\\"ProcessingResources\\\":{\\\"ClusterConfig\\\":{\\\"InstanceCount\\\":1,\\\"InstanceType\\\":\\\"ml.m5.xlarge\\\",\\\"VolumeSizeInGB\\\":30}},\\\"StoppingCondition\\\":{\\\"MaxRuntimeInSeconds\\\":1200},\\\"ProcessingJobName\\\":\\\"aqf-preprocessing-eca4f5b6f72411ea9fc291e840047658\\\",\\\"Tags\\\":[{\\\"Key\\\":\\\"MANAGED_BY_AWS\\\",\\\"Value\\\":\\\"STARTED_BY_STEP_FUNCTIONS\\\"}]}\"}}, {\"timestamp\": 1600154858.58, \"type\": \"TaskStarted\", \"id\": 4, \"previousEventId\": 3, \"taskStartedEventDetails\": {\"resourceType\": \"sagemaker\", \"resource\": \"createProcessingJob.sync\"}}, {\"timestamp\": 1600154858.772, \"type\": \"TaskSubmitted\", \"id\": 5, \"previousEventId\": 4, \"taskSubmittedEventDetails\": {\"resourceType\": \"sagemaker\", \"resource\": \"createProcessingJob.sync\", \"output\": \"{\\\"ProcessingJobArn\\\":\\\"arn:aws:sagemaker:us-east-1:593380422482:processing-job/aqf-preprocessing-eca4f5b6f72411ea9fc291e840047658\\\",\\\"SdkHttpMetadata\\\":{\\\"AllHttpHeaders\\\":{\\\"x-amzn-RequestId\\\":[\\\"54c6df99-c807-4ef2-bb95-3f4a6e02275d\\\"],\\\"Content-Length\\\":[\\\"129\\\"],\\\"Date\\\":[\\\"Tue, 15 Sep 2020 07:27:38 GMT\\\"],\\\"Content-Type\\\":[\\\"application/x-amz-json-1.1\\\"]},\\\"HttpHeaders\\\":{\\\"Content-Length\\\":\\\"129\\\",\\\"Content-Type\\\":\\\"application/x-amz-json-1.1\\\",\\\"Date\\\":\\\"Tue, 15 Sep 2020 07:27:38 GMT\\\",\\\"x-amzn-RequestId\\\":\\\"54c6df99-c807-4ef2-bb95-3f4a6e02275d\\\"},\\\"HttpStatusCode\\\":200},\\\"SdkResponseMetadata\\\":{\\\"RequestId\\\":\\\"54c6df99-c807-4ef2-bb95-3f4a6e02275d\\\"}}\", \"outputDetails\": {\"truncated\": false}}}, {\"timestamp\": 1600155132.853, \"type\": \"TaskSucceeded\", \"id\": 6, \"previousEventId\": 5, \"taskSucceededEventDetails\": {\"resourceType\": \"sagemaker\", \"resource\": \"createProcessingJob.sync\", \"output\": \"{\\\"ProcessingInputs\\\":[{\\\"InputName\\\":\\\"code\\\",\\\"S3Input\\\":{\\\"S3Uri\\\":\\\"s3://593380422482-openaq-lab/preprocessing/code/preprocessing.py\\\",\\\"LocalPath\\\":\\\"/opt/ml/processing/input/code\\\",\\\"S3DataType\\\":\\\"S3_PREFIX\\\",\\\"S3InputMode\\\":\\\"FILE\\\",\\\"S3DataDistributionType\\\":\\\"FULLYREPLICATED\\\"}}],\\\"ProcessingOutputConfig\\\":{\\\"Outputs\\\":[{\\\"OutputName\\\":\\\"all_data\\\",\\\"S3Output\\\":{\\\"S3Uri\\\":\\\"s3://593380422482-openaq-lab/preprocessing/output/all\\\",\\\"LocalPath\\\":\\\"/opt/ml/processing/output/all\\\",\\\"S3UploadMode\\\":\\\"END_OF_JOB\\\"}},{\\\"OutputName\\\":\\\"train_data\\\",\\\"S3Output\\\":{\\\"S3Uri\\\":\\\"s3://593380422482-openaq-lab/preprocessing/output/train\\\",\\\"LocalPath\\\":\\\"/opt/ml/processing/output/train\\\",\\\"S3UploadMode\\\":\\\"END_OF_JOB\\\"}},{\\\"OutputName\\\":\\\"test_data\\\",\\\"S3Output\\\":{\\\"S3Uri\\\":\\\"s3://593380422482-openaq-lab/preprocessing/output/test\\\",\\\"LocalPath\\\":\\\"/opt/ml/processing/output/test\\\",\\\"S3UploadMode\\\":\\\"END_OF_JOB\\\"}}]},\\\"ProcessingJobName\\\":\\\"aqf-preprocessing-eca4f5b6f72411ea9fc291e840047658\\\",\\\"ProcessingResources\\\":{\\\"ClusterConfig\\\":{\\\"InstanceCount\\\":1.0,\\\"InstanceType\\\":\\\"ml.m5.xlarge\\\",\\\"VolumeSizeInGB\\\":30.0}},\\\"StoppingCondition\\\":{\\\"MaxRuntimeInSeconds\\\":1200.0},\\\"AppSpecification\\\":{\\\"ImageUri\\\":\\\"593380422482.dkr.ecr.us-east-1.amazonaws.com/aq-forecasting-processing-container:latest\\\",\\\"ContainerEntrypoint\\\":[\\\"python3\\\",\\\"/opt/ml/processing/input/code/preprocessing.py\\\"],\\\"ContainerArguments\\\":[\\\"--split-days\\\",\\\"30\\\"]},\\\"RoleArn\\\":\\\"arn:aws:iam::593380422482:role/SageMaker-Labs-SageMakerIamRole-1IIUR9OGQ82B1\\\",\\\"ExperimentConfig\\\":{},\\\"ProcessingJobArn\\\":\\\"arn:aws:sagemaker:us-east-1:593380422482:processing-job/aqf-preprocessing-eca4f5b6f72411ea9fc291e840047658\\\",\\\"ProcessingJobStatus\\\":\\\"Completed\\\",\\\"ProcessingEndTime\\\":1.600155126E12,\\\"ProcessingStartTime\\\":1.600155063E12,\\\"LastModifiedTime\\\":1.600155126E12,\\\"CreationTime\\\":1.600154858E12,\\\"Tags\\\":{\\\"AWS_STEP_FUNCTIONS_EXECUTION_ARN\\\":\\\"arn:aws:states:us-east-1:593380422482:execution:AirQualityForecastingWorkflow2:d189d566-ed63-4eb2-b2d1-81b5f8a164b1\\\",\\\"MANAGED_BY_AWS\\\":\\\"STARTED_BY_STEP_FUNCTIONS\\\"}}\", \"outputDetails\": {\"truncated\": false}}}, {\"timestamp\": 1600155132.853, \"type\": \"TaskStateExited\", \"id\": 7, \"previousEventId\": 6, \"stateExitedEventDetails\": {\"name\": \"AirQualityForecasting Pre-processing Step\", \"output\": \"{\\\"ProcessingInputs\\\":[{\\\"InputName\\\":\\\"code\\\",\\\"S3Input\\\":{\\\"S3Uri\\\":\\\"s3://593380422482-openaq-lab/preprocessing/code/preprocessing.py\\\",\\\"LocalPath\\\":\\\"/opt/ml/processing/input/code\\\",\\\"S3DataType\\\":\\\"S3_PREFIX\\\",\\\"S3InputMode\\\":\\\"FILE\\\",\\\"S3DataDistributionType\\\":\\\"FULLYREPLICATED\\\"}}],\\\"ProcessingOutputConfig\\\":{\\\"Outputs\\\":[{\\\"OutputName\\\":\\\"all_data\\\",\\\"S3Output\\\":{\\\"S3Uri\\\":\\\"s3://593380422482-openaq-lab/preprocessing/output/all\\\",\\\"LocalPath\\\":\\\"/opt/ml/processing/output/all\\\",\\\"S3UploadMode\\\":\\\"END_OF_JOB\\\"}},{\\\"OutputName\\\":\\\"train_data\\\",\\\"S3Output\\\":{\\\"S3Uri\\\":\\\"s3://593380422482-openaq-lab/preprocessing/output/train\\\",\\\"LocalPath\\\":\\\"/opt/ml/processing/output/train\\\",\\\"S3UploadMode\\\":\\\"END_OF_JOB\\\"}},{\\\"OutputName\\\":\\\"test_data\\\",\\\"S3Output\\\":{\\\"S3Uri\\\":\\\"s3://593380422482-openaq-lab/preprocessing/output/test\\\",\\\"LocalPath\\\":\\\"/opt/ml/processing/output/test\\\",\\\"S3UploadMode\\\":\\\"END_OF_JOB\\\"}}]},\\\"ProcessingJobName\\\":\\\"aqf-preprocessing-eca4f5b6f72411ea9fc291e840047658\\\",\\\"ProcessingResources\\\":{\\\"ClusterConfig\\\":{\\\"InstanceCount\\\":1.0,\\\"InstanceType\\\":\\\"ml.m5.xlarge\\\",\\\"VolumeSizeInGB\\\":30.0}},\\\"StoppingCondition\\\":{\\\"MaxRuntimeInSeconds\\\":1200.0},\\\"AppSpecification\\\":{\\\"ImageUri\\\":\\\"593380422482.dkr.ecr.us-east-1.amazonaws.com/aq-forecasting-processing-container:latest\\\",\\\"ContainerEntrypoint\\\":[\\\"python3\\\",\\\"/opt/ml/processing/input/code/preprocessing.py\\\"],\\\"ContainerArguments\\\":[\\\"--split-days\\\",\\\"30\\\"]},\\\"RoleArn\\\":\\\"arn:aws:iam::593380422482:role/SageMaker-Labs-SageMakerIamRole-1IIUR9OGQ82B1\\\",\\\"ExperimentConfig\\\":{},\\\"ProcessingJobArn\\\":\\\"arn:aws:sagemaker:us-east-1:593380422482:processing-job/aqf-preprocessing-eca4f5b6f72411ea9fc291e840047658\\\",\\\"ProcessingJobStatus\\\":\\\"Completed\\\",\\\"ProcessingEndTime\\\":1.600155126E12,\\\"ProcessingStartTime\\\":1.600155063E12,\\\"LastModifiedTime\\\":1.600155126E12,\\\"CreationTime\\\":1.600154858E12,\\\"Tags\\\":{\\\"AWS_STEP_FUNCTIONS_EXECUTION_ARN\\\":\\\"arn:aws:states:us-east-1:593380422482:execution:AirQualityForecastingWorkflow2:d189d566-ed63-4eb2-b2d1-81b5f8a164b1\\\",\\\"MANAGED_BY_AWS\\\":\\\"STARTED_BY_STEP_FUNCTIONS\\\"}}\", \"outputDetails\": {\"truncated\": false}}}, {\"timestamp\": 1600155132.862, \"type\": \"TaskStateEntered\", \"id\": 8, \"previousEventId\": 7, \"stateEnteredEventDetails\": {\"name\": \"AirQualityForecasting Training Step\", \"input\": \"{\\\"ProcessingInputs\\\":[{\\\"InputName\\\":\\\"code\\\",\\\"S3Input\\\":{\\\"S3Uri\\\":\\\"s3://593380422482-openaq-lab/preprocessing/code/preprocessing.py\\\",\\\"LocalPath\\\":\\\"/opt/ml/processing/input/code\\\",\\\"S3DataType\\\":\\\"S3_PREFIX\\\",\\\"S3InputMode\\\":\\\"FILE\\\",\\\"S3DataDistributionType\\\":\\\"FULLYREPLICATED\\\"}}],\\\"ProcessingOutputConfig\\\":{\\\"Outputs\\\":[{\\\"OutputName\\\":\\\"all_data\\\",\\\"S3Output\\\":{\\\"S3Uri\\\":\\\"s3://593380422482-openaq-lab/preprocessing/output/all\\\",\\\"LocalPath\\\":\\\"/opt/ml/processing/output/all\\\",\\\"S3UploadMode\\\":\\\"END_OF_JOB\\\"}},{\\\"OutputName\\\":\\\"train_data\\\",\\\"S3Output\\\":{\\\"S3Uri\\\":\\\"s3://593380422482-openaq-lab/preprocessing/output/train\\\",\\\"LocalPath\\\":\\\"/opt/ml/processing/output/train\\\",\\\"S3UploadMode\\\":\\\"END_OF_JOB\\\"}},{\\\"OutputName\\\":\\\"test_data\\\",\\\"S3Output\\\":{\\\"S3Uri\\\":\\\"s3://593380422482-openaq-lab/preprocessing/output/test\\\",\\\"LocalPath\\\":\\\"/opt/ml/processing/output/test\\\",\\\"S3UploadMode\\\":\\\"END_OF_JOB\\\"}}]},\\\"ProcessingJobName\\\":\\\"aqf-preprocessing-eca4f5b6f72411ea9fc291e840047658\\\",\\\"ProcessingResources\\\":{\\\"ClusterConfig\\\":{\\\"InstanceCount\\\":1.0,\\\"InstanceType\\\":\\\"ml.m5.xlarge\\\",\\\"VolumeSizeInGB\\\":30.0}},\\\"StoppingCondition\\\":{\\\"MaxRuntimeInSeconds\\\":1200.0},\\\"AppSpecification\\\":{\\\"ImageUri\\\":\\\"593380422482.dkr.ecr.us-east-1.amazonaws.com/aq-forecasting-processing-container:latest\\\",\\\"ContainerEntrypoint\\\":[\\\"python3\\\",\\\"/opt/ml/processing/input/code/preprocessing.py\\\"],\\\"ContainerArguments\\\":[\\\"--split-days\\\",\\\"30\\\"]},\\\"RoleArn\\\":\\\"arn:aws:iam::593380422482:role/SageMaker-Labs-SageMakerIamRole-1IIUR9OGQ82B1\\\",\\\"ExperimentConfig\\\":{},\\\"ProcessingJobArn\\\":\\\"arn:aws:sagemaker:us-east-1:593380422482:processing-job/aqf-preprocessing-eca4f5b6f72411ea9fc291e840047658\\\",\\\"ProcessingJobStatus\\\":\\\"Completed\\\",\\\"ProcessingEndTime\\\":1.600155126E12,\\\"ProcessingStartTime\\\":1.600155063E12,\\\"LastModifiedTime\\\":1.600155126E12,\\\"CreationTime\\\":1.600154858E12,\\\"Tags\\\":{\\\"AWS_STEP_FUNCTIONS_EXECUTION_ARN\\\":\\\"arn:aws:states:us-east-1:593380422482:execution:AirQualityForecastingWorkflow2:d189d566-ed63-4eb2-b2d1-81b5f8a164b1\\\",\\\"MANAGED_BY_AWS\\\":\\\"STARTED_BY_STEP_FUNCTIONS\\\"}}\", \"inputDetails\": {\"truncated\": false}}}, {\"timestamp\": 1600155132.862, \"type\": \"TaskScheduled\", \"id\": 9, \"previousEventId\": 8, \"taskScheduledEventDetails\": {\"resourceType\": \"sagemaker\", \"resource\": \"createTrainingJob.sync\", \"region\": \"us-east-1\", \"parameters\": \"{\\\"AlgorithmSpecification\\\":{\\\"TrainingImage\\\":\\\"522234722520.dkr.ecr.us-east-1.amazonaws.com/forecasting-deepar:latest\\\",\\\"TrainingInputMode\\\":\\\"File\\\"},\\\"OutputDataConfig\\\":{\\\"S3OutputPath\\\":\\\"s3://593380422482-openaq-lab/training/output\\\"},\\\"StoppingCondition\\\":{\\\"MaxRuntimeInSeconds\\\":86400},\\\"ResourceConfig\\\":{\\\"InstanceCount\\\":1,\\\"InstanceType\\\":\\\"ml.c5.xlarge\\\",\\\"VolumeSizeInGB\\\":30},\\\"RoleArn\\\":\\\"arn:aws:iam::593380422482:role/SageMaker-Labs-SageMakerIamRole-1IIUR9OGQ82B1\\\",\\\"InputDataConfig\\\":[{\\\"DataSource\\\":{\\\"S3DataSource\\\":{\\\"S3DataType\\\":\\\"S3Prefix\\\",\\\"S3Uri\\\":\\\"s3://593380422482-openaq-lab/preprocessing/output/all/all_features.json\\\",\\\"S3DataDistributionType\\\":\\\"FullyReplicated\\\"}},\\\"ChannelName\\\":\\\"train\\\"}],\\\"HyperParameters\\\":{\\\"time_freq\\\":\\\"1H\\\",\\\"early_stopping_patience\\\":\\\"40\\\",\\\"prediction_length\\\":\\\"48\\\",\\\"num_eval_samples\\\":\\\"10\\\",\\\"test_quantiles\\\":\\\"[0.1, 0.2, 0.3, 0.4, 0.5, 0.6, 0.7, 0.8, 0.9]\\\",\\\"epochs\\\":\\\"400\\\",\\\"context_length\\\":\\\"3\\\",\\\"num_cells\\\":\\\"157\\\",\\\"num_layers\\\":\\\"4\\\",\\\"dropout_rate\\\":\\\"0.04\\\",\\\"embedding_dimension\\\":\\\"12\\\",\\\"mini_batch_size\\\":\\\"633\\\",\\\"learning_rate\\\":\\\"0.0005\\\"},\\\"TrainingJobName\\\":\\\"aqf-training-eca4f9a8f72411ea9fc291e840047658\\\",\\\"Tags\\\":[{\\\"Key\\\":\\\"MANAGED_BY_AWS\\\",\\\"Value\\\":\\\"STARTED_BY_STEP_FUNCTIONS\\\"}]}\"}}, {\"timestamp\": 1600155132.875, \"type\": \"TaskStarted\", \"id\": 10, \"previousEventId\": 9, \"taskStartedEventDetails\": {\"resourceType\": \"sagemaker\", \"resource\": \"createTrainingJob.sync\"}}, {\"timestamp\": 1600155133.067, \"type\": \"TaskSubmitted\", \"id\": 11, \"previousEventId\": 10, \"taskSubmittedEventDetails\": {\"resourceType\": \"sagemaker\", \"resource\": \"createTrainingJob.sync\", \"output\": \"{\\\"SdkHttpMetadata\\\":{\\\"AllHttpHeaders\\\":{\\\"x-amzn-RequestId\\\":[\\\"0ac89e1f-593f-4ef8-826c-431f42064d6f\\\"],\\\"Content-Length\\\":[\\\"120\\\"],\\\"Date\\\":[\\\"Tue, 15 Sep 2020 07:32:12 GMT\\\"],\\\"Content-Type\\\":[\\\"application/x-amz-json-1.1\\\"]},\\\"HttpHeaders\\\":{\\\"Content-Length\\\":\\\"120\\\",\\\"Content-Type\\\":\\\"application/x-amz-json-1.1\\\",\\\"Date\\\":\\\"Tue, 15 Sep 2020 07:32:12 GMT\\\",\\\"x-amzn-RequestId\\\":\\\"0ac89e1f-593f-4ef8-826c-431f42064d6f\\\"},\\\"HttpStatusCode\\\":200},\\\"SdkResponseMetadata\\\":{\\\"RequestId\\\":\\\"0ac89e1f-593f-4ef8-826c-431f42064d6f\\\"},\\\"TrainingJobArn\\\":\\\"arn:aws:sagemaker:us-east-1:593380422482:training-job/aqf-training-eca4f9a8f72411ea9fc291e840047658\\\"}\", \"outputDetails\": {\"truncated\": false}}}, {\"timestamp\": 1600155332.673, \"type\": \"TaskFailed\", \"id\": 12, \"previousEventId\": 11, \"taskFailedEventDetails\": {\"resourceType\": \"sagemaker\", \"resource\": \"createTrainingJob.sync\", \"error\": \"States.TaskFailed\", \"cause\": \"{\\\"TrainingJobName\\\":\\\"aqf-training-eca4f9a8f72411ea9fc291e840047658\\\",\\\"TrainingJobArn\\\":\\\"arn:aws:sagemaker:us-east-1:593380422482:training-job/aqf-training-eca4f9a8f72411ea9fc291e840047658\\\",\\\"ModelArtifacts\\\":{\\\"S3ModelArtifacts\\\":\\\"s3://593380422482-openaq-lab/training/output/aqf-training-eca4f9a8f72411ea9fc291e840047658/output/model.tar.gz\\\"},\\\"TrainingJobStatus\\\":\\\"Failed\\\",\\\"SecondaryStatus\\\":\\\"Failed\\\",\\\"FailureReason\\\":\\\"OutOfMemoryError: Please use an instance type with more memory, or reduce the size of training data processed on an instance.\\\",\\\"HyperParameters\\\":{\\\"prediction_length\\\":\\\"48\\\",\\\"dropout_rate\\\":\\\"0.04\\\",\\\"test_quantiles\\\":\\\"[0.1, 0.2, 0.3, 0.4, 0.5, 0.6, 0.7, 0.8, 0.9]\\\",\\\"time_freq\\\":\\\"1H\\\",\\\"context_length\\\":\\\"3\\\",\\\"embedding_dimension\\\":\\\"12\\\",\\\"early_stopping_patience\\\":\\\"40\\\",\\\"num_cells\\\":\\\"157\\\",\\\"num_eval_samples\\\":\\\"10\\\",\\\"num_layers\\\":\\\"4\\\",\\\"epochs\\\":\\\"400\\\",\\\"learning_rate\\\":\\\"0.0005\\\",\\\"mini_batch_size\\\":\\\"633\\\"},\\\"AlgorithmSpecification\\\":{\\\"TrainingImage\\\":\\\"522234722520.dkr.ecr.us-east-1.amazonaws.com/forecasting-deepar:latest\\\",\\\"TrainingInputMode\\\":\\\"FILE\\\"},\\\"RoleArn\\\":\\\"arn:aws:iam::593380422482:role/SageMaker-Labs-SageMakerIamRole-1IIUR9OGQ82B1\\\",\\\"InputDataConfig\\\":[{\\\"ChannelName\\\":\\\"train\\\",\\\"DataSource\\\":{\\\"S3DataSource\\\":{\\\"S3DataType\\\":\\\"S3_PREFIX\\\",\\\"S3Uri\\\":\\\"s3://593380422482-openaq-lab/preprocessing/output/all/all_features.json\\\",\\\"S3DataDistributionType\\\":\\\"FULLY_REPLICATED\\\"}},\\\"CompressionType\\\":\\\"NONE\\\",\\\"RecordWrapperType\\\":\\\"NONE\\\"}],\\\"OutputDataConfig\\\":{\\\"S3OutputPath\\\":\\\"s3://593380422482-openaq-lab/training/output\\\"},\\\"ResourceConfig\\\":{\\\"InstanceType\\\":\\\"ml.c5.xlarge\\\",\\\"InstanceCount\\\":1.0,\\\"VolumeSizeInGB\\\":30.0},\\\"StoppingCondition\\\":{\\\"MaxRuntimeInSeconds\\\":86400.0},\\\"CreationTime\\\":1.60015513304E12,\\\"TrainingStartTime\\\":1.600155243824E12,\\\"TrainingEndTime\\\":1.600155327092E12,\\\"LastModifiedTime\\\":1.600155327092E12,\\\"SecondaryStatusTransitions\\\":[{\\\"Status\\\":\\\"Starting\\\",\\\"StartTime\\\":1.60015513304E12,\\\"EndTime\\\":1.600155243824E12,\\\"StatusMessage\\\":\\\"Preparing the instances for training\\\"},{\\\"Status\\\":\\\"Downloading\\\",\\\"StartTime\\\":1.600155243824E12,\\\"EndTime\\\":1.600155265119E12,\\\"StatusMessage\\\":\\\"Downloading input data\\\"},{\\\"Status\\\":\\\"Training\\\",\\\"StartTime\\\":1.600155265119E12,\\\"EndTime\\\":1.60015532063E12,\\\"StatusMessage\\\":\\\"Training image download completed. Training in progress.\\\"},{\\\"Status\\\":\\\"Uploading\\\",\\\"StartTime\\\":1.60015532063E12,\\\"EndTime\\\":1.600155327092E12,\\\"StatusMessage\\\":\\\"Uploading generated training model\\\"},{\\\"Status\\\":\\\"Failed\\\",\\\"StartTime\\\":1.600155327092E12,\\\"EndTime\\\":1.600155327092E12,\\\"StatusMessage\\\":\\\"Training job failed\\\"}],\\\"Tags\\\":{\\\"AWS_STEP_FUNCTIONS_EXECUTION_ARN\\\":\\\"arn:aws:states:us-east-1:593380422482:execution:AirQualityForecastingWorkflow2:d189d566-ed63-4eb2-b2d1-81b5f8a164b1\\\",\\\"MANAGED_BY_AWS\\\":\\\"STARTED_BY_STEP_FUNCTIONS\\\"}}\"}}, {\"timestamp\": 1600155332.673, \"type\": \"TaskStateExited\", \"id\": 13, \"previousEventId\": 12, \"stateExitedEventDetails\": {\"name\": \"AirQualityForecasting Training Step\", \"output\": \"{\\\"Error\\\":\\\"States.TaskFailed\\\",\\\"Cause\\\":\\\"{\\\\\\\"TrainingJobName\\\\\\\":\\\\\\\"aqf-training-eca4f9a8f72411ea9fc291e840047658\\\\\\\",\\\\\\\"TrainingJobArn\\\\\\\":\\\\\\\"arn:aws:sagemaker:us-east-1:593380422482:training-job/aqf-training-eca4f9a8f72411ea9fc291e840047658\\\\\\\",\\\\\\\"ModelArtifacts\\\\\\\":{\\\\\\\"S3ModelArtifacts\\\\\\\":\\\\\\\"s3://593380422482-openaq-lab/training/output/aqf-training-eca4f9a8f72411ea9fc291e840047658/output/model.tar.gz\\\\\\\"},\\\\\\\"TrainingJobStatus\\\\\\\":\\\\\\\"Failed\\\\\\\",\\\\\\\"SecondaryStatus\\\\\\\":\\\\\\\"Failed\\\\\\\",\\\\\\\"FailureReason\\\\\\\":\\\\\\\"OutOfMemoryError: Please use an instance type with more memory, or reduce the size of training data processed on an instance.\\\\\\\",\\\\\\\"HyperParameters\\\\\\\":{\\\\\\\"prediction_length\\\\\\\":\\\\\\\"48\\\\\\\",\\\\\\\"dropout_rate\\\\\\\":\\\\\\\"0.04\\\\\\\",\\\\\\\"test_quantiles\\\\\\\":\\\\\\\"[0.1, 0.2, 0.3, 0.4, 0.5, 0.6, 0.7, 0.8, 0.9]\\\\\\\",\\\\\\\"time_freq\\\\\\\":\\\\\\\"1H\\\\\\\",\\\\\\\"context_length\\\\\\\":\\\\\\\"3\\\\\\\",\\\\\\\"embedding_dimension\\\\\\\":\\\\\\\"12\\\\\\\",\\\\\\\"early_stopping_patience\\\\\\\":\\\\\\\"40\\\\\\\",\\\\\\\"num_cells\\\\\\\":\\\\\\\"157\\\\\\\",\\\\\\\"num_eval_samples\\\\\\\":\\\\\\\"10\\\\\\\",\\\\\\\"num_layers\\\\\\\":\\\\\\\"4\\\\\\\",\\\\\\\"epochs\\\\\\\":\\\\\\\"400\\\\\\\",\\\\\\\"learning_rate\\\\\\\":\\\\\\\"0.0005\\\\\\\",\\\\\\\"mini_batch_size\\\\\\\":\\\\\\\"633\\\\\\\"},\\\\\\\"AlgorithmSpecification\\\\\\\":{\\\\\\\"TrainingImage\\\\\\\":\\\\\\\"522234722520.dkr.ecr.us-east-1.amazonaws.com/forecasting-deepar:latest\\\\\\\",\\\\\\\"TrainingInputMode\\\\\\\":\\\\\\\"FILE\\\\\\\"},\\\\\\\"RoleArn\\\\\\\":\\\\\\\"arn:aws:iam::593380422482:role/SageMaker-Labs-SageMakerIamRole-1IIUR9OGQ82B1\\\\\\\",\\\\\\\"InputDataConfig\\\\\\\":[{\\\\\\\"ChannelName\\\\\\\":\\\\\\\"train\\\\\\\",\\\\\\\"DataSource\\\\\\\":{\\\\\\\"S3DataSource\\\\\\\":{\\\\\\\"S3DataType\\\\\\\":\\\\\\\"S3_PREFIX\\\\\\\",\\\\\\\"S3Uri\\\\\\\":\\\\\\\"s3://593380422482-openaq-lab/preprocessing/output/all/all_features.json\\\\\\\",\\\\\\\"S3DataDistributionType\\\\\\\":\\\\\\\"FULLY_REPLICATED\\\\\\\"}},\\\\\\\"CompressionType\\\\\\\":\\\\\\\"NONE\\\\\\\",\\\\\\\"RecordWrapperType\\\\\\\":\\\\\\\"NONE\\\\\\\"}],\\\\\\\"OutputDataConfig\\\\\\\":{\\\\\\\"S3OutputPath\\\\\\\":\\\\\\\"s3://593380422482-openaq-lab/training/output\\\\\\\"},\\\\\\\"ResourceConfig\\\\\\\":{\\\\\\\"InstanceType\\\\\\\":\\\\\\\"ml.c5.xlarge\\\\\\\",\\\\\\\"InstanceCount\\\\\\\":1.0,\\\\\\\"VolumeSizeInGB\\\\\\\":30.0},\\\\\\\"StoppingCondition\\\\\\\":{\\\\\\\"MaxRuntimeInSeconds\\\\\\\":86400.0},\\\\\\\"CreationTime\\\\\\\":1.60015513304E12,\\\\\\\"TrainingStartTime\\\\\\\":1.600155243824E12,\\\\\\\"TrainingEndTime\\\\\\\":1.600155327092E12,\\\\\\\"LastModifiedTime\\\\\\\":1.600155327092E12,\\\\\\\"SecondaryStatusTransitions\\\\\\\":[{\\\\\\\"Status\\\\\\\":\\\\\\\"Starting\\\\\\\",\\\\\\\"StartTime\\\\\\\":1.60015513304E12,\\\\\\\"EndTime\\\\\\\":1.600155243824E12,\\\\\\\"StatusMessage\\\\\\\":\\\\\\\"Preparing the instances for training\\\\\\\"},{\\\\\\\"Status\\\\\\\":\\\\\\\"Downloading\\\\\\\",\\\\\\\"StartTime\\\\\\\":1.600155243824E12,\\\\\\\"EndTime\\\\\\\":1.600155265119E12,\\\\\\\"StatusMessage\\\\\\\":\\\\\\\"Downloading input data\\\\\\\"},{\\\\\\\"Status\\\\\\\":\\\\\\\"Training\\\\\\\",\\\\\\\"StartTime\\\\\\\":1.600155265119E12,\\\\\\\"EndTime\\\\\\\":1.60015532063E12,\\\\\\\"StatusMessage\\\\\\\":\\\\\\\"Training image download completed. Training in progress.\\\\\\\"},{\\\\\\\"Status\\\\\\\":\\\\\\\"Uploading\\\\\\\",\\\\\\\"StartTime\\\\\\\":1.60015532063E12,\\\\\\\"EndTime\\\\\\\":1.600155327092E12,\\\\\\\"StatusMessage\\\\\\\":\\\\\\\"Uploading generated training model\\\\\\\"},{\\\\\\\"Status\\\\\\\":\\\\\\\"Failed\\\\\\\",\\\\\\\"StartTime\\\\\\\":1.600155327092E12,\\\\\\\"EndTime\\\\\\\":1.600155327092E12,\\\\\\\"StatusMessage\\\\\\\":\\\\\\\"Training job failed\\\\\\\"}],\\\\\\\"Tags\\\\\\\":{\\\\\\\"AWS_STEP_FUNCTIONS_EXECUTION_ARN\\\\\\\":\\\\\\\"arn:aws:states:us-east-1:593380422482:execution:AirQualityForecastingWorkflow2:d189d566-ed63-4eb2-b2d1-81b5f8a164b1\\\\\\\",\\\\\\\"MANAGED_BY_AWS\\\\\\\":\\\\\\\"STARTED_BY_STEP_FUNCTIONS\\\\\\\"}}\\\"}\", \"outputDetails\": {\"truncated\": false}}}, {\"timestamp\": 1600155332.686, \"type\": \"FailStateEntered\", \"id\": 14, \"previousEventId\": 13, \"stateEnteredEventDetails\": {\"name\": \"ML Workflow failed\", \"input\": \"{\\\"Error\\\":\\\"States.TaskFailed\\\",\\\"Cause\\\":\\\"{\\\\\\\"TrainingJobName\\\\\\\":\\\\\\\"aqf-training-eca4f9a8f72411ea9fc291e840047658\\\\\\\",\\\\\\\"TrainingJobArn\\\\\\\":\\\\\\\"arn:aws:sagemaker:us-east-1:593380422482:training-job/aqf-training-eca4f9a8f72411ea9fc291e840047658\\\\\\\",\\\\\\\"ModelArtifacts\\\\\\\":{\\\\\\\"S3ModelArtifacts\\\\\\\":\\\\\\\"s3://593380422482-openaq-lab/training/output/aqf-training-eca4f9a8f72411ea9fc291e840047658/output/model.tar.gz\\\\\\\"},\\\\\\\"TrainingJobStatus\\\\\\\":\\\\\\\"Failed\\\\\\\",\\\\\\\"SecondaryStatus\\\\\\\":\\\\\\\"Failed\\\\\\\",\\\\\\\"FailureReason\\\\\\\":\\\\\\\"OutOfMemoryError: Please use an instance type with more memory, or reduce the size of training data processed on an instance.\\\\\\\",\\\\\\\"HyperParameters\\\\\\\":{\\\\\\\"prediction_length\\\\\\\":\\\\\\\"48\\\\\\\",\\\\\\\"dropout_rate\\\\\\\":\\\\\\\"0.04\\\\\\\",\\\\\\\"test_quantiles\\\\\\\":\\\\\\\"[0.1, 0.2, 0.3, 0.4, 0.5, 0.6, 0.7, 0.8, 0.9]\\\\\\\",\\\\\\\"time_freq\\\\\\\":\\\\\\\"1H\\\\\\\",\\\\\\\"context_length\\\\\\\":\\\\\\\"3\\\\\\\",\\\\\\\"embedding_dimension\\\\\\\":\\\\\\\"12\\\\\\\",\\\\\\\"early_stopping_patience\\\\\\\":\\\\\\\"40\\\\\\\",\\\\\\\"num_cells\\\\\\\":\\\\\\\"157\\\\\\\",\\\\\\\"num_eval_samples\\\\\\\":\\\\\\\"10\\\\\\\",\\\\\\\"num_layers\\\\\\\":\\\\\\\"4\\\\\\\",\\\\\\\"epochs\\\\\\\":\\\\\\\"400\\\\\\\",\\\\\\\"learning_rate\\\\\\\":\\\\\\\"0.0005\\\\\\\",\\\\\\\"mini_batch_size\\\\\\\":\\\\\\\"633\\\\\\\"},\\\\\\\"AlgorithmSpecification\\\\\\\":{\\\\\\\"TrainingImage\\\\\\\":\\\\\\\"522234722520.dkr.ecr.us-east-1.amazonaws.com/forecasting-deepar:latest\\\\\\\",\\\\\\\"TrainingInputMode\\\\\\\":\\\\\\\"FILE\\\\\\\"},\\\\\\\"RoleArn\\\\\\\":\\\\\\\"arn:aws:iam::593380422482:role/SageMaker-Labs-SageMakerIamRole-1IIUR9OGQ82B1\\\\\\\",\\\\\\\"InputDataConfig\\\\\\\":[{\\\\\\\"ChannelName\\\\\\\":\\\\\\\"train\\\\\\\",\\\\\\\"DataSource\\\\\\\":{\\\\\\\"S3DataSource\\\\\\\":{\\\\\\\"S3DataType\\\\\\\":\\\\\\\"S3_PREFIX\\\\\\\",\\\\\\\"S3Uri\\\\\\\":\\\\\\\"s3://593380422482-openaq-lab/preprocessing/output/all/all_features.json\\\\\\\",\\\\\\\"S3DataDistributionType\\\\\\\":\\\\\\\"FULLY_REPLICATED\\\\\\\"}},\\\\\\\"CompressionType\\\\\\\":\\\\\\\"NONE\\\\\\\",\\\\\\\"RecordWrapperType\\\\\\\":\\\\\\\"NONE\\\\\\\"}],\\\\\\\"OutputDataConfig\\\\\\\":{\\\\\\\"S3OutputPath\\\\\\\":\\\\\\\"s3://593380422482-openaq-lab/training/output\\\\\\\"},\\\\\\\"ResourceConfig\\\\\\\":{\\\\\\\"InstanceType\\\\\\\":\\\\\\\"ml.c5.xlarge\\\\\\\",\\\\\\\"InstanceCount\\\\\\\":1.0,\\\\\\\"VolumeSizeInGB\\\\\\\":30.0},\\\\\\\"StoppingCondition\\\\\\\":{\\\\\\\"MaxRuntimeInSeconds\\\\\\\":86400.0},\\\\\\\"CreationTime\\\\\\\":1.60015513304E12,\\\\\\\"TrainingStartTime\\\\\\\":1.600155243824E12,\\\\\\\"TrainingEndTime\\\\\\\":1.600155327092E12,\\\\\\\"LastModifiedTime\\\\\\\":1.600155327092E12,\\\\\\\"SecondaryStatusTransitions\\\\\\\":[{\\\\\\\"Status\\\\\\\":\\\\\\\"Starting\\\\\\\",\\\\\\\"StartTime\\\\\\\":1.60015513304E12,\\\\\\\"EndTime\\\\\\\":1.600155243824E12,\\\\\\\"StatusMessage\\\\\\\":\\\\\\\"Preparing the instances for training\\\\\\\"},{\\\\\\\"Status\\\\\\\":\\\\\\\"Downloading\\\\\\\",\\\\\\\"StartTime\\\\\\\":1.600155243824E12,\\\\\\\"EndTime\\\\\\\":1.600155265119E12,\\\\\\\"StatusMessage\\\\\\\":\\\\\\\"Downloading input data\\\\\\\"},{\\\\\\\"Status\\\\\\\":\\\\\\\"Training\\\\\\\",\\\\\\\"StartTime\\\\\\\":1.600155265119E12,\\\\\\\"EndTime\\\\\\\":1.60015532063E12,\\\\\\\"StatusMessage\\\\\\\":\\\\\\\"Training image download completed. Training in progress.\\\\\\\"},{\\\\\\\"Status\\\\\\\":\\\\\\\"Uploading\\\\\\\",\\\\\\\"StartTime\\\\\\\":1.60015532063E12,\\\\\\\"EndTime\\\\\\\":1.600155327092E12,\\\\\\\"StatusMessage\\\\\\\":\\\\\\\"Uploading generated training model\\\\\\\"},{\\\\\\\"Status\\\\\\\":\\\\\\\"Failed\\\\\\\",\\\\\\\"StartTime\\\\\\\":1.600155327092E12,\\\\\\\"EndTime\\\\\\\":1.600155327092E12,\\\\\\\"StatusMessage\\\\\\\":\\\\\\\"Training job failed\\\\\\\"}],\\\\\\\"Tags\\\\\\\":{\\\\\\\"AWS_STEP_FUNCTIONS_EXECUTION_ARN\\\\\\\":\\\\\\\"arn:aws:states:us-east-1:593380422482:execution:AirQualityForecastingWorkflow2:d189d566-ed63-4eb2-b2d1-81b5f8a164b1\\\\\\\",\\\\\\\"MANAGED_BY_AWS\\\\\\\":\\\\\\\"STARTED_BY_STEP_FUNCTIONS\\\\\\\"}}\\\"}\", \"inputDetails\": {\"truncated\": false}}}, {\"timestamp\": 1600155332.686, \"type\": \"ExecutionFailed\", \"id\": 15, \"previousEventId\": 14, \"executionFailedEventDetails\": {\"cause\": \"SageMakerProcessingJobFailed\"}}] };\n",
       "\n",
       "    var graph = new sfn.StateMachineExecutionGraph(definition, events, elementId, options);\n",
       "    graph.render();\n",
       "});\n",
       "\n",
       "</script>\n"
      ],
      "text/plain": [
       "<IPython.core.display.HTML object>"
      ]
     },
     "execution_count": 45,
     "metadata": {},
     "output_type": "execute_result"
    }
   ],
   "source": [
    "execution.render_progress()"
   ]
  },
  {
   "cell_type": "code",
   "execution_count": null,
   "metadata": {},
   "outputs": [],
   "source": []
  }
 ],
 "metadata": {
  "kernelspec": {
   "display_name": "conda_python3",
   "language": "python",
   "name": "conda_python3"
  },
  "language_info": {
   "codemirror_mode": {
    "name": "ipython",
    "version": 3
   },
   "file_extension": ".py",
   "mimetype": "text/x-python",
   "name": "python",
   "nbconvert_exporter": "python",
   "pygments_lexer": "ipython3",
   "version": "3.6.10"
  }
 },
 "nbformat": 4,
 "nbformat_minor": 4
}
